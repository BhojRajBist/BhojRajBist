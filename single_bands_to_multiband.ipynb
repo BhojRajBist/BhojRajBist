{
  "nbformat": 4,
  "nbformat_minor": 0,
  "metadata": {
    "colab": {
      "provenance": [],
      "authorship_tag": "ABX9TyOu5T7eZj28tAuj50rzPg8g",
      "include_colab_link": true
    },
    "kernelspec": {
      "name": "python3",
      "display_name": "Python 3"
    },
    "language_info": {
      "name": "python"
    }
  },
  "cells": [
    {
      "cell_type": "markdown",
      "metadata": {
        "id": "view-in-github",
        "colab_type": "text"
      },
      "source": [
        "<a href=\"https://colab.research.google.com/github/BhojRajBist/BhojRajBist/blob/main/single_bands_to_multiband.ipynb\" target=\"_parent\"><img src=\"https://colab.research.google.com/assets/colab-badge.svg\" alt=\"Open In Colab\"/></a>"
      ]
    },
    {
      "cell_type": "code",
      "execution_count": null,
      "metadata": {
        "id": "WFl-ufEPMyqh"
      },
      "outputs": [],
      "source": [
        "import rasterio\n",
        "from rasterio.enums import Resampling\n",
        "import numpy as np\n",
        "\n",
        "# File paths for the single-band TIFF files\n",
        "tiff_file_1 = '/content/20240823/NCMRWF_Nepal_2024082303F01O2024082300H003R4KMC.tif'\n",
        "tiff_file_2 = '/content/20240823/NCMRWF_Nepal_2024082306F02O2024082300H006R4KMC.tif'\n",
        "\n",
        "output_file = '/content/multi_band_output.tif'\n",
        "\n",
        "]\n",
        "with rasterio.open(tiff_file_1) as src1:\n",
        "    band1 = src1.read(1)  # Read the first band\n",
        "    profile = src1.profile  # Get the metadata of the first TIFF\n",
        "\n",
        "# Read the second single-band TIFF\n",
        "with rasterio.open(tiff_file_2) as src2:\n",
        "    band2 = src2.read(1)  # Read the first band\n",
        "\n",
        "# Ensure the profiles are the same for both TIFFs\n",
        "if profile['width'] != src2.width or profile['height'] != src2.height:\n",
        "    raise ValueError('The dimensions of the input TIFF files do not match.')\n",
        "\n",
        "# Update profile for the multi-band TIFF\n",
        "profile.update(count=2)  # Update to indicate there are 2 bands\n",
        "\n",
        "# Write the multi-band TIFF\n",
        "with rasterio.open(output_file, 'w', **profile) as dst:\n",
        "    dst.write(band1, 1)  # Write the first band\n",
        "    dst.write(band2, 2)  # Write the second band\n",
        "\n",
        "print('Multi-band TIFF created successfully.')\n"
      ]
    }
  ]
}