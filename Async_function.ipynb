{
  "nbformat": 4,
  "nbformat_minor": 0,
  "metadata": {
    "colab": {
      "provenance": [],
      "authorship_tag": "ABX9TyM9FyImBuvZfb4UNJ8WGWsz",
      "include_colab_link": true
    },
    "kernelspec": {
      "name": "python3",
      "display_name": "Python 3"
    },
    "language_info": {
      "name": "python"
    }
  },
  "cells": [
    {
      "cell_type": "markdown",
      "metadata": {
        "id": "view-in-github",
        "colab_type": "text"
      },
      "source": [
        "<a href=\"https://colab.research.google.com/github/BhojRajBist/BhojRajBist/blob/main/Async_function.ipynb\" target=\"_parent\"><img src=\"https://colab.research.google.com/assets/colab-badge.svg\" alt=\"Open In Colab\"/></a>"
      ]
    },
    {
      "cell_type": "code",
      "source": [
        "!pip install asyncio"
      ],
      "metadata": {
        "colab": {
          "base_uri": "https://localhost:8080/"
        },
        "id": "u6FUCvfO_Pbg",
        "outputId": "0c2fe094-9575-46dc-8c0e-b509633f4c30"
      },
      "execution_count": 1,
      "outputs": [
        {
          "output_type": "stream",
          "name": "stdout",
          "text": [
            "Requirement already satisfied: asyncio in /usr/local/lib/python3.11/dist-packages (3.4.3)\n"
          ]
        }
      ]
    },
    {
      "cell_type": "code",
      "execution_count": 1,
      "metadata": {
        "id": "d4G6HreY_FSG"
      },
      "outputs": [],
      "source": [
        "async def my_function():\n",
        "    await some_other_function()\n"
      ]
    },
    {
      "cell_type": "code",
      "source": [
        "import asyncio\n",
        "\n",
        "async def greet():\n",
        "    print(\"Hi, waiting for 2 seconds...\")\n",
        "    await asyncio.sleep(2)\n",
        "    print(\"Done waiting!\")\n",
        "\n",
        "# Run the async function\n",
        "await greet()\n"
      ],
      "metadata": {
        "colab": {
          "base_uri": "https://localhost:8080/"
        },
        "id": "b8p9dzHr_JW_",
        "outputId": "2372a17f-cffb-48fc-c2d0-f24604c7e9f8"
      },
      "execution_count": 4,
      "outputs": [
        {
          "output_type": "stream",
          "name": "stdout",
          "text": [
            "Hi, waiting for 2 seconds...\n",
            "Done waiting!\n"
          ]
        }
      ]
    },
    {
      "cell_type": "code",
      "source": [
        "async def task(name, delay):\n",
        "    print(f\"{name} started...\")\n",
        "    await asyncio.sleep(delay)\n",
        "    print(f\"{name} finished after {delay} seconds\")\n",
        "\n",
        "# Run them together\n",
        "await asyncio.gather(\n",
        "    task(\"Task 1\", 2),\n",
        "    task(\"Task 2\", 3),\n",
        "    task(\"Task 3\", 1),\n",
        ")\n"
      ],
      "metadata": {
        "colab": {
          "base_uri": "https://localhost:8080/"
        },
        "id": "Lpp2oE20_Nbd",
        "outputId": "7909132f-4c9a-4675-8bd4-c51e49ee35a2"
      },
      "execution_count": 5,
      "outputs": [
        {
          "output_type": "stream",
          "name": "stdout",
          "text": [
            "Task 1 started...\n",
            "Task 2 started...\n",
            "Task 3 started...\n",
            "Task 3 finished after 1 seconds\n",
            "Task 1 finished after 2 seconds\n",
            "Task 2 finished after 3 seconds\n"
          ]
        },
        {
          "output_type": "execute_result",
          "data": {
            "text/plain": [
              "[None, None, None]"
            ]
          },
          "metadata": {},
          "execution_count": 5
        }
      ]
    },
    {
      "cell_type": "code",
      "source": [
        "import httpx\n",
        "\n",
        "async def fetch_joke():\n",
        "    async with httpx.AsyncClient() as client:\n",
        "        res = await client.get(\"https://official-joke-api.appspot.com/jokes/random\")\n",
        "        print(res.json())\n",
        "\n",
        "await fetch_joke()\n"
      ],
      "metadata": {
        "colab": {
          "base_uri": "https://localhost:8080/"
        },
        "id": "Rb77dkgLIPH8",
        "outputId": "b96d7e4c-1f56-4843-ad69-fb79d65ea60e"
      },
      "execution_count": 6,
      "outputs": [
        {
          "output_type": "stream",
          "name": "stderr",
          "text": [
            "/usr/local/lib/python3.11/dist-packages/httpx/_client.py:13: RuntimeWarning: coroutine 'say_hello' was never awaited\n",
            "  from ._auth import Auth, BasicAuth, FunctionAuth\n",
            "RuntimeWarning: Enable tracemalloc to get the object allocation traceback\n"
          ]
        },
        {
          "output_type": "stream",
          "name": "stdout",
          "text": [
            "{'type': 'general', 'setup': 'Why did the mushroom get invited to the party?', 'punchline': 'Because he was a fungi.', 'id': 35}\n"
          ]
        }
      ]
    },
    {
      "cell_type": "code",
      "source": [
        "async def fetch_multiple_jokes(n=3):\n",
        "    async with httpx.AsyncClient() as client:\n",
        "        tasks = [client.get(\"https://official-joke-api.appspot.com/jokes/random\") for _ in range(n)]\n",
        "        responses = await asyncio.gather(*tasks)\n",
        "        for i, res in enumerate(responses):\n",
        "            print(f\"Joke {i+1}: {res.json()['setup']} - {res.json()['punchline']}\")\n",
        "\n",
        "await fetch_multiple_jokes(5)\n"
      ],
      "metadata": {
        "id": "FMOylalqIVcz",
        "outputId": "7bc682fd-8abd-4d64-9273-b95074b7bcac",
        "colab": {
          "base_uri": "https://localhost:8080/"
        }
      },
      "execution_count": 7,
      "outputs": [
        {
          "output_type": "stream",
          "name": "stdout",
          "text": [
            "Joke 1: What did the mountain climber name his son? - Cliff.\n",
            "Joke 2: Why are oranges the smartest fruit? - Because they are made to concentrate. \n",
            "Joke 3: I started a new business making yachts in my attic this year... - The sails are going through the roof.\n",
            "Joke 4: What do you call a fly without wings? - A walk.\n",
            "Joke 5: Knock knock. \n",
            " Who's there? \n",
            " Hatch. \n",
            " Hatch who? - Bless you!\n"
          ]
        }
      ]
    }
  ]
}