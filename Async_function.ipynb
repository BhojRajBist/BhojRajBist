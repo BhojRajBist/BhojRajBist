{
  "nbformat": 4,
  "nbformat_minor": 0,
  "metadata": {
    "colab": {
      "provenance": [],
      "authorship_tag": "ABX9TyO1NhuBkw+xZ9DHbMxynrdd",
      "include_colab_link": true
    },
    "kernelspec": {
      "name": "python3",
      "display_name": "Python 3"
    },
    "language_info": {
      "name": "python"
    }
  },
  "cells": [
    {
      "cell_type": "markdown",
      "metadata": {
        "id": "view-in-github",
        "colab_type": "text"
      },
      "source": [
        "<a href=\"https://colab.research.google.com/github/BhojRajBist/BhojRajBist/blob/main/Async_function.ipynb\" target=\"_parent\"><img src=\"https://colab.research.google.com/assets/colab-badge.svg\" alt=\"Open In Colab\"/></a>"
      ]
    },
    {
      "cell_type": "code",
      "source": [
        "!pip install asyncio"
      ],
      "metadata": {
        "colab": {
          "base_uri": "https://localhost:8080/"
        },
        "id": "u6FUCvfO_Pbg",
        "outputId": "51788bd4-487d-4aab-fb0d-a8287a4873d1"
      },
      "execution_count": 1,
      "outputs": [
        {
          "output_type": "stream",
          "name": "stdout",
          "text": [
            "Requirement already satisfied: asyncio in /usr/local/lib/python3.11/dist-packages (3.4.3)\n"
          ]
        }
      ]
    },
    {
      "cell_type": "code",
      "execution_count": null,
      "metadata": {
        "id": "d4G6HreY_FSG"
      },
      "outputs": [],
      "source": [
        "async def my_function():\n",
        "    await some_other_function()\n"
      ]
    },
    {
      "cell_type": "code",
      "source": [
        "import asyncio\n",
        "\n",
        "async def greet():\n",
        "    print(\"Hi, waiting for 2 seconds...\")\n",
        "    await asyncio.sleep(2)\n",
        "    print(\"Done waiting!\")\n",
        "\n",
        "# Run the async function\n",
        "await greet()\n"
      ],
      "metadata": {
        "colab": {
          "base_uri": "https://localhost:8080/"
        },
        "id": "b8p9dzHr_JW_",
        "outputId": "ef1d322b-1a08-447f-c816-ec0466021960"
      },
      "execution_count": 4,
      "outputs": [
        {
          "output_type": "stream",
          "name": "stdout",
          "text": [
            "Hi, waiting for 2 seconds...\n",
            "Done waiting!\n"
          ]
        }
      ]
    },
    {
      "cell_type": "code",
      "source": [
        "async def task(name, delay):\n",
        "    print(f\"{name} started...\")\n",
        "    await asyncio.sleep(delay)\n",
        "    print(f\"{name} finished after {delay} seconds\")\n",
        "\n",
        "# Run them together\n",
        "await asyncio.gather(\n",
        "    task(\"Task 1\", 2),\n",
        "    task(\"Task 2\", 3),\n",
        "    task(\"Task 3\", 1),\n",
        ")\n"
      ],
      "metadata": {
        "colab": {
          "base_uri": "https://localhost:8080/"
        },
        "id": "Lpp2oE20_Nbd",
        "outputId": "7909132f-4c9a-4675-8bd4-c51e49ee35a2"
      },
      "execution_count": null,
      "outputs": [
        {
          "output_type": "stream",
          "name": "stdout",
          "text": [
            "Task 1 started...\n",
            "Task 2 started...\n",
            "Task 3 started...\n",
            "Task 3 finished after 1 seconds\n",
            "Task 1 finished after 2 seconds\n",
            "Task 2 finished after 3 seconds\n"
          ]
        },
        {
          "output_type": "execute_result",
          "data": {
            "text/plain": [
              "[None, None, None]"
            ]
          },
          "metadata": {},
          "execution_count": 5
        }
      ]
    },
    {
      "cell_type": "code",
      "source": [
        "import httpx\n",
        "\n",
        "async def fetch_joke():\n",
        "    async with httpx.AsyncClient() as client:\n",
        "        res = await client.get(\"https://official-joke-api.appspot.com/jokes/random\")\n",
        "        print(res.json())\n",
        "\n",
        "await fetch_joke()\n"
      ],
      "metadata": {
        "colab": {
          "base_uri": "https://localhost:8080/"
        },
        "id": "Rb77dkgLIPH8",
        "outputId": "b96d7e4c-1f56-4843-ad69-fb79d65ea60e"
      },
      "execution_count": null,
      "outputs": [
        {
          "output_type": "stream",
          "name": "stderr",
          "text": [
            "/usr/local/lib/python3.11/dist-packages/httpx/_client.py:13: RuntimeWarning: coroutine 'say_hello' was never awaited\n",
            "  from ._auth import Auth, BasicAuth, FunctionAuth\n",
            "RuntimeWarning: Enable tracemalloc to get the object allocation traceback\n"
          ]
        },
        {
          "output_type": "stream",
          "name": "stdout",
          "text": [
            "{'type': 'general', 'setup': 'Why did the mushroom get invited to the party?', 'punchline': 'Because he was a fungi.', 'id': 35}\n"
          ]
        }
      ]
    },
    {
      "cell_type": "code",
      "source": [
        "async def fetch_multiple_jokes(n=3):\n",
        "    async with httpx.AsyncClient() as client:\n",
        "        tasks = [client.get(\"https://official-joke-api.appspot.com/jokes/random\") for _ in range(n)]\n",
        "        responses = await asyncio.gather(*tasks)\n",
        "        for i, res in enumerate(responses):\n",
        "            print(f\"Joke {i+1}: {res.json()['setup']} - {res.json()['punchline']}\")\n",
        "\n",
        "await fetch_multiple_jokes(5)\n"
      ],
      "metadata": {
        "colab": {
          "base_uri": "https://localhost:8080/"
        },
        "id": "FMOylalqIVcz",
        "outputId": "7bc682fd-8abd-4d64-9273-b95074b7bcac"
      },
      "execution_count": null,
      "outputs": [
        {
          "output_type": "stream",
          "name": "stdout",
          "text": [
            "Joke 1: What did the mountain climber name his son? - Cliff.\n",
            "Joke 2: Why are oranges the smartest fruit? - Because they are made to concentrate. \n",
            "Joke 3: I started a new business making yachts in my attic this year... - The sails are going through the roof.\n",
            "Joke 4: What do you call a fly without wings? - A walk.\n",
            "Joke 5: Knock knock. \n",
            " Who's there? \n",
            " Hatch. \n",
            " Hatch who? - Bless you!\n"
          ]
        }
      ]
    },
    {
      "cell_type": "code",
      "source": [
        "# prompt: more async functions\n",
        "\n",
        "async def countdown(name, count):\n",
        "    print(f\"{name}: Starting countdown from {count}...\")\n",
        "    while count > 0:\n",
        "        print(f\"{name}: {count}...\")\n",
        "        await asyncio.sleep(0.5)\n",
        "        count -= 1\n",
        "    print(f\"{name}: Countdown finished!\")\n",
        "\n",
        "# Run multiple countdowns concurrently\n",
        "await asyncio.gather(\n",
        "    countdown(\"Timer 1\", 5),\n",
        "    countdown(\"Timer 2\", 3),\n",
        "    countdown(\"Timer 3\", 7)\n",
        ")\n",
        "\n",
        "async def fetch_data(url, delay):\n",
        "    print(f\"Fetching data from {url} in {delay} seconds...\")\n",
        "    await asyncio.sleep(delay)\n",
        "    # Simulate fetching data\n",
        "    data = f\"Data from {url}\"\n",
        "    print(f\"Finished fetching data from {url}\")\n",
        "    return data\n",
        "\n",
        "# Run multiple data fetching tasks\n",
        "results = await asyncio.gather(\n",
        "    fetch_data(\"http://example.com/api/data1\", 3),\n",
        "    fetch_data(\"http://example.com/api/data2\", 2),\n",
        "    fetch_data(\"http://example.com/api/data3\", 1),\n",
        ")\n",
        "\n",
        "print(\"\\nAll data fetched:\")\n",
        "for res in results:\n",
        "  res\n"
      ],
      "metadata": {
        "colab": {
          "base_uri": "https://localhost:8080/"
        },
        "id": "USbQrgyzKieZ",
        "outputId": "50cf1a61-05ae-4a90-8dd2-f8a825cadfc5"
      },
      "execution_count": 5,
      "outputs": [
        {
          "output_type": "stream",
          "name": "stdout",
          "text": [
            "Timer 1: Starting countdown from 5...\n",
            "Timer 1: 5...\n",
            "Timer 2: Starting countdown from 3...\n",
            "Timer 2: 3...\n",
            "Timer 3: Starting countdown from 7...\n",
            "Timer 3: 7...\n",
            "Timer 1: 4...\n",
            "Timer 2: 2...\n",
            "Timer 3: 6...\n",
            "Timer 1: 3...\n",
            "Timer 2: 1...\n",
            "Timer 3: 5...\n",
            "Timer 1: 2...\n",
            "Timer 2: Countdown finished!\n",
            "Timer 3: 4...\n",
            "Timer 1: 1...\n",
            "Timer 3: 3...\n",
            "Timer 1: Countdown finished!\n",
            "Timer 3: 2...\n",
            "Timer 3: 1...\n",
            "Timer 3: Countdown finished!\n",
            "Fetching data from http://example.com/api/data1 in 3 seconds...\n",
            "Fetching data from http://example.com/api/data2 in 2 seconds...\n",
            "Fetching data from http://example.com/api/data3 in 1 seconds...\n",
            "Finished fetching data from http://example.com/api/data3\n",
            "Finished fetching data from http://example.com/api/data2\n",
            "Finished fetching data from http://example.com/api/data1\n",
            "\n",
            "All data fetched:\n"
          ]
        }
      ]
    },
    {
      "cell_type": "code",
      "source": [],
      "metadata": {
        "id": "0OP3xRscK-r-"
      },
      "execution_count": 3,
      "outputs": []
    }
  ]
}