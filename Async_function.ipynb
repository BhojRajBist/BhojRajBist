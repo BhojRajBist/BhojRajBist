{
  "nbformat": 4,
  "nbformat_minor": 0,
  "metadata": {
    "colab": {
      "provenance": [],
      "authorship_tag": "ABX9TyP7ubJh/vRJ0Wyfb7QPehqh",
      "include_colab_link": true
    },
    "kernelspec": {
      "name": "python3",
      "display_name": "Python 3"
    },
    "language_info": {
      "name": "python"
    }
  },
  "cells": [
    {
      "cell_type": "markdown",
      "metadata": {
        "id": "view-in-github",
        "colab_type": "text"
      },
      "source": [
        "<a href=\"https://colab.research.google.com/github/BhojRajBist/BhojRajBist/blob/main/Async_function.ipynb\" target=\"_parent\"><img src=\"https://colab.research.google.com/assets/colab-badge.svg\" alt=\"Open In Colab\"/></a>"
      ]
    },
    {
      "cell_type": "code",
      "source": [
        "!pip install asyncio"
      ],
      "metadata": {
        "colab": {
          "base_uri": "https://localhost:8080/"
        },
        "id": "u6FUCvfO_Pbg",
        "outputId": "51788bd4-487d-4aab-fb0d-a8287a4873d1"
      },
      "execution_count": 1,
      "outputs": [
        {
          "output_type": "stream",
          "name": "stdout",
          "text": [
            "Requirement already satisfied: asyncio in /usr/local/lib/python3.11/dist-packages (3.4.3)\n"
          ]
        }
      ]
    },
    {
      "cell_type": "code",
      "execution_count": null,
      "metadata": {
        "id": "d4G6HreY_FSG"
      },
      "outputs": [],
      "source": [
        "async def my_function():\n",
        "    await some_other_function()\n"
      ]
    },
    {
      "cell_type": "code",
      "source": [
        "import asyncio\n",
        "\n",
        "async def greet():\n",
        "    print(\"Hi, waiting for 2 seconds...\")\n",
        "    await asyncio.sleep(2)\n",
        "    print(\"Done waiting!\")\n",
        "\n",
        "# Run the async function\n",
        "await greet()\n"
      ],
      "metadata": {
        "colab": {
          "base_uri": "https://localhost:8080/"
        },
        "id": "b8p9dzHr_JW_",
        "outputId": "ef1d322b-1a08-447f-c816-ec0466021960"
      },
      "execution_count": 4,
      "outputs": [
        {
          "output_type": "stream",
          "name": "stdout",
          "text": [
            "Hi, waiting for 2 seconds...\n",
            "Done waiting!\n"
          ]
        }
      ]
    },
    {
      "cell_type": "code",
      "source": [
        "async def task(name, delay):\n",
        "    print(f\"{name} started...\")\n",
        "    await asyncio.sleep(delay)\n",
        "    print(f\"{name} finished after {delay} seconds\")\n",
        "\n",
        "# Run them together\n",
        "await asyncio.gather(\n",
        "    task(\"Task 1\", 2),\n",
        "    task(\"Task 2\", 3),\n",
        "    task(\"Task 3\", 1),\n",
        ")\n"
      ],
      "metadata": {
        "colab": {
          "base_uri": "https://localhost:8080/"
        },
        "id": "Lpp2oE20_Nbd",
        "outputId": "7909132f-4c9a-4675-8bd4-c51e49ee35a2"
      },
      "execution_count": null,
      "outputs": [
        {
          "output_type": "stream",
          "name": "stdout",
          "text": [
            "Task 1 started...\n",
            "Task 2 started...\n",
            "Task 3 started...\n",
            "Task 3 finished after 1 seconds\n",
            "Task 1 finished after 2 seconds\n",
            "Task 2 finished after 3 seconds\n"
          ]
        },
        {
          "output_type": "execute_result",
          "data": {
            "text/plain": [
              "[None, None, None]"
            ]
          },
          "metadata": {},
          "execution_count": 5
        }
      ]
    },
    {
      "cell_type": "code",
      "source": [
        "import httpx\n",
        "\n",
        "async def fetch_joke():\n",
        "    async with httpx.AsyncClient() as client:\n",
        "        res = await client.get(\"https://official-joke-api.appspot.com/jokes/random\")\n",
        "        print(res.json())\n",
        "\n",
        "await fetch_joke()\n"
      ],
      "metadata": {
        "colab": {
          "base_uri": "https://localhost:8080/"
        },
        "id": "Rb77dkgLIPH8",
        "outputId": "b96d7e4c-1f56-4843-ad69-fb79d65ea60e"
      },
      "execution_count": null,
      "outputs": [
        {
          "output_type": "stream",
          "name": "stderr",
          "text": [
            "/usr/local/lib/python3.11/dist-packages/httpx/_client.py:13: RuntimeWarning: coroutine 'say_hello' was never awaited\n",
            "  from ._auth import Auth, BasicAuth, FunctionAuth\n",
            "RuntimeWarning: Enable tracemalloc to get the object allocation traceback\n"
          ]
        },
        {
          "output_type": "stream",
          "name": "stdout",
          "text": [
            "{'type': 'general', 'setup': 'Why did the mushroom get invited to the party?', 'punchline': 'Because he was a fungi.', 'id': 35}\n"
          ]
        }
      ]
    },
    {
      "cell_type": "code",
      "source": [
        "async def fetch_multiple_jokes(n=3):\n",
        "    async with httpx.AsyncClient() as client:\n",
        "        tasks = [client.get(\"https://official-joke-api.appspot.com/jokes/random\") for _ in range(n)]\n",
        "        responses = await asyncio.gather(*tasks)\n",
        "        for i, res in enumerate(responses):\n",
        "            print(f\"Joke {i+1}: {res.json()['setup']} - {res.json()['punchline']}\")\n",
        "\n",
        "await fetch_multiple_jokes(5)\n"
      ],
      "metadata": {
        "colab": {
          "base_uri": "https://localhost:8080/"
        },
        "id": "FMOylalqIVcz",
        "outputId": "7bc682fd-8abd-4d64-9273-b95074b7bcac"
      },
      "execution_count": null,
      "outputs": [
        {
          "output_type": "stream",
          "name": "stdout",
          "text": [
            "Joke 1: What did the mountain climber name his son? - Cliff.\n",
            "Joke 2: Why are oranges the smartest fruit? - Because they are made to concentrate. \n",
            "Joke 3: I started a new business making yachts in my attic this year... - The sails are going through the roof.\n",
            "Joke 4: What do you call a fly without wings? - A walk.\n",
            "Joke 5: Knock knock. \n",
            " Who's there? \n",
            " Hatch. \n",
            " Hatch who? - Bless you!\n"
          ]
        }
      ]
    },
    {
      "cell_type": "code",
      "source": [
        "# prompt: more async functions\n",
        "\n",
        "async def countdown(name, count):\n",
        "    print(f\"{name}: Starting countdown from {count}...\")\n",
        "    while count > 0:\n",
        "        print(f\"{name}: {count}...\")\n",
        "        await asyncio.sleep(0.5)\n",
        "        count -= 1\n",
        "    print(f\"{name}: Countdown finished!\")\n",
        "\n",
        "# Run multiple countdowns concurrently\n",
        "await asyncio.gather(\n",
        "    countdown(\"Timer 1\", 5),\n",
        "    countdown(\"Timer 2\", 3),\n",
        "    countdown(\"Timer 3\", 7)\n",
        ")\n",
        "\n",
        "async def fetch_data(url, delay):\n",
        "    print(f\"Fetching data from {url} in {delay} seconds...\")\n",
        "    await asyncio.sleep(delay)\n",
        "    # Simulate fetching data\n",
        "    data = f\"Data from {url}\"\n",
        "    print(f\"Finished fetching data from {url}\")\n",
        "    return data\n",
        "\n",
        "# Run multiple data fetching tasks\n",
        "results = await asyncio.gather(\n",
        "    fetch_data(\"http://example.com/api/data1\", 3),\n",
        "    fetch_data(\"http://example.com/api/data2\", 2),\n",
        "    fetch_data(\"http://example.com/api/data3\", 1),\n",
        ")\n",
        "\n",
        "print(\"\\nAll data fetched:\")\n",
        "for res in results:\n",
        "  res\n"
      ],
      "metadata": {
        "colab": {
          "base_uri": "https://localhost:8080/"
        },
        "id": "USbQrgyzKieZ",
        "outputId": "50cf1a61-05ae-4a90-8dd2-f8a825cadfc5"
      },
      "execution_count": 5,
      "outputs": [
        {
          "output_type": "stream",
          "name": "stdout",
          "text": [
            "Timer 1: Starting countdown from 5...\n",
            "Timer 1: 5...\n",
            "Timer 2: Starting countdown from 3...\n",
            "Timer 2: 3...\n",
            "Timer 3: Starting countdown from 7...\n",
            "Timer 3: 7...\n",
            "Timer 1: 4...\n",
            "Timer 2: 2...\n",
            "Timer 3: 6...\n",
            "Timer 1: 3...\n",
            "Timer 2: 1...\n",
            "Timer 3: 5...\n",
            "Timer 1: 2...\n",
            "Timer 2: Countdown finished!\n",
            "Timer 3: 4...\n",
            "Timer 1: 1...\n",
            "Timer 3: 3...\n",
            "Timer 1: Countdown finished!\n",
            "Timer 3: 2...\n",
            "Timer 3: 1...\n",
            "Timer 3: Countdown finished!\n",
            "Fetching data from http://example.com/api/data1 in 3 seconds...\n",
            "Fetching data from http://example.com/api/data2 in 2 seconds...\n",
            "Fetching data from http://example.com/api/data3 in 1 seconds...\n",
            "Finished fetching data from http://example.com/api/data3\n",
            "Finished fetching data from http://example.com/api/data2\n",
            "Finished fetching data from http://example.com/api/data1\n",
            "\n",
            "All data fetched:\n"
          ]
        }
      ]
    },
    {
      "cell_type": "code",
      "source": [
        "# prompt: more examples\n",
        "\n",
        "async def produce(queue, n):\n",
        "    for i in range(n):\n",
        "        item = f\"item {i+1}\"\n",
        "        print(f\"Producing {item}...\")\n",
        "        await asyncio.sleep(0.5)\n",
        "        await queue.put(item)\n",
        "    await queue.put(None)  # Signal consumer that production is done\n",
        "\n",
        "async def consume(queue):\n",
        "    while True:\n",
        "        item = await queue.get()\n",
        "        if item is None:\n",
        "            print(\"Consumer: All items processed.\")\n",
        "            break\n",
        "        print(f\"Consuming {item}...\")\n",
        "        await asyncio.sleep(1)\n",
        "        queue.task_done()\n",
        "\n",
        "async def run_producer_consumer():\n",
        "    queue = asyncio.Queue()\n",
        "    producer_task = asyncio.create_task(produce(queue, 5))\n",
        "    consumer_task = asyncio.create_task(consume(queue))\n",
        "\n",
        "    await asyncio.gather(producer_task, consumer_task)\n",
        "\n",
        "await run_producer_consumer()\n",
        "\n",
        "async def chain_tasks():\n",
        "    async def step1():\n",
        "        print(\"Step 1 starting...\")\n",
        "        await asyncio.sleep(1)\n",
        "        print(\"Step 1 finished.\")\n",
        "        return \"result from step 1\"\n",
        "\n",
        "    async def step2(data):\n",
        "        print(f\"Step 2 starting with data: {data}...\")\n",
        "        await asyncio.sleep(1.5)\n",
        "        print(\"Step 2 finished.\")\n",
        "        return f\"result from step 2 based on {data}\"\n",
        "\n",
        "    async def step3(data):\n",
        "        print(f\"Step 3 starting with data: {data}...\")\n",
        "        await asyncio.sleep(0.8)\n",
        "        print(\"Step 3 finished.\")\n",
        "        return f\"final result based on {data}\"\n",
        "\n",
        "    result1 = await step1()\n",
        "    result2 = await step2(result1)\n",
        "    final_result = await step3(result2)\n",
        "    print(f\"\\nChaining complete. Final result: {final_result}\")\n",
        "\n",
        "await chain_tasks()\n",
        "\n",
        "async def handle_connection(reader, writer):\n",
        "    addr = writer.get_extra_info('peername')\n",
        "    print(f\"Accepted connection from {addr}\")\n",
        "\n",
        "    while True:\n",
        "        data = await reader.read(100)  # Read up to 100 bytes\n",
        "        if not data:\n",
        "            print(f\"Client {addr} disconnected.\")\n",
        "            break\n",
        "\n",
        "        message = data.decode().strip()\n",
        "        print(f\"Received from {addr}: {message}\")\n",
        "\n",
        "        response = f\"Echo: {message}\"\n",
        "        writer.write(response.encode())\n",
        "        await writer.drain()  # Ensure the response is sent\n",
        "\n",
        "    writer.close()\n",
        "    await writer.wait_closed()\n",
        "\n",
        "async def start_server():\n",
        "    server = await asyncio.start_server(\n",
        "        handle_connection, '127.0.0.1', 8888\n",
        "    )\n",
        "\n",
        "    addr = server.sockets[0].getsockname()\n",
        "    print(f'Serving on {addr}')\n",
        "\n",
        "    async with server:\n",
        "        await server.serve_forever()\n",
        "\n",
        "# Note: Running a server like this will block the cell execution.\n",
        "# You would typically run this in a separate thread or process,\n",
        "# or in a non-interactive environment.\n",
        "# To run this example in Colab, you might need to wrap it\n",
        "# in a try/except to handle interruption or run it in a\n",
        "# background process if you want the notebook to remain responsive.\n",
        "# For demonstration purposes, we will not run the server here directly\n",
        "# in this Colab cell.\n",
        "\n",
        "print(\"\\n--- Server example (not run) ---\")\n",
        "print(\"To run the server, you would execute: await start_server()\")\n",
        "print(\"This cell will not start the server to avoid blocking.\")\n",
        "\n",
        "async def wait_for_event():\n",
        "    event = asyncio.Event()\n",
        "\n",
        "    async def waiter(name, event):\n",
        "        print(f\"Waiter {name}: Waiting for event...\")\n",
        "        await event.wait()\n",
        "        print(f\"Waiter {name}: Event received!\")\n",
        "\n",
        "    async def setter(event):\n",
        "        print(\"Setter: Waiting 3 seconds before setting event...\")\n",
        "        await asyncio.sleep(3)\n",
        "        print(\"Setter: Setting event!\")\n",
        "        event.set()\n",
        "\n",
        "    # Run multiple waiters waiting for the same event\n",
        "    await asyncio.gather(\n",
        "        waiter(\"A\", event),\n",
        "        waiter(\"B\", event),\n",
        "        waiter(\"C\", event),\n",
        "        setter(event)\n",
        "    )\n",
        "\n",
        "await wait_for_event()\n"
      ],
      "metadata": {
        "colab": {
          "base_uri": "https://localhost:8080/"
        },
        "id": "0OP3xRscK-r-",
        "outputId": "0e01d67a-3e1e-45b3-d75d-f24c21ab6ce2"
      },
      "execution_count": 7,
      "outputs": [
        {
          "output_type": "stream",
          "name": "stdout",
          "text": [
            "Producing item 1...\n",
            "Producing item 2...\n",
            "Consuming item 1...\n",
            "Producing item 3...\n",
            "Consuming item 2...\n",
            "Producing item 4...\n",
            "Producing item 5...\n",
            "Consuming item 3...\n",
            "Consuming item 4...\n",
            "Consuming item 5...\n",
            "Consumer: All items processed.\n",
            "Step 1 starting...\n",
            "Step 1 finished.\n",
            "Step 2 starting with data: result from step 1...\n",
            "Step 2 finished.\n",
            "Step 3 starting with data: result from step 2 based on result from step 1...\n",
            "Step 3 finished.\n",
            "\n",
            "Chaining complete. Final result: final result based on result from step 2 based on result from step 1\n",
            "\n",
            "--- Server example (not run) ---\n",
            "To run the server, you would execute: await start_server()\n",
            "This cell will not start the server to avoid blocking.\n",
            "Waiter A: Waiting for event...\n",
            "Waiter B: Waiting for event...\n",
            "Waiter C: Waiting for event...\n",
            "Setter: Waiting 3 seconds before setting event...\n",
            "Setter: Setting event!\n",
            "Waiter A: Event received!\n",
            "Waiter B: Event received!\n",
            "Waiter C: Event received!\n"
          ]
        }
      ]
    }
  ]
}