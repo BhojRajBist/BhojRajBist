{
  "nbformat": 4,
  "nbformat_minor": 0,
  "metadata": {
    "colab": {
      "provenance": [],
      "authorship_tag": "ABX9TyOSb7g6fVOE7jbRrmrtAN6G",
      "include_colab_link": true
    },
    "kernelspec": {
      "name": "python3",
      "display_name": "Python 3"
    },
    "language_info": {
      "name": "python"
    }
  },
  "cells": [
    {
      "cell_type": "markdown",
      "metadata": {
        "id": "view-in-github",
        "colab_type": "text"
      },
      "source": [
        "<a href=\"https://colab.research.google.com/github/BhojRajBist/BhojRajBist/blob/main/Extracting_Questions.ipynb\" target=\"_parent\"><img src=\"https://colab.research.google.com/assets/colab-badge.svg\" alt=\"Open In Colab\"/></a>"
      ]
    },
    {
      "cell_type": "code",
      "execution_count": 2,
      "metadata": {
        "colab": {
          "base_uri": "https://localhost:8080/"
        },
        "id": "DK8-_WLNZXbK",
        "outputId": "e46ebb13-9990-4343-9bd0-661330d9d786"
      },
      "outputs": [
        {
          "output_type": "stream",
          "name": "stdout",
          "text": [
            "Cleaned CSV file saved as cleaned_output.csv\n"
          ]
        }
      ],
      "source": [
        "import requests\n",
        "import pandas as pd\n",
        "import re\n",
        "\n",
        "# Function to remove HTML tags\n",
        "def remove_html_tags(text):\n",
        "    clean = re.compile('<.*?>')\n",
        "    return re.sub(clean, '', text)\n",
        "\n",
        "# Step 1: Make a request to the URL\n",
        "url = \"https://nec.geoneer.com.np/api/geomatics/AGeE07\"  # Replace with the actual URL\n",
        "response = requests.get(url)\n",
        "\n",
        "# Check if the request was successful\n",
        "if response.status_code == 200:\n",
        "    # Step 2: Parse the JSON data\n",
        "    json_data = response.json()\n",
        "\n",
        "    # Step 3: Convert JSON to DataFrame\n",
        "    df = pd.DataFrame(json_data)\n",
        "\n",
        "    # Step 4: Clean the data by removing HTML tags\n",
        "    for column in df.columns:\n",
        "        if df[column].dtype == object:  # Apply only to string columns\n",
        "            df[column] = df[column].apply(remove_html_tags)\n",
        "\n",
        "    # Step 5: Rename columns to match the desired format\n",
        "    df.rename(columns={\n",
        "        \"chapter\": \"chapter_id\",\n",
        "        \"correctOpt\": \"correctOpt_id\",\n",
        "        \"uploaded_by\": \"uploaded_by_id\",\n",
        "        \"weight\": \"weight_id\"\n",
        "    }, inplace=True)\n",
        "\n",
        "    # Step 6: Save the cleaned DataFrame to a CSV file\n",
        "    df.to_csv(\"cleaned_output.csv\", index=False, columns=[\n",
        "        \"id\", \"question\", \"option1\", \"option2\", \"option3\", \"option4\",\n",
        "        \"explanation\", \"publish\", \"chapter_id\", \"correctOpt_id\",\n",
        "        \"uploaded_by_id\", \"weight_id\"\n",
        "    ])\n",
        "\n",
        "    print(\"Cleaned CSV file saved as cleaned_output.csv\")\n",
        "else:\n",
        "    print(f\"Failed to fetch data. Status code: {response.status_code}\")"
      ]
    },
    {
      "cell_type": "code",
      "source": [],
      "metadata": {
        "id": "VvDl53vxZeNs"
      },
      "execution_count": null,
      "outputs": []
    }
  ]
}