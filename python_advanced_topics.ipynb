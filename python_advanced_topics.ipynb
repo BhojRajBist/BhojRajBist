{
  "nbformat": 4,
  "nbformat_minor": 0,
  "metadata": {
    "colab": {
      "provenance": [],
      "authorship_tag": "ABX9TyNjf0c2bqlkY8EG0DAat/ji",
      "include_colab_link": true
    },
    "kernelspec": {
      "name": "python3",
      "display_name": "Python 3"
    },
    "language_info": {
      "name": "python"
    }
  },
  "cells": [
    {
      "cell_type": "markdown",
      "metadata": {
        "id": "view-in-github",
        "colab_type": "text"
      },
      "source": [
        "<a href=\"https://colab.research.google.com/github/BhojRajBist/BhojRajBist/blob/main/python_advanced_topics.ipynb\" target=\"_parent\"><img src=\"https://colab.research.google.com/assets/colab-badge.svg\" alt=\"Open In Colab\"/></a>"
      ]
    },
    {
      "cell_type": "code",
      "execution_count": null,
      "metadata": {
        "colab": {
          "base_uri": "https://localhost:8080/",
          "height": 71
        },
        "id": "FQRiSvX8oruN",
        "outputId": "6104c92b-39a8-4582-9345-11738f4a89d0"
      },
      "outputs": [
        {
          "output_type": "stream",
          "name": "stdout",
          "text": [
            "Annotations: {'ham': <class 'str'>, 'eggs': <class 'str'>, 'return': <class 'str'>}\n",
            "Arguments: spam eggs\n"
          ]
        },
        {
          "output_type": "execute_result",
          "data": {
            "text/plain": [
              "'spam and eggs'"
            ],
            "application/vnd.google.colaboratory.intrinsic+json": {
              "type": "string"
            }
          },
          "metadata": {},
          "execution_count": 1
        }
      ],
      "source": [
        "def f(ham: str, eggs: str = 'eggs') -> str:\n",
        "    print(\"Annotations:\", f.__annotations__)\n",
        "    print(\"Arguments:\", ham, eggs)\n",
        "    return ham + ' and ' + eggs\n",
        "f('spam')"
      ]
    },
    {
      "cell_type": "markdown",
      "source": [
        "Data Structure\n",
        "list\n"
      ],
      "metadata": {
        "id": "nfKuWV2-qLv5"
      }
    },
    {
      "cell_type": "code",
      "source": [
        "fruits = ['orange', 'apple', 'pear', 'banana', 'kiwi', 'apple', 'banana']"
      ],
      "metadata": {
        "id": "yASbIsrTqcoK"
      },
      "execution_count": null,
      "outputs": []
    },
    {
      "cell_type": "code",
      "source": [
        "fruits"
      ],
      "metadata": {
        "colab": {
          "base_uri": "https://localhost:8080/"
        },
        "id": "M-_mCPZNqglL",
        "outputId": "b679aeec-73ab-4ed4-9ad0-5e7a47d56ab6"
      },
      "execution_count": null,
      "outputs": [
        {
          "output_type": "execute_result",
          "data": {
            "text/plain": [
              "['orange', 'apple', 'pear', 'banana', 'kiwi', 'apple', 'banana']"
            ]
          },
          "metadata": {},
          "execution_count": 4
        }
      ]
    },
    {
      "cell_type": "code",
      "source": [
        "fruits.count('apple')"
      ],
      "metadata": {
        "colab": {
          "base_uri": "https://localhost:8080/"
        },
        "id": "w4AUZZgcqlFV",
        "outputId": "c8f3b9f0-ac7d-46e3-8314-2829c10b27c5"
      },
      "execution_count": null,
      "outputs": [
        {
          "output_type": "execute_result",
          "data": {
            "text/plain": [
              "2"
            ]
          },
          "metadata": {},
          "execution_count": 5
        }
      ]
    },
    {
      "cell_type": "code",
      "source": [
        "fruits.index('banana')"
      ],
      "metadata": {
        "colab": {
          "base_uri": "https://localhost:8080/"
        },
        "id": "BtaKRH62qsac",
        "outputId": "42acd499-07cc-4bfb-c7ea-2abafac0ae70"
      },
      "execution_count": null,
      "outputs": [
        {
          "output_type": "execute_result",
          "data": {
            "text/plain": [
              "3"
            ]
          },
          "metadata": {},
          "execution_count": 6
        }
      ]
    },
    {
      "cell_type": "code",
      "source": [
        "fruits.index('banana',4)"
      ],
      "metadata": {
        "colab": {
          "base_uri": "https://localhost:8080/"
        },
        "id": "WUVDe593q55H",
        "outputId": "298fe592-94d3-4c0d-eb7e-f9918ab39738"
      },
      "execution_count": null,
      "outputs": [
        {
          "output_type": "execute_result",
          "data": {
            "text/plain": [
              "6"
            ]
          },
          "metadata": {},
          "execution_count": 7
        }
      ]
    },
    {
      "cell_type": "code",
      "source": [
        "fruits.pop()"
      ],
      "metadata": {
        "colab": {
          "base_uri": "https://localhost:8080/",
          "height": 35
        },
        "id": "9qm4BWD2rBCP",
        "outputId": "ea9ffbc5-8f59-4b41-c51d-5856364aa03b"
      },
      "execution_count": null,
      "outputs": [
        {
          "output_type": "execute_result",
          "data": {
            "text/plain": [
              "'banana'"
            ],
            "application/vnd.google.colaboratory.intrinsic+json": {
              "type": "string"
            }
          },
          "metadata": {},
          "execution_count": 8
        }
      ]
    },
    {
      "cell_type": "code",
      "source": [
        "fruits"
      ],
      "metadata": {
        "colab": {
          "base_uri": "https://localhost:8080/"
        },
        "id": "i3hcyblqrKe6",
        "outputId": "94916d73-b0d5-422a-e332-6300e4441849"
      },
      "execution_count": null,
      "outputs": [
        {
          "output_type": "execute_result",
          "data": {
            "text/plain": [
              "['orange', 'apple', 'pear', 'banana', 'kiwi', 'apple']"
            ]
          },
          "metadata": {},
          "execution_count": 9
        }
      ]
    },
    {
      "cell_type": "code",
      "source": [
        "fruits.reverse()"
      ],
      "metadata": {
        "id": "LMKWuegDrLg_"
      },
      "execution_count": null,
      "outputs": []
    },
    {
      "cell_type": "code",
      "source": [
        "fruits"
      ],
      "metadata": {
        "colab": {
          "base_uri": "https://localhost:8080/"
        },
        "id": "GGGwjPANrN4U",
        "outputId": "4f9fa0c1-862a-45e8-c400-e74071bbd115"
      },
      "execution_count": null,
      "outputs": [
        {
          "output_type": "execute_result",
          "data": {
            "text/plain": [
              "['apple', 'kiwi', 'banana', 'pear', 'apple', 'orange']"
            ]
          },
          "metadata": {},
          "execution_count": 11
        }
      ]
    },
    {
      "cell_type": "markdown",
      "source": [
        "\n",
        "\n",
        "```\n",
        "`# This is formatted as code`\n",
        "```\n",
        "\n",
        "Using Lists as Stacks\n"
      ],
      "metadata": {
        "id": "Pwx6B6GBrZoA"
      }
    },
    {
      "cell_type": "code",
      "source": [
        "stack = []  # Initialize an empty stack\n",
        "\n",
        "# Push elements onto the stack\n",
        "stack.append('a')\n",
        "stack.append('b')\n",
        "stack.append('c')\n",
        "\n",
        "# Pop elements from the stack\n",
        "print(stack.pop())  # Output: c\n",
        "print(stack.pop())  # Output: b\n",
        "print(stack.pop())  # Output: a"
      ],
      "metadata": {
        "id": "OmtYH4HDradF",
        "colab": {
          "base_uri": "https://localhost:8080/"
        },
        "outputId": "9bb65eca-e01d-4556-acb7-7197df6a9621"
      },
      "execution_count": null,
      "outputs": [
        {
          "output_type": "stream",
          "name": "stdout",
          "text": [
            "c\n",
            "b\n",
            "a\n"
          ]
        }
      ]
    },
    {
      "cell_type": "code",
      "source": [
        "def reverse_string(text):\n",
        "  stack = []\n",
        "  for char in text:\n",
        "    stack.append(char)  # Push each character onto the stack\n",
        "  reversed_text = ''\n",
        "  while stack:\n",
        "    reversed_text += stack.pop()  # Pop characters and append to reversed string\n",
        "  return reversed_text\n",
        "\n",
        "# Example usage\n",
        "string = \"hello\"\n",
        "reversed_string = reverse_string(string)\n",
        "print(reversed_string)  # Output: olleh"
      ],
      "metadata": {
        "id": "q9yfv6e9AM3j",
        "outputId": "7da6b011-c4ac-45b0-be3f-626e2f856844",
        "colab": {
          "base_uri": "https://localhost:8080/"
        }
      },
      "execution_count": null,
      "outputs": [
        {
          "output_type": "stream",
          "name": "stdout",
          "text": [
            "olleh\n"
          ]
        }
      ]
    },
    {
      "cell_type": "code",
      "source": [
        "pip install  asyncio"
      ],
      "metadata": {
        "colab": {
          "base_uri": "https://localhost:8080/"
        },
        "id": "Ru5c3V9xZKui",
        "outputId": "9d13ea3c-c94d-4682-9441-a4f8cd0aaa73"
      },
      "execution_count": null,
      "outputs": [
        {
          "output_type": "stream",
          "name": "stdout",
          "text": [
            "Requirement already satisfied: asyncio in /usr/local/lib/python3.10/dist-packages (3.4.3)\n"
          ]
        }
      ]
    },
    {
      "cell_type": "code",
      "source": [
        "# prompt: some advanced topic on python that can be run in the collab\n",
        "\n",
        "# Advanced Python Topics for Colab\n",
        "\n",
        "# 1. Asynchronous Programming with asyncio\n",
        "# Asynchronous programming allows you to write code that can perform multiple tasks concurrently\n",
        "# without blocking the execution of the program.\n",
        "# This is especially useful for I/O-bound operations like network requests or file access.\n",
        "\n",
        "import asyncio\n",
        "\n",
        "async def fetch_data(url):\n",
        "    # Simulate a network request\n",
        "    print(f\"Fetching data from {url}\")\n",
        "    await asyncio.sleep(1)\n",
        "    return f\"Data from {url}\"\n",
        "\n",
        "async def main():\n",
        "    tasks = [fetch_data(\"https://example.com\"), fetch_data(\"https://google.com\")]\n",
        "    results = await asyncio.gather(*tasks)\n",
        "    for result in results:\n",
        "        print(result)\n",
        "\n",
        "\n"
      ],
      "metadata": {
        "id": "jlNh1nuiY2pp"
      },
      "execution_count": null,
      "outputs": []
    },
    {
      "cell_type": "code",
      "source": [
        "asyncpy function\n"
      ],
      "metadata": {
        "colab": {
          "base_uri": "https://localhost:8080/",
          "height": 108
        },
        "id": "AOYzrsF0xfjg",
        "outputId": "2a9af030-3a06-41de-d681-7fd758f9d05d"
      },
      "execution_count": null,
      "outputs": [
        {
          "output_type": "error",
          "ename": "SyntaxError",
          "evalue": "invalid syntax (<ipython-input-1-2a65b5d71472>, line 1)",
          "traceback": [
            "\u001b[0;36m  File \u001b[0;32m\"<ipython-input-1-2a65b5d71472>\"\u001b[0;36m, line \u001b[0;32m1\u001b[0m\n\u001b[0;31m    asyncpy function\u001b[0m\n\u001b[0m            ^\u001b[0m\n\u001b[0;31mSyntaxError\u001b[0m\u001b[0;31m:\u001b[0m invalid syntax\n"
          ]
        }
      ]
    },
    {
      "cell_type": "code",
      "source": [],
      "metadata": {
        "id": "81wu8qPUx_QQ"
      },
      "execution_count": null,
      "outputs": []
    }
  ]
}