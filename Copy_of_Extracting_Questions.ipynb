{
  "nbformat": 4,
  "nbformat_minor": 0,
  "metadata": {
    "colab": {
      "provenance": [],
      "authorship_tag": "ABX9TyMH16+KRZKRkmtRlpVQZ3Rv",
      "include_colab_link": true
    },
    "kernelspec": {
      "name": "python3",
      "display_name": "Python 3"
    },
    "language_info": {
      "name": "python"
    }
  },
  "cells": [
    {
      "cell_type": "markdown",
      "metadata": {
        "id": "view-in-github",
        "colab_type": "text"
      },
      "source": [
        "<a href=\"https://colab.research.google.com/github/BhojRajBist/BhojRajBist/blob/main/Copy_of_Extracting_Questions.ipynb\" target=\"_parent\"><img src=\"https://colab.research.google.com/assets/colab-badge.svg\" alt=\"Open In Colab\"/></a>"
      ]
    },
    {
      "cell_type": "code",
      "execution_count": null,
      "metadata": {
        "colab": {
          "base_uri": "https://localhost:8080/"
        },
        "id": "DK8-_WLNZXbK",
        "outputId": "0f515b67-f47f-4294-fd02-d9908ef2a7a4"
      },
      "outputs": [
        {
          "output_type": "stream",
          "name": "stdout",
          "text": [
            "Cleaned CSV file saved as cleaned_output.csv\n"
          ]
        }
      ],
      "source": [
        "import requests\n",
        "import pandas as pd\n",
        "import re\n",
        "\n",
        "# Function to remove HTML tags\n",
        "def remove_html_tags(text):\n",
        "    clean = re.compile('<.*?>')\n",
        "    return re.sub(clean, '', text)\n",
        "\n",
        "# Step 1: Make a request to the URL\n",
        "\n",
        "url = \"\"  # Replace with the actual URL\n",
        "response = requests.get(url)\n",
        "\n",
        "# Check if the request was successful\n",
        "if response.status_code == 200:\n",
        "    # Step 2: Parse the JSON data\n",
        "    json_data = response.json()\n",
        "\n",
        "    # Step 3: Convert JSON to DataFrame\n",
        "    df = pd.DataFrame(json_data)\n",
        "\n",
        "    # Step 4: Clean the data by removing HTML tags\n",
        "    for column in df.columns:\n",
        "        if df[column].dtype == object:  # Apply only to string columns\n",
        "            df[column] = df[column].apply(remove_html_tags)\n",
        "\n",
        "    # Step 5: Rename columns to match the desired format\n",
        "    df.rename(columns={\n",
        "        \"chapter\": \"chapter_id\",\n",
        "        \"correctOpt\": \"correctOpt_id\",\n",
        "        \"uploaded_by\": \"uploaded_by_id\",\n",
        "        \"weight\": \"weight_id\"\n",
        "    }, inplace=True)\n",
        "\n",
        "    # Step 6: Save the cleaned DataFrame to a CSV file\n",
        "    df.to_csv(\"civil/AGeE06.csv\", index=False, columns=[\n",
        "        \"id\", \"question\", \"option1\", \"option2\", \"option3\", \"option4\",\n",
        "        \"explanation\", \"publish\", \"chapter_id\", \"correctOpt_id\",\n",
        "        \"uploaded_by_id\", \"weight_id\"\n",
        "    ])\n",
        "\n",
        "    print(\"Cleaned CSV file saved as cleaned_output.csv\")\n",
        "else:\n",
        "    print(f\"Failed to fetch data. Status code: {response.status_code}\")"
      ]
    },
    {
      "cell_type": "code",
      "source": [
        "import requests\n",
        "import pandas as pd\n",
        "import re\n",
        "\n",
        "# Function to remove HTML tags\n",
        "def remove_html_tags(text):\n",
        "    if pd.isna(text):  # Handle NaN values\n",
        "        return text\n",
        "    clean = re.compile('<.*?>')\n",
        "    return re.sub(clean, '', text)\n",
        "\n",
        "# Function to clean HTML entities like &nbsp;\n",
        "def clean_html_entities(text):\n",
        "    if pd.isna(text):  # Handle NaN values\n",
        "        return text\n",
        "    return text.replace('&nbsp;', ' ').strip()  # Replace &nbsp; with a space and strip extra spaces\n",
        "\n",
        "# Function to clean and format the data\n",
        "def clean_data(df):\n",
        "    # Clean HTML tags and entities\n",
        "    for column in df.columns:\n",
        "        if df[column].dtype == object:  # Apply only to string columns\n",
        "            df[column] = df[column].apply(remove_html_tags)  # Remove HTML tags\n",
        "            df[column] = df[column].apply(clean_html_entities)  # Remove &nbsp; and strip spaces\n",
        "    return df\n",
        "\n",
        "# Step 1: Make a request to the URL\n",
        "url = \"https://nec.geoneer.com.np/api/civil/ACiE10\"  # Replace with the actual URL\n",
        "response = requests.get(url)\n",
        "\n",
        "# Check if the request was successful\n",
        "if response.status_code == 200:\n",
        "    # Step 2: Parse the JSON data\n",
        "    json_data = response.json()\n",
        "\n",
        "    # Step 3: Convert JSON to DataFrame\n",
        "    df = pd.DataFrame(json_data)\n",
        "\n",
        "    # Step 4: Clean the data\n",
        "    df = clean_data(df)\n",
        "\n",
        "    # Step 5: Rename columns to match the desired format\n",
        "    df.rename(columns={\n",
        "        \"chapter\": \"chapter_id\",\n",
        "        \"correctOpt\": \"correctOpt_id\",\n",
        "        \"weight\": \"weight_id\"\n",
        "    }, inplace=True)\n",
        "\n",
        "    # Step 6: Save the cleaned DataFrame to a CSV file\n",
        "    output_file = \"civil/ACiE10.csv\"\n",
        "    df.to_csv(output_file, index=False, columns=[\n",
        "        \"id\", \"question\", \"option1\", \"option2\", \"option3\", \"option4\",\n",
        "        \"explanation\", \"publish\", \"chapter_id\", \"correctOpt_id\", \"weight_id\"\n",
        "    ])\n",
        "\n",
        "    print(f\"Cleaned CSV file saved as {output_file}\")\n",
        "else:\n",
        "    print(f\"Failed to fetch data. Status code: {response.status_code}\")"
      ],
      "metadata": {
        "colab": {
          "base_uri": "https://localhost:8080/"
        },
        "id": "VvDl53vxZeNs",
        "outputId": "fe4ab1a8-36d2-4ca7-90c6-f5661b54e367"
      },
      "execution_count": null,
      "outputs": [
        {
          "output_type": "stream",
          "name": "stdout",
          "text": [
            "Cleaned CSV file saved as civil/ACiE10.csv\n"
          ]
        }
      ]
    },
    {
      "cell_type": "code",
      "source": [
        "import shutil\n",
        "import os\n",
        "from google.colab import files\n",
        "\n",
        "# Define the folder path\n",
        "folder_path = \"/content/civil\"\n",
        "\n",
        "# Compress the folder into a .zip file\n",
        "shutil.make_archive(\"civil\", 'zip', folder_path)\n",
        "\n",
        "# Download the .zip file\n",
        "files.download(\"civil.zip\")"
      ],
      "metadata": {
        "colab": {
          "base_uri": "https://localhost:8080/",
          "height": 34
        },
        "id": "3yfZQBoobuKb",
        "outputId": "5965ded3-2c97-4bf5-bd83-ea105f7564ab"
      },
      "execution_count": null,
      "outputs": [
        {
          "output_type": "display_data",
          "data": {
            "text/plain": [
              "<IPython.core.display.Javascript object>"
            ],
            "application/javascript": [
              "\n",
              "    async function download(id, filename, size) {\n",
              "      if (!google.colab.kernel.accessAllowed) {\n",
              "        return;\n",
              "      }\n",
              "      const div = document.createElement('div');\n",
              "      const label = document.createElement('label');\n",
              "      label.textContent = `Downloading \"${filename}\": `;\n",
              "      div.appendChild(label);\n",
              "      const progress = document.createElement('progress');\n",
              "      progress.max = size;\n",
              "      div.appendChild(progress);\n",
              "      document.body.appendChild(div);\n",
              "\n",
              "      const buffers = [];\n",
              "      let downloaded = 0;\n",
              "\n",
              "      const channel = await google.colab.kernel.comms.open(id);\n",
              "      // Send a message to notify the kernel that we're ready.\n",
              "      channel.send({})\n",
              "\n",
              "      for await (const message of channel.messages) {\n",
              "        // Send a message to notify the kernel that we're ready.\n",
              "        channel.send({})\n",
              "        if (message.buffers) {\n",
              "          for (const buffer of message.buffers) {\n",
              "            buffers.push(buffer);\n",
              "            downloaded += buffer.byteLength;\n",
              "            progress.value = downloaded;\n",
              "          }\n",
              "        }\n",
              "      }\n",
              "      const blob = new Blob(buffers, {type: 'application/binary'});\n",
              "      const a = document.createElement('a');\n",
              "      a.href = window.URL.createObjectURL(blob);\n",
              "      a.download = filename;\n",
              "      div.appendChild(a);\n",
              "      a.click();\n",
              "      div.remove();\n",
              "    }\n",
              "  "
            ]
          },
          "metadata": {}
        },
        {
          "output_type": "display_data",
          "data": {
            "text/plain": [
              "<IPython.core.display.Javascript object>"
            ],
            "application/javascript": [
              "download(\"download_7a4b1f55-3068-409e-ad7d-39cd24cdd590\", \"civil.zip\", 49937)"
            ]
          },
          "metadata": {}
        }
      ]
    },
    {
      "cell_type": "code",
      "source": [],
      "metadata": {
        "id": "78MjAXkJoMLD"
      },
      "execution_count": null,
      "outputs": []
    }
  ]
}