{
  "nbformat": 4,
  "nbformat_minor": 0,
  "metadata": {
    "colab": {
      "provenance": [],
      "authorship_tag": "ABX9TyN8UfCiESsyYxUMXal4RYd+",
      "include_colab_link": true
    },
    "kernelspec": {
      "name": "python3",
      "display_name": "Python 3"
    },
    "language_info": {
      "name": "python"
    }
  },
  "cells": [
    {
      "cell_type": "markdown",
      "metadata": {
        "id": "view-in-github",
        "colab_type": "text"
      },
      "source": [
        "<a href=\"https://colab.research.google.com/github/BhojRajBist/BhojRajBist/blob/main/question_extractor.ipynb\" target=\"_parent\"><img src=\"https://colab.research.google.com/assets/colab-badge.svg\" alt=\"Open In Colab\"/></a>"
      ]
    },
    {
      "cell_type": "code",
      "execution_count": null,
      "metadata": {
        "colab": {
          "base_uri": "https://localhost:8080/",
          "height": 176
        },
        "id": "iwzmFySGcQG7",
        "outputId": "f7cf7a01-d779-4521-e924-60c02ad523dc"
      },
      "outputs": [
        {
          "output_type": "error",
          "ename": "NameError",
          "evalue": "name 'api_url' is not defined",
          "traceback": [
            "\u001b[0;31m---------------------------------------------------------------------------\u001b[0m",
            "\u001b[0;31mNameError\u001b[0m                                 Traceback (most recent call last)",
            "\u001b[0;32m<ipython-input-1-76dd947e433a>\u001b[0m in \u001b[0;36m<cell line: 0>\u001b[0;34m()\u001b[0m\n\u001b[1;32m     30\u001b[0m \u001b[0;31m# API URL\u001b[0m\u001b[0;34m\u001b[0m\u001b[0;34m\u001b[0m\u001b[0m\n\u001b[1;32m     31\u001b[0m  \u001b[0;31m# add the url for the question\u001b[0m\u001b[0;34m\u001b[0m\u001b[0;34m\u001b[0m\u001b[0m\n\u001b[0;32m---> 32\u001b[0;31m \u001b[0mfetch_questions\u001b[0m\u001b[0;34m(\u001b[0m\u001b[0mapi_url\u001b[0m\u001b[0;34m)\u001b[0m\u001b[0;34m\u001b[0m\u001b[0;34m\u001b[0m\u001b[0m\n\u001b[0m",
            "\u001b[0;31mNameError\u001b[0m: name 'api_url' is not defined"
          ]
        }
      ],
      "source": [
        "import requests\n",
        "import json\n",
        "\n",
        "\n",
        "\n",
        "def fetch_questions(url):\n",
        "    response = requests.get(url)\n",
        "\n",
        "    if response.status_code == 200:\n",
        "        data = response.json()\n",
        "        results = data.get(\"results\", [])\n",
        "\n",
        "        for question in results:\n",
        "            print(\"Question:\", question[\"question\"])\n",
        "            print(\"1.\", question[\"option1\"])\n",
        "            print(\"2.\", question[\"option2\"])\n",
        "            print(\"3.\", question[\"option3\"])\n",
        "            print(\"4.\", question[\"option4\"])\n",
        "            print(\"Correct Option:\", question[\"correctOpt\"])\n",
        "            print(\"Explanation:\", question[\"explanation\"])\n",
        "            print(\"-\" * 50)  # Separator for readability\n",
        "\n",
        "        # If there's a next page, fetch questions recursively\n",
        "        next_page = data.get(\"next\")\n",
        "        if next_page:\n",
        "            fetch_questions(next_page)\n",
        "    else:\n",
        "        print(\"Failed to retrieve questions. Status code:\", response.status_code)\n",
        "\n",
        "# API URL\n",
        " # add the url for the question\n",
        "fetch_questions(api_url)"
      ]
    },
    {
      "cell_type": "code",
      "source": [
        "from PIL import Image, ImageDraw, ImageFont\n",
        "\n",
        "# Create a new image with white background\n",
        "img = Image.new('RGB', (600, 400), color='white')\n",
        "d = ImageDraw.Draw(img)\n",
        "\n",
        "# Load a default font (since we're using English, a default font should work fine)\n",
        "try:\n",
        "    font = ImageFont.truetype(\"arial.ttf\", 20)\n",
        "except:\n",
        "    font = ImageFont.load_default()\n",
        "\n",
        "# Define the translated text content\n",
        "question = \"Question: In which ethnic group is the groom tied up and stung with nettle water before marriage?\"\n",
        "option1 = \"1. Majhi\"\n",
        "option2 = \"2. Dhimal\"\n",
        "option3 = \"3. Tharu\"\n",
        "option4 = \"4. Tamang\"\n",
        "\n",
        "# Set text color to black\n",
        "text_color = (0, 0, 0)\n",
        "\n",
        "# Add text to image with proper spacing\n",
        "d.text((20, 50), question, font=font, fill=text_color)\n",
        "d.text((20, 100), option1, font=font, fill=text_color)\n",
        "d.text((20, 130), option2, font=font, fill=text_color)\n",
        "d.text((20, 160), option3, font=font, fill=text_color)\n",
        "d.text((20, 190), option4, font=font, fill=text_color)\n",
        "\n",
        "# Save the image\n",
        "img.save('question_image_english.png')\n",
        "\n",
        "print(\"Image has been created and saved as 'question_image_english.png'\")"
      ],
      "metadata": {
        "id": "ThBeotiaeO2v",
        "colab": {
          "base_uri": "https://localhost:8080/"
        },
        "outputId": "46c7fc2f-5f3c-4cc0-8673-fb9a1ecedf34"
      },
      "execution_count": null,
      "outputs": [
        {
          "output_type": "stream",
          "name": "stdout",
          "text": [
            "Image has been created and saved as 'question_image_english.png'\n"
          ]
        }
      ]
    },
    {
      "cell_type": "code",
      "source": [
        "from PIL import Image, ImageDraw, ImageFont\n",
        "\n",
        "# Create a new image with white background\n",
        "img = Image.new('RGB', (600, 400), color='white')\n",
        "d = ImageDraw.Draw(img)\n",
        "\n",
        "# Load a font (you may need to adjust the font path or use a default font)\n",
        "try:\n",
        "    font = ImageFont.truetype(\"arial.ttf\", 20)  # Adjust font size as needed\n",
        "    small_font = ImageFont.truetype(\"arial.ttf\", 15)  # For smaller text like footer\n",
        "except:\n",
        "    font = ImageFont.load_default()\n",
        "    small_font = ImageFont.load_default()\n",
        "\n",
        "# Define colors\n",
        "black = (0, 0, 0)\n",
        "green = (0, 128, 0)  # For the option boxes and footer\n",
        "light_green = (200, 255, 200)  # For the option box background\n",
        "\n",
        "# Add header text (similar to \"NEC License Exam Preparation : For Geomatics Engineering\")\n",
        "header_text = \"NEC License Exam Preparation : For Geomatics Engineering\"\n",
        "d.text((150, 10), header_text, font=small_font, fill=black)\n",
        "\n",
        "# Add the question\n",
        "question = \"Q. Which of the following instruments CAN BE USED without a tripod?\"\n",
        "d.text((20, 50), question, font=font, fill=black)\n",
        "\n",
        "# Draw option boxes with green borders and light green background\n",
        "options = [\n",
        "    (\"A\", \"Prismatic Compass\"),\n",
        "    (\"B\", \"Sextant\"),\n",
        "    (\"C\", \"Theodolite\"),\n",
        "    (\"D\", \"Surveyor's Compass\")\n",
        "]\n",
        "\n",
        "# Draw each option with a box\n",
        "for i, (letter, option) in enumerate(options):\n",
        "    y_position = 100 + i * 40\n",
        "    # Draw the green-bordered rectangle with light green fill\n",
        "    d.rectangle([20, y_position, 580, y_position + 30], fill=light_green, outline=green, width=2)\n",
        "    # Add the option text\n",
        "    d.text((30, y_position + 5), f\"{letter}    {option}\", font=font, fill=black)\n",
        "\n",
        "# Add footer text (similar to \"LOGIN INTO www.examneer.com for unlimited practice questions\")\n",
        "footer_text = \"LOGbIN INTO www.examneer.com for unlimited practice questions.\\nEmail: info@examneer.com\"\n",
        "# Draw a green trapezoid-like shape for the footer background\n",
        "d.rectangle([(0, 350), (600, 400)], fill=green)# Add the footer text\n",
        "d.text((20, 355), footer_text, font=small_font, fill=(255, 255, 255))  # White text for contrast\n",
        "\n",
        "# Add a date in the bottom right corner\n",
        "date_text = \"2024-09-17\"\n",
        "d.text((500, 380), date_text, font=small_font, fill=(255, 255, 255))\n",
        "\n",
        "# Add a simplified logo (since we can't replicate the exact logo without an image file)\n",
        "# This is a placeholder for the \"EXAMNEER\" logo\n",
        "d.text((20, 10), \"EXAMNEER\", font=small_font, fill=green)\n",
        "\n",
        "# Save the image\n",
        "img.save('surveying_question_image.png')\n",
        "\n",
        "print(\"Image has been created and saved as 'surveying_question_image.png'\")"
      ],
      "metadata": {
        "id": "ia1dOKi7YOHk",
        "outputId": "62b59be7-5cfe-49f7-ea01-bc8a74f87c7e",
        "colab": {
          "base_uri": "https://localhost:8080/"
        }
      },
      "execution_count": 1,
      "outputs": [
        {
          "output_type": "stream",
          "name": "stdout",
          "text": [
            "Image has been created and saved as 'surveying_question_image.png'\n"
          ]
        }
      ]
    }
  ]
}