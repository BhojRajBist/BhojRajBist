{
  "nbformat": 4,
  "nbformat_minor": 0,
  "metadata": {
    "colab": {
      "provenance": [],
      "authorship_tag": "ABX9TyMhkLxyFOrOS60ZBq3ujMrY",
      "include_colab_link": true
    },
    "kernelspec": {
      "name": "python3",
      "display_name": "Python 3"
    },
    "language_info": {
      "name": "python"
    }
  },
  "cells": [
    {
      "cell_type": "markdown",
      "metadata": {
        "id": "view-in-github",
        "colab_type": "text"
      },
      "source": [
        "<a href=\"https://colab.research.google.com/github/BhojRajBist/BhojRajBist/blob/main/habersine.ipynb\" target=\"_parent\"><img src=\"https://colab.research.google.com/assets/colab-badge.svg\" alt=\"Open In Colab\"/></a>"
      ]
    },
    {
      "cell_type": "code",
      "execution_count": 1,
      "metadata": {
        "id": "pP1QiWXRG0AO"
      },
      "outputs": [],
      "source": [
        "def calculate_distance(lat1, lng1, lat2, lng2):\n",
        "   from math import radians, cos, sin, asin, sqrt\n",
        "\n",
        "   R = 6371  # Earth radius in km\n",
        "\n",
        "   lat1, lng1, lat2, lng2 = map(radians, [lat1, lng1, lat2, lng2])\n",
        "   dlat = lat2 - lat1\n",
        "   dlng = lng2 - lng1\n",
        "\n",
        "   a = sin(dlat/2)**2 + cos(lat1) * cos(lat2) * sin(dlng/2)**2\n",
        "   c = 2 * asin(sqrt(a))\n",
        "\n",
        "   return R * c"
      ]
    },
    {
      "cell_type": "code",
      "source": [
        "# prompt: give me the example usages of the above code\n",
        "\n",
        "# Example usage:\n",
        "# Calculate the distance between two points using their latitude and longitude\n",
        "lat1 = 34.0522  # Latitude of Los Angeles\n",
        "lng1 = -118.2437 # Longitude of Los Angeles\n",
        "lat2 = 40.7128  # Latitude of New York City\n",
        "lng2 = -74.0060 # Longitude of New York City\n",
        "\n",
        "distance = calculate_distance(lat1, lng1, lat2, lng2)\n",
        "print(f\"The distance between Los Angeles and New York City is {distance:.2f} km\")\n",
        "\n",
        "# Another example\n",
        "latA = 48.8566 # Latitude of Paris\n",
        "lngA = 2.3522 # Longitude of Paris\n",
        "latB = 51.5074 # Latitude of London\n",
        "lngB = -0.1278 # Longitude of London\n",
        "\n",
        "distance_paris_london = calculate_distance(latA, lngA, latB, lngB)\n",
        "print(f\"The distance between Paris and London is {distance_paris_london:.2f} km\")"
      ],
      "metadata": {
        "colab": {
          "base_uri": "https://localhost:8080/"
        },
        "id": "Q0Cp0_9BHxCf",
        "outputId": "a8dc1b68-2f9b-4dc6-9ebd-8ea95cecfbbb"
      },
      "execution_count": 2,
      "outputs": [
        {
          "output_type": "stream",
          "name": "stdout",
          "text": [
            "The distance between Los Angeles and New York City is 3935.75 km\n",
            "The distance between Paris and London is 343.56 km\n"
          ]
        }
      ]
    }
  ]
}