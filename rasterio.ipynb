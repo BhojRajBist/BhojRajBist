{
  "nbformat": 4,
  "nbformat_minor": 0,
  "metadata": {
    "colab": {
      "provenance": [],
      "authorship_tag": "ABX9TyOgVjBcCV65VceoCJKYDpIN",
      "include_colab_link": true
    },
    "kernelspec": {
      "name": "python3",
      "display_name": "Python 3"
    },
    "language_info": {
      "name": "python"
    }
  },
  "cells": [
    {
      "cell_type": "markdown",
      "metadata": {
        "id": "view-in-github",
        "colab_type": "text"
      },
      "source": [
        "<a href=\"https://colab.research.google.com/github/BhojRajBist/BhojRajBist/blob/main/rasterio.ipynb\" target=\"_parent\"><img src=\"https://colab.research.google.com/assets/colab-badge.svg\" alt=\"Open In Colab\"/></a>"
      ]
    },
    {
      "cell_type": "code",
      "execution_count": null,
      "metadata": {
        "id": "cc8tUJ9piHq3"
      },
      "outputs": [],
      "source": []
    },
    {
      "cell_type": "markdown",
      "metadata": {
        "id": "6c410505"
      },
      "source": [
        "## Rasterio Basics\n",
        "\n",
        "`rasterio` is a Python library for reading and writing raster geospatial data. It's built on top of GDAL and provides a more Pythonic interface for working with raster files.\n",
        "\n",
        "Here are some basic operations you can perform with `rasterio`:\n",
        "\n",
        "1.  **Installation**: Install the library.\n",
        "2.  **Opening and Reading Raster Files**: How to open a raster file and access its metadata and data.\n",
        "3.  **Writing Raster Files**: How to create and write a new raster file."
      ]
    },
    {
      "cell_type": "code",
      "metadata": {
        "colab": {
          "base_uri": "https://localhost:8080/"
        },
        "id": "82c1143c",
        "outputId": "c1be4f31-8fa4-41f6-a4ec-5eb026d26b4e"
      },
      "source": [
        "%pip install rasterio"
      ],
      "execution_count": 1,
      "outputs": [
        {
          "output_type": "stream",
          "name": "stdout",
          "text": [
            "Collecting rasterio\n",
            "  Downloading rasterio-1.4.3-cp311-cp311-manylinux_2_17_x86_64.manylinux2014_x86_64.whl.metadata (9.1 kB)\n",
            "Collecting affine (from rasterio)\n",
            "  Downloading affine-2.4.0-py3-none-any.whl.metadata (4.0 kB)\n",
            "Requirement already satisfied: attrs in /usr/local/lib/python3.11/dist-packages (from rasterio) (25.3.0)\n",
            "Requirement already satisfied: certifi in /usr/local/lib/python3.11/dist-packages (from rasterio) (2025.7.14)\n",
            "Requirement already satisfied: click>=4.0 in /usr/local/lib/python3.11/dist-packages (from rasterio) (8.2.1)\n",
            "Collecting cligj>=0.5 (from rasterio)\n",
            "  Downloading cligj-0.7.2-py3-none-any.whl.metadata (5.0 kB)\n",
            "Requirement already satisfied: numpy>=1.24 in /usr/local/lib/python3.11/dist-packages (from rasterio) (2.0.2)\n",
            "Collecting click-plugins (from rasterio)\n",
            "  Downloading click_plugins-1.1.1.2-py2.py3-none-any.whl.metadata (6.5 kB)\n",
            "Requirement already satisfied: pyparsing in /usr/local/lib/python3.11/dist-packages (from rasterio) (3.2.3)\n",
            "Downloading rasterio-1.4.3-cp311-cp311-manylinux_2_17_x86_64.manylinux2014_x86_64.whl (22.2 MB)\n",
            "\u001b[2K   \u001b[90m━━━━━━━━━━━━━━━━━━━━━━━━━━━━━━━━━━━━━━━━\u001b[0m \u001b[32m22.2/22.2 MB\u001b[0m \u001b[31m60.7 MB/s\u001b[0m eta \u001b[36m0:00:00\u001b[0m\n",
            "\u001b[?25hDownloading cligj-0.7.2-py3-none-any.whl (7.1 kB)\n",
            "Downloading affine-2.4.0-py3-none-any.whl (15 kB)\n",
            "Downloading click_plugins-1.1.1.2-py2.py3-none-any.whl (11 kB)\n",
            "Installing collected packages: cligj, click-plugins, affine, rasterio\n",
            "Successfully installed affine-2.4.0 click-plugins-1.1.1.2 cligj-0.7.2 rasterio-1.4.3\n"
          ]
        }
      ]
    },
    {
      "cell_type": "markdown",
      "metadata": {
        "id": "ee71756f"
      },
      "source": [
        "### Opening and Reading Raster Files\n",
        "\n",
        "To open a raster file, you use `rasterio.open()`. This returns a `DatasetReader` object, which you can use to access various properties of the raster, such as its width, height, coordinate reference system (CRS), transform, and band data."
      ]
    },
    {
      "cell_type": "code",
      "metadata": {
        "colab": {
          "base_uri": "https://localhost:8080/"
        },
        "id": "cce2f2f8",
        "outputId": "34f545be-84ed-4008-c231-59a73e429b6f"
      },
      "source": [
        "import rasterio\n",
        "import numpy as np\n",
        "\n",
        "# Create a dummy raster file for demonstration\n",
        "# In a real scenario, you would replace this with your actual raster file path\n",
        "height, width = 100, 100\n",
        "count = 1 # Number of bands\n",
        "dtype = rasterio.uint8\n",
        "crs = 'EPSG:4326'\n",
        "transform = rasterio.transform.from_origin(0, 90, 1, 1) # Simple identity transform\n",
        "\n",
        "# Generate some dummy data\n",
        "data = np.random.randint(0, 256, size=(count, height, width), dtype=dtype)\n",
        "\n",
        "# Define the file path\n",
        "dummy_raster_path = '/tmp/dummy_raster.tif'\n",
        "\n",
        "# Write the dummy raster file\n",
        "with rasterio.open(\n",
        "    dummy_raster_path,\n",
        "    'w',\n",
        "    driver='GTiff',\n",
        "    height=height,\n",
        "    width=width,\n",
        "    count=count,\n",
        "    dtype=dtype,\n",
        "    crs=crs,\n",
        "    transform=transform\n",
        ") as dst:\n",
        "    dst.write(data)\n",
        "\n",
        "print(f\"Dummy raster file created at: {dummy_raster_path}\")\n",
        "\n",
        "# Open the raster file\n",
        "with rasterio.open(dummy_raster_path) as src:\n",
        "    print(f\"Driver: {src.driver}\")\n",
        "    print(f\"Width: {src.width}\")\n",
        "    print(f\"Height: {src.height}\")\n",
        "    print(f\"Count (number of bands): {src.count}\")\n",
        "    print(f\"CRS: {src.crs}\")\n",
        "    print(f\"Transform: {src.transform}\")\n",
        "\n",
        "    # Read a band (e.g., the first band)\n",
        "    band1 = src.read(1)\n",
        "    print(f\"Band 1 data shape: {band1.shape}\")\n",
        "    print(f\"Band 1 data type: {band1.dtype}\")\n",
        "    print(f\"Band 1 data (first 5x5 pixels):\\n{band1[:5, :5]}\")"
      ],
      "execution_count": 2,
      "outputs": [
        {
          "output_type": "stream",
          "name": "stdout",
          "text": [
            "Dummy raster file created at: /tmp/dummy_raster.tif\n",
            "Driver: GTiff\n",
            "Width: 100\n",
            "Height: 100\n",
            "Count (number of bands): 1\n",
            "CRS: EPSG:4326\n",
            "Transform: | 1.00, 0.00, 0.00|\n",
            "| 0.00,-1.00, 90.00|\n",
            "| 0.00, 0.00, 1.00|\n",
            "Band 1 data shape: (100, 100)\n",
            "Band 1 data type: uint8\n",
            "Band 1 data (first 5x5 pixels):\n",
            "[[250  96  96  90 127]\n",
            " [ 87 162  66 122 171]\n",
            " [ 34 235 185   2 206]\n",
            " [210 202  18 169  40]\n",
            " [ 24 149  95 186 136]]\n"
          ]
        }
      ]
    },
    {
      "cell_type": "markdown",
      "metadata": {
        "id": "1a3514aa"
      },
      "source": [
        "### Writing Raster Files\n",
        "\n",
        "To write a new raster file, you also use `rasterio.open()`, but with the mode set to 'w'. You need to provide the file path and several metadata parameters like driver, width, height, count, dtype, crs, and transform."
      ]
    },
    {
      "cell_type": "code",
      "metadata": {
        "colab": {
          "base_uri": "https://localhost:8080/"
        },
        "id": "21a352ac",
        "outputId": "b96293cc-fca0-4855-be99-25421a76b3d5"
      },
      "source": [
        "# Create some dummy data for a new raster\n",
        "new_height, new_width = 50, 50\n",
        "new_count = 1\n",
        "new_dtype = rasterio.float32\n",
        "new_crs = 'EPSG:32632' # Example of a different CRS\n",
        "new_transform = rasterio.transform.from_origin(100000, 0, 10, 10) # Example of a different transform\n",
        "\n",
        "new_data = np.random.rand(new_count, new_height, new_width).astype(new_dtype)\n",
        "\n",
        "# Define the file path for the new raster\n",
        "new_raster_path = '/tmp/new_raster.tif'\n",
        "\n",
        "# Write the new raster file\n",
        "with rasterio.open(\n",
        "    new_raster_path,\n",
        "    'w',\n",
        "    driver='GTiff',\n",
        "    height=new_height,\n",
        "    width=new_width,\n",
        "    count=new_count,\n",
        "    dtype=new_dtype,\n",
        "    crs=new_crs,\n",
        "    transform=new_transform\n",
        ") as dst:\n",
        "    dst.write(new_data)\n",
        "\n",
        "print(f\"New raster file created at: {new_raster_path}\")\n",
        "\n",
        "# Verify the new raster file\n",
        "with rasterio.open(new_raster_path) as src:\n",
        "    print(f\"Driver: {src.driver}\")\n",
        "    print(f\"Width: {src.width}\")\n",
        "    print(f\"Height: {src.height}\")\n",
        "    print(f\"CRS: {src.crs}\")"
      ],
      "execution_count": 3,
      "outputs": [
        {
          "output_type": "stream",
          "name": "stdout",
          "text": [
            "New raster file created at: /tmp/new_raster.tif\n",
            "Driver: GTiff\n",
            "Width: 50\n",
            "Height: 50\n",
            "CRS: EPSG:32632\n"
          ]
        }
      ]
    }
  ]
}