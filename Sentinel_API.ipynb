{
  "nbformat": 4,
  "nbformat_minor": 0,
  "metadata": {
    "colab": {
      "provenance": [],
      "authorship_tag": "ABX9TyO4UUTw3k0OLD38yG8oXrww",
      "include_colab_link": true
    },
    "kernelspec": {
      "name": "python3",
      "display_name": "Python 3"
    },
    "language_info": {
      "name": "python"
    }
  },
  "cells": [
    {
      "cell_type": "markdown",
      "metadata": {
        "id": "view-in-github",
        "colab_type": "text"
      },
      "source": [
        "<a href=\"https://colab.research.google.com/github/BhojRajBist/BhojRajBist/blob/main/Sentinel_API.ipynb\" target=\"_parent\"><img src=\"https://colab.research.google.com/assets/colab-badge.svg\" alt=\"Open In Colab\"/></a>"
      ]
    },
    {
      "cell_type": "code",
      "execution_count": 1,
      "metadata": {
        "colab": {
          "base_uri": "https://localhost:8080/"
        },
        "id": "nMRNh9H2x5yG",
        "outputId": "f29097f8-39a2-4586-fad4-ca88164d87f4"
      },
      "outputs": [
        {
          "output_type": "stream",
          "name": "stdout",
          "text": [
            "Collecting sentinelsat\n",
            "  Downloading sentinelsat-1.2.1-py3-none-any.whl.metadata (10 kB)\n",
            "Requirement already satisfied: geopandas in /usr/local/lib/python3.10/dist-packages (0.14.4)\n",
            "Requirement already satisfied: shapely in /usr/local/lib/python3.10/dist-packages (2.0.6)\n",
            "Requirement already satisfied: requests in /usr/local/lib/python3.10/dist-packages (from sentinelsat) (2.32.3)\n",
            "Requirement already satisfied: click>=7.1 in /usr/local/lib/python3.10/dist-packages (from sentinelsat) (8.1.7)\n",
            "Collecting html2text (from sentinelsat)\n",
            "  Downloading html2text-2024.2.26.tar.gz (56 kB)\n",
            "\u001b[2K     \u001b[90m━━━━━━━━━━━━━━━━━━━━━━━━━━━━━━━━━━━━━━━━\u001b[0m \u001b[32m56.5/56.5 kB\u001b[0m \u001b[31m751.9 kB/s\u001b[0m eta \u001b[36m0:00:00\u001b[0m\n",
            "\u001b[?25h  Preparing metadata (setup.py) ... \u001b[?25l\u001b[?25hdone\n",
            "Collecting geojson>=2 (from sentinelsat)\n",
            "  Downloading geojson-3.1.0-py3-none-any.whl.metadata (16 kB)\n",
            "Requirement already satisfied: tqdm>=4.58 in /usr/local/lib/python3.10/dist-packages (from sentinelsat) (4.66.5)\n",
            "Collecting geomet (from sentinelsat)\n",
            "  Downloading geomet-1.1.0-py3-none-any.whl.metadata (11 kB)\n",
            "Requirement already satisfied: fiona>=1.8.21 in /usr/local/lib/python3.10/dist-packages (from geopandas) (1.9.6)\n",
            "Requirement already satisfied: numpy>=1.22 in /usr/local/lib/python3.10/dist-packages (from geopandas) (1.26.4)\n",
            "Requirement already satisfied: packaging in /usr/local/lib/python3.10/dist-packages (from geopandas) (24.1)\n",
            "Requirement already satisfied: pandas>=1.4.0 in /usr/local/lib/python3.10/dist-packages (from geopandas) (2.1.4)\n",
            "Requirement already satisfied: pyproj>=3.3.0 in /usr/local/lib/python3.10/dist-packages (from geopandas) (3.6.1)\n",
            "Requirement already satisfied: attrs>=19.2.0 in /usr/local/lib/python3.10/dist-packages (from fiona>=1.8.21->geopandas) (24.2.0)\n",
            "Requirement already satisfied: certifi in /usr/local/lib/python3.10/dist-packages (from fiona>=1.8.21->geopandas) (2024.7.4)\n",
            "Requirement already satisfied: click-plugins>=1.0 in /usr/local/lib/python3.10/dist-packages (from fiona>=1.8.21->geopandas) (1.1.1)\n",
            "Requirement already satisfied: cligj>=0.5 in /usr/local/lib/python3.10/dist-packages (from fiona>=1.8.21->geopandas) (0.7.2)\n",
            "Requirement already satisfied: six in /usr/local/lib/python3.10/dist-packages (from fiona>=1.8.21->geopandas) (1.16.0)\n",
            "Requirement already satisfied: python-dateutil>=2.8.2 in /usr/local/lib/python3.10/dist-packages (from pandas>=1.4.0->geopandas) (2.8.2)\n",
            "Requirement already satisfied: pytz>=2020.1 in /usr/local/lib/python3.10/dist-packages (from pandas>=1.4.0->geopandas) (2024.1)\n",
            "Requirement already satisfied: tzdata>=2022.1 in /usr/local/lib/python3.10/dist-packages (from pandas>=1.4.0->geopandas) (2024.1)\n",
            "Requirement already satisfied: charset-normalizer<4,>=2 in /usr/local/lib/python3.10/dist-packages (from requests->sentinelsat) (3.3.2)\n",
            "Requirement already satisfied: idna<4,>=2.5 in /usr/local/lib/python3.10/dist-packages (from requests->sentinelsat) (3.7)\n",
            "Installing collected packages: html2text, geomet, geojson, sentinelsat\n",
            "Successfully installed geojson-3.1.0 geomet-1.1.0 html2text-2024.2.26 sentinelsat-1.2.1\n"
          ]
        }
      ],
      "source": [
        "pip install sentinelsat geopandas shapely"
      ]
    },
    {
      "cell_type": "code",
      "source": [
        "import os\n",
        "from sentinelsat import SentinelAPI, read_geojson, geojson_to_wkt\n",
        "import geopandas as gpd\n",
        "from shapely.geometry import box\n",
        "from datetime import date\n",
        "\n",
        "# User credentials for Copernicus Open Access Hub\n",
        "username = 'your_username'\n",
        "password = 'your_password'\n",
        "\n",
        "# Path to your shapefile\n",
        "shapefile_path = 'path_to_your_shapefile.shp'\n",
        "\n",
        "# Convert shapefile to GeoJSON for easier handling\n",
        "gdf = gpd.read_file(shapefile_path)\n",
        "gdf = gdf.to_crs(epsg=4326)  # Ensure CRS is WGS84\n",
        "roi = gdf.unary_union  # Merge all geometries into a single polygon\n",
        "bbox = roi.bounds  # Get bounding box of the ROI\n",
        "\n",
        "# Create GeoJSON format from bounding box\n",
        "geojson_roi = {\n",
        "    \"type\": \"FeatureCollection\",\n",
        "    \"features\": [\n",
        "        {\n",
        "            \"type\": \"Feature\",\n",
        "            \"geometry\": {\n",
        "                \"type\": \"Polygon\",\n",
        "                \"coordinates\": [[\n",
        "                    [bbox[0], bbox[1]],\n",
        "                    [bbox[0], bbox[3]],\n",
        "                    [bbox[2], bbox[3]],\n",
        "                    [bbox[2], bbox[1]],\n",
        "                    [bbox[0], bbox[1]]\n",
        "                ]]\n",
        "            },\n",
        "            \"properties\": {}\n",
        "        }\n",
        "    ]\n",
        "}\n",
        "\n",
        "# Convert GeoJSON to WKT format\n",
        "footprint = geojson_to_wkt(geojson_roi)\n",
        "\n",
        "# Initialize Sentinel API\n",
        "api = SentinelAPI(username, password, 'https://scihub.copernicus.eu/dhus')\n",
        "\n",
        "# Search for Sentinel-2 data\n",
        "products = api.query(\n",
        "    footprint,\n",
        "    date=('20230101', '20231231'),  # Date range: adjust as needed\n",
        "    platformname='Sentinel-2',\n",
        "    processinglevel='Level-2A',\n",
        "    cloudcoverpercentage=(0, 30)  # Filter by cloud coverage\n",
        ")\n",
        "\n",
        "# Convert the products to a GeoDataFrame\n",
        "gdf_products = api.to_geodataframe(products)\n",
        "\n",
        "# Sort by cloud coverage and take the best product\n",
        "gdf_products_sorted = gdf_products.sort_values(['cloudcoverpercentage'], ascending=[True])\n",
        "\n",
        "# Display available products\n",
        "print(gdf_products_sorted[['title', 'beginposition', 'cloudcoverpercentage']])\n",
        "\n",
        "# Download the best product\n",
        "if not gdf_products_sorted.empty:\n",
        "    product_id = gdf_products_sorted.iloc[0].uuid\n",
        "    api.download(product_id, directory_path='sentinel_downloads')\n",
        "\n",
        "    print(f\"Downloaded: {gdf_products_sorted.iloc[0]['title']}\")\n",
        "else:\n",
        "    print(\"No suitable products found for the given criteria.\")\n"
      ],
      "metadata": {
        "id": "dX2beuU60Lbe"
      },
      "execution_count": null,
      "outputs": []
    }
  ]
}