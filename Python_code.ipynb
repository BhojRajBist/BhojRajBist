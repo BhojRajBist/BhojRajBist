{
  "nbformat": 4,
  "nbformat_minor": 0,
  "metadata": {
    "colab": {
      "provenance": [],
      "authorship_tag": "ABX9TyO+SXH162htqL7tpgcbUioB",
      "include_colab_link": true
    },
    "kernelspec": {
      "name": "python3",
      "display_name": "Python 3"
    },
    "language_info": {
      "name": "python"
    }
  },
  "cells": [
    {
      "cell_type": "markdown",
      "metadata": {
        "id": "view-in-github",
        "colab_type": "text"
      },
      "source": [
        "<a href=\"https://colab.research.google.com/github/BhojRajBist/BhojRajBist/blob/main/Python_code.ipynb\" target=\"_parent\"><img src=\"https://colab.research.google.com/assets/colab-badge.svg\" alt=\"Open In Colab\"/></a>"
      ]
    },
    {
      "cell_type": "code",
      "execution_count": 1,
      "metadata": {
        "id": "djygZG5UvKJB"
      },
      "outputs": [],
      "source": [
        "age = 20"
      ]
    },
    {
      "cell_type": "code",
      "source": [
        "if age>18:\n",
        "  print(\"Your are adult\")\n",
        "elif age==18:\n",
        "  print(\"You just became an adult\")"
      ],
      "metadata": {
        "colab": {
          "base_uri": "https://localhost:8080/"
        },
        "id": "4BoLa6nIvOGJ",
        "outputId": "b9ead0fd-089a-4daa-dbee-2df24b9111a9"
      },
      "execution_count": 2,
      "outputs": [
        {
          "output_type": "stream",
          "name": "stdout",
          "text": [
            "Your are adult\n"
          ]
        }
      ]
    },
    {
      "cell_type": "code",
      "source": [
        "for i in range(10):\n",
        "  print(i)"
      ],
      "metadata": {
        "colab": {
          "base_uri": "https://localhost:8080/"
        },
        "id": "uvZGvqPyvvlM",
        "outputId": "4fb2259a-4c14-4b15-d3ca-3d65e3c62549"
      },
      "execution_count": 3,
      "outputs": [
        {
          "output_type": "stream",
          "name": "stdout",
          "text": [
            "0\n",
            "1\n",
            "2\n",
            "3\n",
            "4\n",
            "5\n",
            "6\n",
            "7\n",
            "8\n",
            "9\n"
          ]
        }
      ]
    },
    {
      "cell_type": "code",
      "source": [
        "c = 0\n",
        "\n",
        "while c<4:\n",
        "  print(c)\n",
        "  c+=1"
      ],
      "metadata": {
        "colab": {
          "base_uri": "https://localhost:8080/"
        },
        "id": "1emW-u_Kv1JA",
        "outputId": "880a8597-75a2-43b5-8550-5c0542206a7d"
      },
      "execution_count": 4,
      "outputs": [
        {
          "output_type": "stream",
          "name": "stdout",
          "text": [
            "0\n",
            "1\n",
            "2\n",
            "3\n"
          ]
        }
      ]
    },
    {
      "cell_type": "code",
      "source": [
        "def greet(name):\n",
        "  return f\"Hello,{name}!! \"\n",
        "\n",
        "print(greet(\"Developer\"))\n",
        "\n"
      ],
      "metadata": {
        "colab": {
          "base_uri": "https://localhost:8080/"
        },
        "id": "XwsxJW_ov891",
        "outputId": "6ae879de-1850-4518-888f-49a654547622"
      },
      "execution_count": 5,
      "outputs": [
        {
          "output_type": "stream",
          "name": "stdout",
          "text": [
            "Hello,Developer!! \n"
          ]
        }
      ]
    },
    {
      "cell_type": "markdown",
      "source": [
        "Spatial code\n"
      ],
      "metadata": {
        "id": "V4Iu778Ywinw"
      }
    },
    {
      "cell_type": "code",
      "source": [
        "\n",
        "\n",
        "import math\n",
        "\n",
        "def calculate_distance(c1,c2):\n",
        "  \"\"\"\n",
        "  Calculate Euclidean disatance between two coordinates.\n",
        "  Args:\n",
        "        c1(tuple):(x1,y1)\n",
        "        c2(tuple):(x2,y2)\n",
        "  Returns:\n",
        "        float:Euclidean distance\n",
        "  \"\"\"\n",
        "  try:\n",
        "    x1,y1 =c1\n",
        "    x2,y2 =c2\n",
        "    return(math.sqrt((x2-x1)**2+(y2-y1)**2))\n",
        "\n",
        "  except ValueError as e:\n",
        "    print(\"Error: Coordinates must be tuples of two numbers\")\n",
        "\n",
        "    raise e\n",
        "\n",
        "\n",
        "coordinates =[\n",
        "    (1,2),\n",
        "    (3,4),\n",
        "    (5,8),\n",
        "    (10,12),\n",
        "    (-2,-4),\n",
        "]\n",
        "\n",
        "\n",
        "\n",
        "for c in coordinates:\n",
        "  if c[0]>0 and c[1]>0:\n",
        "    print(f\"Coordinates {c} are in first quarant\")\n",
        "  elif c[0]<0 and c[1]>0:\n",
        "    print(f\"Coordinates {c} are in second quadrant\")\n",
        "  elif c[0]<0 and c[1]<0:\n",
        "    print(f\"Coordinates {c} are in third quadrant\")\n",
        "  elif c[0]>0 and c[1]<0:\n",
        "    print(f\"Coordinates {c} are in fourth quadrant\")\n",
        "  else:\n",
        "    print(\"Origin\")\n",
        "\n",
        "\n",
        "def closest_point(referance ,points):\n",
        "  \"\"\"\n",
        "      Find the closest point to the reference.\n",
        "    Args:\n",
        "        reference (tuple): Reference coordinate (x, y)\n",
        "        points (list): List of coordinates\n",
        "    Returns:\n",
        "        tuple: Closest coordinate\n",
        "\"\"\"\n",
        "  try:\n",
        "    distance = [calculate_distance(referance , point) for point in points]\n",
        "    min_distance = min(distance)\n",
        "    closest = points[distance.index(min_distance)]\n",
        "    return closest\n",
        "\n",
        "  except Exception  as e:\n",
        "     print(\"Error: Something went wrong\")\n",
        "     raise\n",
        "\n",
        "\n",
        "\n",
        "\n",
        "referance_point =(0,0)\n",
        "\n",
        "\n",
        "closest =closest_point(referance_point,coordinates)\n",
        "\n",
        "\n",
        "if closest:\n",
        "          print(f\"The closest point to the reference is {closest}\")\n",
        "else:\n",
        "          print(\"No points found\")"
      ],
      "metadata": {
        "colab": {
          "base_uri": "https://localhost:8080/"
        },
        "id": "029RJVsHwOQ3",
        "outputId": "edd3693a-ba9a-4a2f-fbf4-ea1eb0b2716c"
      },
      "execution_count": 26,
      "outputs": [
        {
          "output_type": "stream",
          "name": "stdout",
          "text": [
            "Coordinates (1, 2) are in first quarant\n",
            "Coordinates (3, 4) are in first quarant\n",
            "Coordinates (5, 8) are in first quarant\n",
            "Coordinates (10, 12) are in first quarant\n",
            "Coordinates (-2, -4) are in third quadrant\n",
            "The closest point to the reference is (1, 2)\n"
          ]
        }
      ]
    },
    {
      "cell_type": "code",
      "source": [],
      "metadata": {
        "id": "Yjz_EBlNzrfp"
      },
      "execution_count": null,
      "outputs": []
    }
  ]
}