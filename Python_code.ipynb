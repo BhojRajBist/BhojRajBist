{
  "nbformat": 4,
  "nbformat_minor": 0,
  "metadata": {
    "colab": {
      "provenance": [],
      "authorship_tag": "ABX9TyPkqsjcH5Wsb/oiODSuLZRM",
      "include_colab_link": true
    },
    "kernelspec": {
      "name": "python3",
      "display_name": "Python 3"
    },
    "language_info": {
      "name": "python"
    }
  },
  "cells": [
    {
      "cell_type": "markdown",
      "metadata": {
        "id": "view-in-github",
        "colab_type": "text"
      },
      "source": [
        "<a href=\"https://colab.research.google.com/github/BhojRajBist/BhojRajBist/blob/main/Python_code.ipynb\" target=\"_parent\"><img src=\"https://colab.research.google.com/assets/colab-badge.svg\" alt=\"Open In Colab\"/></a>"
      ]
    },
    {
      "cell_type": "code",
      "execution_count": 1,
      "metadata": {
        "id": "djygZG5UvKJB"
      },
      "outputs": [],
      "source": [
        "age = 20"
      ]
    },
    {
      "cell_type": "code",
      "source": [
        "if age>18:\n",
        "  print(\"Your are adult\")\n",
        "elif age==18:\n",
        "  print(\"You just became an adult\")"
      ],
      "metadata": {
        "colab": {
          "base_uri": "https://localhost:8080/"
        },
        "id": "4BoLa6nIvOGJ",
        "outputId": "b9ead0fd-089a-4daa-dbee-2df24b9111a9"
      },
      "execution_count": 2,
      "outputs": [
        {
          "output_type": "stream",
          "name": "stdout",
          "text": [
            "Your are adult\n"
          ]
        }
      ]
    },
    {
      "cell_type": "code",
      "source": [
        "for i in range(10):\n",
        "  print(i)"
      ],
      "metadata": {
        "colab": {
          "base_uri": "https://localhost:8080/"
        },
        "id": "uvZGvqPyvvlM",
        "outputId": "4fb2259a-4c14-4b15-d3ca-3d65e3c62549"
      },
      "execution_count": 3,
      "outputs": [
        {
          "output_type": "stream",
          "name": "stdout",
          "text": [
            "0\n",
            "1\n",
            "2\n",
            "3\n",
            "4\n",
            "5\n",
            "6\n",
            "7\n",
            "8\n",
            "9\n"
          ]
        }
      ]
    },
    {
      "cell_type": "code",
      "source": [
        "c = 0\n",
        "\n",
        "while c<4:\n",
        "  print(c)\n",
        "  c+=1"
      ],
      "metadata": {
        "colab": {
          "base_uri": "https://localhost:8080/"
        },
        "id": "1emW-u_Kv1JA",
        "outputId": "880a8597-75a2-43b5-8550-5c0542206a7d"
      },
      "execution_count": 4,
      "outputs": [
        {
          "output_type": "stream",
          "name": "stdout",
          "text": [
            "0\n",
            "1\n",
            "2\n",
            "3\n"
          ]
        }
      ]
    },
    {
      "cell_type": "code",
      "source": [
        "def greet(name):\n",
        "  return f\"Hello,{name}!! \"\n",
        "\n",
        "print(greet(\"Developer\"))\n",
        "\n"
      ],
      "metadata": {
        "colab": {
          "base_uri": "https://localhost:8080/"
        },
        "id": "XwsxJW_ov891",
        "outputId": "6ae879de-1850-4518-888f-49a654547622"
      },
      "execution_count": 5,
      "outputs": [
        {
          "output_type": "stream",
          "name": "stdout",
          "text": [
            "Hello,Developer!! \n"
          ]
        }
      ]
    },
    {
      "cell_type": "markdown",
      "source": [
        "Spatial code\n"
      ],
      "metadata": {
        "id": "V4Iu778Ywinw"
      }
    },
    {
      "cell_type": "code",
      "source": [
        "\n",
        "\n",
        "import math\n",
        "\n",
        "def calculate_distance(c1,c2):\n",
        "  \"\"\"\n",
        "  Calculate Euclidean disatance between two coordinates.\n",
        "  Args:\n",
        "        c1(tuple):(x1,y1)\n",
        "        c2(tuple):(x2,y2)\n",
        "  Returns:\n",
        "        float:Euclidean distance\n",
        "  \"\"\"\n",
        "  try:\n",
        "    x1,y1 =c1\n",
        "    x2,y2 =c2\n",
        "    return(math.sqrt((x2-x1)**2+(y2-y1)**2))\n",
        "\n",
        "  except ValueError as e:\n",
        "    print(\"Error: Coordinates must be tuples of two numbers\")\n",
        "\n",
        "    raise e\n",
        "\n",
        "\n",
        "coordinates =[\n",
        "    (1,2),\n",
        "    (3,4),\n",
        "    (5,8),\n",
        "    (10,12),\n",
        "    (-2,-4),\n",
        "]\n",
        "\n",
        "\n",
        "\n",
        "for c in coordinates:\n",
        "  if c[0]>0 and c[1]>0:\n",
        "    print(f\"Coordinates {c} are in first quarant\")\n",
        "  elif c[0]<0 and c[1]>0:\n",
        "    print(f\"Coordinates {c} are in second quadrant\")\n",
        "  elif c[0]<0 and c[1]<0:\n",
        "    print(f\"Coordinates {c} are in third quadrant\")\n",
        "  elif c[0]>0 and c[1]<0:\n",
        "    print(f\"Coordinates {c} are in fourth quadrant\")\n",
        "  else:\n",
        "    print(\"Origin\")\n",
        "\n",
        "\n",
        "def closest_point(referance ,points):\n",
        "  \"\"\"\n",
        "      Find the closest point to the reference.\n",
        "    Args:\n",
        "        reference (tuple): Reference coordinate (x, y)\n",
        "        points (list): List of coordinates\n",
        "    Returns:\n",
        "        tuple: Closest coordinate\n",
        "\"\"\"\n",
        "  try:\n",
        "    distance = [calculate_distance(referance , point) for point in points]\n",
        "    min_distance = min(distance)\n",
        "    closest = points[distance.index(min_distance)]\n",
        "    return closest\n",
        "\n",
        "  except Exception  as e:\n",
        "     print(\"Error: Something went wrong\")\n",
        "     raise\n",
        "\n",
        "\n",
        "\n",
        "\n",
        "referance_point =(0,0)\n",
        "\n",
        "\n",
        "closest =closest_point(referance_point,coordinates)\n",
        "\n",
        "\n",
        "if closest:\n",
        "          print(f\"The closest point to the reference is {closest}\")\n",
        "else:\n",
        "          print(\"No points found\")"
      ],
      "metadata": {
        "colab": {
          "base_uri": "https://localhost:8080/"
        },
        "id": "029RJVsHwOQ3",
        "outputId": "edd3693a-ba9a-4a2f-fbf4-ea1eb0b2716c"
      },
      "execution_count": 26,
      "outputs": [
        {
          "output_type": "stream",
          "name": "stdout",
          "text": [
            "Coordinates (1, 2) are in first quarant\n",
            "Coordinates (3, 4) are in first quarant\n",
            "Coordinates (5, 8) are in first quarant\n",
            "Coordinates (10, 12) are in first quarant\n",
            "Coordinates (-2, -4) are in third quadrant\n",
            "The closest point to the reference is (1, 2)\n"
          ]
        }
      ]
    },
    {
      "cell_type": "markdown",
      "source": [
        "Some practice samples related to the data types\n"
      ],
      "metadata": {
        "id": "GyEjNqij3jby"
      }
    },
    {
      "cell_type": "code",
      "source": [
        "numbers = [3,1,4,1,5]"
      ],
      "metadata": {
        "id": "Yjz_EBlNzrfp"
      },
      "execution_count": 27,
      "outputs": []
    },
    {
      "cell_type": "code",
      "source": [
        "print(numbers)"
      ],
      "metadata": {
        "colab": {
          "base_uri": "https://localhost:8080/"
        },
        "id": "6HiSGgBx38Kc",
        "outputId": "29d10ab1-5c96-42f0-9273-18d414283e36"
      },
      "execution_count": 28,
      "outputs": [
        {
          "output_type": "stream",
          "name": "stdout",
          "text": [
            "[3, 1, 4, 1, 5]\n"
          ]
        }
      ]
    },
    {
      "cell_type": "code",
      "source": [
        "numbers.append(9)\n",
        "print(numbers)"
      ],
      "metadata": {
        "colab": {
          "base_uri": "https://localhost:8080/"
        },
        "id": "C1uV8PMB4CLM",
        "outputId": "6adf91a6-2d6b-4030-9348-fca03c84c0df"
      },
      "execution_count": 31,
      "outputs": [
        {
          "output_type": "stream",
          "name": "stdout",
          "text": [
            "[3, 1, 4, 1, 5, 9, 9]\n"
          ]
        }
      ]
    },
    {
      "cell_type": "code",
      "source": [
        "numbers.insert(0,2)\n",
        "print(numbers)"
      ],
      "metadata": {
        "colab": {
          "base_uri": "https://localhost:8080/"
        },
        "id": "krAp4-Q34Wv_",
        "outputId": "e650b2c7-0176-4630-b880-0a7c69d8fe64"
      },
      "execution_count": 32,
      "outputs": [
        {
          "output_type": "stream",
          "name": "stdout",
          "text": [
            "[2, 3, 1, 4, 1, 5, 9, 9]\n"
          ]
        }
      ]
    },
    {
      "cell_type": "code",
      "source": [
        "numbers.sort()\n",
        "print(numbers)"
      ],
      "metadata": {
        "colab": {
          "base_uri": "https://localhost:8080/"
        },
        "id": "2IwF2YyV4nyz",
        "outputId": "9e8a02a7-fbcf-4421-d1bb-cea6cbf707e8"
      },
      "execution_count": 33,
      "outputs": [
        {
          "output_type": "stream",
          "name": "stdout",
          "text": [
            "[1, 1, 2, 3, 4, 5, 9, 9]\n"
          ]
        }
      ]
    },
    {
      "cell_type": "code",
      "source": [
        "numbers.reverse()"
      ],
      "metadata": {
        "id": "IZ7cYYkX4sdV"
      },
      "execution_count": 34,
      "outputs": []
    },
    {
      "cell_type": "code",
      "source": [
        "print(numbers)"
      ],
      "metadata": {
        "colab": {
          "base_uri": "https://localhost:8080/"
        },
        "id": "qO6nCiou4yPB",
        "outputId": "1303f852-6354-4294-f164-b44d3f6049a6"
      },
      "execution_count": 35,
      "outputs": [
        {
          "output_type": "stream",
          "name": "stdout",
          "text": [
            "[9, 9, 5, 4, 3, 2, 1, 1]\n"
          ]
        }
      ]
    },
    {
      "cell_type": "code",
      "source": [
        "print(max(numbers))"
      ],
      "metadata": {
        "colab": {
          "base_uri": "https://localhost:8080/"
        },
        "id": "hZE0VEP640Zx",
        "outputId": "cd896a19-8666-41b8-8c8e-b8f14c26d313"
      },
      "execution_count": 36,
      "outputs": [
        {
          "output_type": "stream",
          "name": "stdout",
          "text": [
            "9\n"
          ]
        }
      ]
    },
    {
      "cell_type": "code",
      "source": [
        "student = {\"name\": \"Alice\", \"age\": 25, \"grade\": \"A\"}\n"
      ],
      "metadata": {
        "id": "wzS1DEQn47gL"
      },
      "execution_count": 37,
      "outputs": []
    },
    {
      "cell_type": "code",
      "source": [
        "print(student[\"name\"])"
      ],
      "metadata": {
        "colab": {
          "base_uri": "https://localhost:8080/"
        },
        "id": "n2x1Ck7p5BZB",
        "outputId": "c896abca-382e-4f7d-93bd-59119e7e752e"
      },
      "execution_count": 38,
      "outputs": [
        {
          "output_type": "stream",
          "name": "stdout",
          "text": [
            "Alice\n"
          ]
        }
      ]
    },
    {
      "cell_type": "code",
      "source": [
        "words = [\"apple\", \"banana\", \"cherry\", \"date\", \"elderberry\"]\n",
        "f ={}\n",
        "\n",
        "for word in words:\n",
        "  f[word] = f.get(word,0)+1\n",
        "\n",
        "print(f)"
      ],
      "metadata": {
        "colab": {
          "base_uri": "https://localhost:8080/"
        },
        "id": "DCiU8lWE5E8n",
        "outputId": "0f63d218-8ae0-4f4d-a44b-2d350413a892"
      },
      "execution_count": 39,
      "outputs": [
        {
          "output_type": "stream",
          "name": "stdout",
          "text": [
            "{'apple': 1, 'banana': 1, 'cherry': 1, 'date': 1, 'elderberry': 1}\n"
          ]
        }
      ]
    },
    {
      "cell_type": "code",
      "source": [
        "grades = {\"Alice\": 90, \"Bob\": 85, \"Charlie\": 95}"
      ],
      "metadata": {
        "id": "UNXikSxL5bRo"
      },
      "execution_count": 40,
      "outputs": []
    },
    {
      "cell_type": "code",
      "source": [
        "average = sum(grades.values())/len(grades)\n",
        "print(average)"
      ],
      "metadata": {
        "colab": {
          "base_uri": "https://localhost:8080/"
        },
        "id": "9AWbcxOP5eDf",
        "outputId": "e5f9afcc-2167-4926-fb20-e1061b0c9000"
      },
      "execution_count": 41,
      "outputs": [
        {
          "output_type": "stream",
          "name": "stdout",
          "text": [
            "90.0\n"
          ]
        }
      ]
    },
    {
      "cell_type": "markdown",
      "source": [
        "\n",
        "**JSON (JavaScript Object Notation)\n",
        "What:\n",
        "A lightweight format to store and transfer data. Python provides the json module to work with JSON.**\n",
        "\n",
        "json.dumps: Convert Python object to JSON string.\n",
        "json.loads: Convert JSON string to Python object."
      ],
      "metadata": {
        "id": "Fv1ThCL65wIL"
      }
    },
    {
      "cell_type": "code",
      "source": [
        "import json\n",
        "\n",
        "\n",
        "data = {\"name\": \"Alice\", \"age\": 25, \"grade\": \"A\"}\n",
        "\n",
        "json_data = json.dumps(data)\n",
        "\n",
        "print(json_data)"
      ],
      "metadata": {
        "colab": {
          "base_uri": "https://localhost:8080/"
        },
        "id": "61EAzzx_55l-",
        "outputId": "b891e718-8da1-4c8c-c941-f0b820614fde"
      },
      "execution_count": 42,
      "outputs": [
        {
          "output_type": "stream",
          "name": "stdout",
          "text": [
            "{\"name\": \"Alice\", \"age\": 25, \"grade\": \"A\"}\n"
          ]
        }
      ]
    },
    {
      "cell_type": "code",
      "source": [
        "python_obj = json.loads(json_data)\n",
        "print(python_obj)"
      ],
      "metadata": {
        "colab": {
          "base_uri": "https://localhost:8080/"
        },
        "id": "Jc3W4ANg6MMg",
        "outputId": "27a0ea5b-e2d3-4e4e-9e96-8f78cae77c52"
      },
      "execution_count": 43,
      "outputs": [
        {
          "output_type": "stream",
          "name": "stdout",
          "text": [
            "{'name': 'Alice', 'age': 25, 'grade': 'A'}\n"
          ]
        }
      ]
    },
    {
      "cell_type": "code",
      "source": [
        "print(python_obj['name'])"
      ],
      "metadata": {
        "colab": {
          "base_uri": "https://localhost:8080/"
        },
        "id": "digVNNw96S6e",
        "outputId": "3d3a38ad-ce9d-49c1-efc4-a6534c65f7e2"
      },
      "execution_count": 44,
      "outputs": [
        {
          "output_type": "stream",
          "name": "stdout",
          "text": [
            "Alice\n"
          ]
        }
      ]
    },
    {
      "cell_type": "code",
      "source": [
        "import json\n",
        "\n",
        "geojson_data = {\n",
        "    \"type\": \"FeatureCollection\",\n",
        "    \"features\": [\n",
        "        {\n",
        "            \"type\": \"Feature\",\n",
        "            \"geometry\": {\n",
        "                \"type\": \"Point\",\n",
        "                \"coordinates\": [85.324, 27.7172]\n",
        "            },\n",
        "            \"properties\": {\"name\": \"Kathmandu\"}\n",
        "        }\n",
        "    ]\n",
        "}\n",
        "\n",
        "geojson_string = json.dumps(geojson_data)\n",
        "print(geojson_string)\n"
      ],
      "metadata": {
        "colab": {
          "base_uri": "https://localhost:8080/"
        },
        "id": "K0fu6BCQ6Zel",
        "outputId": "8ec44856-81ad-422c-8f27-52d8381769ad"
      },
      "execution_count": 45,
      "outputs": [
        {
          "output_type": "stream",
          "name": "stdout",
          "text": [
            "{\"type\": \"FeatureCollection\", \"features\": [{\"type\": \"Feature\", \"geometry\": {\"type\": \"Point\", \"coordinates\": [85.324, 27.7172]}, \"properties\": {\"name\": \"Kathmandu\"}}]}\n"
          ]
        }
      ]
    },
    {
      "cell_type": "code",
      "source": [
        "geojson_response = \"\"\"\n",
        "{\n",
        "    \"type\": \"FeatureCollection\",\n",
        "    \"features\": [\n",
        "        {\n",
        "            \"type\": \"Feature\",\n",
        "            \"geometry\": {\"type\": \"Point\", \"coordinates\": [85.3240, 27.7172]},\n",
        "            \"properties\": {\"name\": \"Kathmandu\"}\n",
        "        },\n",
        "           {\n",
        "            \"type\": \"Feature\",\n",
        "            \"geometry\": {\"type\": \"Point\", \"coordinates\": [85.3240, 27.7172]},\n",
        "            \"properties\": {\"name\": \"Pokhara\"}\n",
        "        }\n",
        "    ]\n",
        "}\n",
        "\"\"\"\n",
        "# parsed_geojson = json.loads(geojson_response)\n",
        "# features = parsed_geojson[\"features\"]\n",
        "# for feature in features:\n",
        "#     print(\"Name:\", feature[\"properties\"][\"name\"])\n",
        "#     print(\"Coordinates:\", feature[\"geometry\"][\"coordinates\"])\n",
        "\n",
        "prased_geojson = json.loads(geojson_response)\n",
        "\n"
      ],
      "metadata": {
        "id": "ht0t4bPa7SLI"
      },
      "execution_count": 49,
      "outputs": []
    },
    {
      "cell_type": "code",
      "source": [
        "features = prased_geojson[\"features\"]\n",
        "for feature in features:\n",
        "  print(\"Name : \" ,feature[\"properties\"][\"name\"])\n",
        "  print(\"Coordinates: \" , feature[\"geometry\"][\"coordinates\"])"
      ],
      "metadata": {
        "colab": {
          "base_uri": "https://localhost:8080/"
        },
        "id": "gi__P_4s7fO9",
        "outputId": "9ef922d7-16c9-40b3-88b6-00752eeafef0"
      },
      "execution_count": 53,
      "outputs": [
        {
          "output_type": "stream",
          "name": "stdout",
          "text": [
            "Name :  Kathmandu\n",
            "Coordinates:  [85.324, 27.7172]\n",
            "Name :  Pokhara\n",
            "Coordinates:  [85.324, 27.7172]\n"
          ]
        }
      ]
    },
    {
      "cell_type": "code",
      "source": [],
      "metadata": {
        "id": "bbqQksND73cr"
      },
      "execution_count": null,
      "outputs": []
    }
  ]
}