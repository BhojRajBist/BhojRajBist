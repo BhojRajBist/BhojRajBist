{
  "nbformat": 4,
  "nbformat_minor": 0,
  "metadata": {
    "colab": {
      "provenance": [],
      "authorship_tag": "ABX9TyMtE0A0GvfKsKVq0KrCYNVI",
      "include_colab_link": true
    },
    "kernelspec": {
      "name": "python3",
      "display_name": "Python 3"
    },
    "language_info": {
      "name": "python"
    }
  },
  "cells": [
    {
      "cell_type": "markdown",
      "metadata": {
        "id": "view-in-github",
        "colab_type": "text"
      },
      "source": [
        "<a href=\"https://colab.research.google.com/github/BhojRajBist/BhojRajBist/blob/main/async_functions.ipynb\" target=\"_parent\"><img src=\"https://colab.research.google.com/assets/colab-badge.svg\" alt=\"Open In Colab\"/></a>"
      ]
    },
    {
      "cell_type": "code",
      "source": [
        "pip install asyncio"
      ],
      "metadata": {
        "colab": {
          "base_uri": "https://localhost:8080/",
          "height": 226
        },
        "id": "wWsN4YjuhtS-",
        "outputId": "fa6f5e1c-a9fc-4568-cd41-35d490f1fdc2"
      },
      "execution_count": 2,
      "outputs": [
        {
          "output_type": "stream",
          "name": "stdout",
          "text": [
            "Collecting asyncio\n",
            "  Downloading asyncio-3.4.3-py3-none-any.whl.metadata (1.7 kB)\n",
            "Downloading asyncio-3.4.3-py3-none-any.whl (101 kB)\n",
            "\u001b[2K   \u001b[90m━━━━━━━━━━━━━━━━━━━━━━━━━━━━━━━━━━━━━━━━\u001b[0m \u001b[32m101.8/101.8 kB\u001b[0m \u001b[31m977.6 kB/s\u001b[0m eta \u001b[36m0:00:00\u001b[0m\n",
            "\u001b[?25hInstalling collected packages: asyncio\n",
            "Successfully installed asyncio-3.4.3\n"
          ]
        },
        {
          "output_type": "display_data",
          "data": {
            "application/vnd.colab-display-data+json": {
              "pip_warning": {
                "packages": [
                  "asyncio"
                ]
              },
              "id": "c356248ae5e04f2f9278bd1f9da99d6d"
            }
          },
          "metadata": {}
        }
      ]
    },
    {
      "cell_type": "code",
      "source": [
        "import asyncio\n",
        "\n",
        "async def greet_user():\n",
        "    print(\"Hello, I am an async function\")\n",
        "    await asyncio.sleep(2)\n",
        "    print(\"Nice to meet you!\")\n",
        "\n",
        "async def main():\n",
        "    await greet_user()\n",
        "\n",
        "await main()"
      ],
      "metadata": {
        "colab": {
          "base_uri": "https://localhost:8080/"
        },
        "id": "2WANpIHdh8_z",
        "outputId": "3ac86219-5377-49ce-bc1e-1c88d0439a5d"
      },
      "execution_count": null,
      "outputs": [
        {
          "output_type": "stream",
          "name": "stdout",
          "text": [
            "Hello, I am an async function\n",
            "Nice to meet you!\n"
          ]
        }
      ]
    },
    {
      "cell_type": "code",
      "source": [
        "import asyncio\n",
        "\n",
        "async def count_down():\n",
        "    for i in range(5, 0, -1):\n",
        "        print(f\"Countdown: {i}\")\n",
        "        await asyncio.sleep(1)\n",
        "\n",
        "async def main():\n",
        "    await count_down()\n",
        "\n",
        "await main()"
      ],
      "metadata": {
        "colab": {
          "base_uri": "https://localhost:8080/"
        },
        "id": "zK14WfCFiQMU",
        "outputId": "15f88b5c-2bc7-4d47-ad31-6e6af3ced1c7"
      },
      "execution_count": null,
      "outputs": [
        {
          "output_type": "stream",
          "name": "stdout",
          "text": [
            "Countdown: 5\n",
            "Countdown: 4\n",
            "Countdown: 3\n",
            "Countdown: 2\n",
            "Countdown: 1\n"
          ]
        }
      ]
    },
    {
      "cell_type": "code",
      "source": [
        "import asyncio\n",
        "\n",
        "async def task1():\n",
        "    print(\"Task 1 started\")\n",
        "    await asyncio.sleep(2)\n",
        "    print(\"Task 1 done\")\n",
        "\n",
        "async def task2():\n",
        "    print(\"Task 2 started\")\n",
        "    await asyncio.sleep(1)\n",
        "    print(\"Task 2 done\")\n",
        "\n",
        "async def main():\n",
        "    await asyncio.gather(task1(), task2())\n",
        "\n",
        "await main()"
      ],
      "metadata": {
        "colab": {
          "base_uri": "https://localhost:8080/"
        },
        "id": "YBMjE9uPiXYq",
        "outputId": "896de91d-6635-4f51-ed7f-1d205cc77e93"
      },
      "execution_count": null,
      "outputs": [
        {
          "output_type": "stream",
          "name": "stdout",
          "text": [
            "Task 1 started\n",
            "Task 2 started\n",
            "Task 2 done\n",
            "Task 1 done\n"
          ]
        }
      ]
    },
    {
      "cell_type": "code",
      "source": [
        "# prompt: async function usefull in daliy life\n",
        "\n",
        "import asyncio\n",
        "\n",
        "async def fetch_data_from_api(api_endpoint):\n",
        "  \"\"\"Simulates fetching data from an API.\"\"\"\n",
        "  print(f\"Fetching data from {api_endpoint}...\")\n",
        "  await asyncio.sleep(1)  # Simulate network delay\n",
        "  return f\"Data from {api_endpoint}\"\n",
        "\n",
        "async def process_data(data):\n",
        "  \"\"\"Simulates processing the fetched data.\"\"\"\n",
        "  print(f\"Processing data: {data}...\")\n",
        "  await asyncio.sleep(1)  # Simulate processing delay\n",
        "  return f\"Processed: {data}\"\n",
        "\n",
        "\n",
        "async def main():\n",
        "  \"\"\"Fetches data from multiple APIs concurrently and processes them.\"\"\"\n",
        "\n",
        "  api_endpoints = [\"https://nec.geoneer.com.np/api/geomatics/AGeE09\", \"api2.com\", \"api3.com\"]\n",
        "  tasks = [fetch_data_from_api(endpoint) for endpoint in api_endpoints]\n",
        "\n",
        "  # Use asyncio.gather to run tasks concurrently\n",
        "  results = await asyncio.gather(*tasks)\n",
        "\n",
        "  # Process the results concurrently\n",
        "  processing_tasks = [process_data(result) for result in results]\n",
        "  processed_results = await asyncio.gather(*processing_tasks)\n",
        "\n",
        "  print(\"All data processed:\", processed_results)\n",
        "\n",
        "\n",
        "await main()\n"
      ],
      "metadata": {
        "id": "Dkb3C7v7iblu",
        "colab": {
          "base_uri": "https://localhost:8080/"
        },
        "outputId": "169f7dc8-5098-44d2-856f-965dabff35b9"
      },
      "execution_count": 3,
      "outputs": [
        {
          "output_type": "stream",
          "name": "stdout",
          "text": [
            "Fetching data from https://nec.geoneer.com.np/api/geomatics/AGeE09...\n",
            "Fetching data from api2.com...\n",
            "Fetching data from api3.com...\n",
            "Processing data: Data from https://nec.geoneer.com.np/api/geomatics/AGeE09...\n",
            "Processing data: Data from api2.com...\n",
            "Processing data: Data from api3.com...\n",
            "All data processed: ['Processed: Data from https://nec.geoneer.com.np/api/geomatics/AGeE09', 'Processed: Data from api2.com', 'Processed: Data from api3.com']\n"
          ]
        }
      ]
    }
  ]
}