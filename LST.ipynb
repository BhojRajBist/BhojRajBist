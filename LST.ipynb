{
  "nbformat": 4,
  "nbformat_minor": 0,
  "metadata": {
    "colab": {
      "provenance": [],
      "authorship_tag": "ABX9TyOneP/jJU15xcOYCPv4Vzn0",
      "include_colab_link": true
    },
    "kernelspec": {
      "name": "python3",
      "display_name": "Python 3"
    },
    "language_info": {
      "name": "python"
    }
  },
  "cells": [
    {
      "cell_type": "markdown",
      "metadata": {
        "id": "view-in-github",
        "colab_type": "text"
      },
      "source": [
        "<a href=\"https://colab.research.google.com/github/BhojRajBist/BhojRajBist/blob/main/LST.ipynb\" target=\"_parent\"><img src=\"https://colab.research.google.com/assets/colab-badge.svg\" alt=\"Open In Colab\"/></a>"
      ]
    },
    {
      "cell_type": "code",
      "source": [
        "pip install rasterio\n"
      ],
      "metadata": {
        "colab": {
          "base_uri": "https://localhost:8080/"
        },
        "id": "pxRd_LBoFAzp",
        "outputId": "b5f48e09-1711-423a-ab05-5c477e6fc8f6"
      },
      "execution_count": 2,
      "outputs": [
        {
          "output_type": "stream",
          "name": "stdout",
          "text": [
            "Collecting rasterio\n",
            "  Downloading rasterio-1.3.10-cp310-cp310-manylinux2014_x86_64.whl (21.5 MB)\n",
            "\u001b[2K     \u001b[90m━━━━━━━━━━━━━━━━━━━━━━━━━━━━━━━━━━━━━━━━\u001b[0m \u001b[32m21.5/21.5 MB\u001b[0m \u001b[31m39.5 MB/s\u001b[0m eta \u001b[36m0:00:00\u001b[0m\n",
            "\u001b[?25hCollecting affine (from rasterio)\n",
            "  Downloading affine-2.4.0-py3-none-any.whl (15 kB)\n",
            "Requirement already satisfied: attrs in /usr/local/lib/python3.10/dist-packages (from rasterio) (23.2.0)\n",
            "Requirement already satisfied: certifi in /usr/local/lib/python3.10/dist-packages (from rasterio) (2024.7.4)\n",
            "Requirement already satisfied: click>=4.0 in /usr/local/lib/python3.10/dist-packages (from rasterio) (8.1.7)\n",
            "Requirement already satisfied: cligj>=0.5 in /usr/local/lib/python3.10/dist-packages (from rasterio) (0.7.2)\n",
            "Requirement already satisfied: numpy in /usr/local/lib/python3.10/dist-packages (from rasterio) (1.25.2)\n",
            "Collecting snuggs>=1.4.1 (from rasterio)\n",
            "  Downloading snuggs-1.4.7-py3-none-any.whl (5.4 kB)\n",
            "Requirement already satisfied: click-plugins in /usr/local/lib/python3.10/dist-packages (from rasterio) (1.1.1)\n",
            "Requirement already satisfied: setuptools in /usr/local/lib/python3.10/dist-packages (from rasterio) (67.7.2)\n",
            "Requirement already satisfied: pyparsing>=2.1.6 in /usr/local/lib/python3.10/dist-packages (from snuggs>=1.4.1->rasterio) (3.1.2)\n",
            "Installing collected packages: snuggs, affine, rasterio\n",
            "Successfully installed affine-2.4.0 rasterio-1.3.10 snuggs-1.4.7\n"
          ]
        }
      ]
    },
    {
      "cell_type": "code",
      "execution_count": 3,
      "metadata": {
        "id": "WDnOaQ1cEysO"
      },
      "outputs": [],
      "source": [
        "import numpy as np\n",
        "import pandas as pd\n",
        "import matplotlib.pyplot as plt\n",
        "import rasterio\n",
        "from rasterio.plot import show\n",
        "from google.colab import drive\n",
        "import requests\n"
      ]
    },
    {
      "cell_type": "code",
      "source": [
        "file_path = f'{data_path}/Landsat8_image.tif'  # Replace with your file name\n",
        "\n",
        "with rasterio.open(file_path) as src:\n",
        "    band_red = src.read(4)  # Band 4 (Red)\n",
        "    band_nir = src.read(5)  # Band 5 (NIR)\n",
        "    band_swir = src.read(6)  # Band 6 (SWIR)\n",
        "    band_tir = src.read(10)  # Band 10 (Thermal)\n",
        "\n",
        "# Plot the bands\n",
        "fig, ax = plt.subplots(1, 4, figsize=(20, 5))\n",
        "ax[0].imshow(band_red, cmap='Reds')\n",
        "ax[0].set_title('Red Band')\n",
        "ax[1].imshow(band_nir, cmap='Greens')\n",
        "ax[1].set_title('NIR Band')\n",
        "ax[2].imshow(band_swir, cmap='Blues')\n",
        "ax[2].set_title('SWIR Band')\n",
        "ax[3].imshow(band_tir, cmap='hot')\n",
        "ax[3].set_title('Thermal Band')\n",
        "plt.show()\n"
      ],
      "metadata": {
        "colab": {
          "base_uri": "https://localhost:8080/",
          "height": 211
        },
        "id": "XVD-_EWC53qv",
        "outputId": "c2e32e0f-ccbd-4fa0-878d-30a0f2970f57"
      },
      "execution_count": 4,
      "outputs": [
        {
          "output_type": "error",
          "ename": "NameError",
          "evalue": "name 'data_path' is not defined",
          "traceback": [
            "\u001b[0;31m---------------------------------------------------------------------------\u001b[0m",
            "\u001b[0;31mNameError\u001b[0m                                 Traceback (most recent call last)",
            "\u001b[0;32m<ipython-input-4-a327d0b4523f>\u001b[0m in \u001b[0;36m<cell line: 1>\u001b[0;34m()\u001b[0m\n\u001b[0;32m----> 1\u001b[0;31m \u001b[0mfile_path\u001b[0m \u001b[0;34m=\u001b[0m \u001b[0;34mf'{data_path}/Landsat8_image.tif'\u001b[0m  \u001b[0;31m# Replace with your file name\u001b[0m\u001b[0;34m\u001b[0m\u001b[0;34m\u001b[0m\u001b[0m\n\u001b[0m\u001b[1;32m      2\u001b[0m \u001b[0;34m\u001b[0m\u001b[0m\n\u001b[1;32m      3\u001b[0m \u001b[0;32mwith\u001b[0m \u001b[0mrasterio\u001b[0m\u001b[0;34m.\u001b[0m\u001b[0mopen\u001b[0m\u001b[0;34m(\u001b[0m\u001b[0mfile_path\u001b[0m\u001b[0;34m)\u001b[0m \u001b[0;32mas\u001b[0m \u001b[0msrc\u001b[0m\u001b[0;34m:\u001b[0m\u001b[0;34m\u001b[0m\u001b[0;34m\u001b[0m\u001b[0m\n\u001b[1;32m      4\u001b[0m     \u001b[0mband_red\u001b[0m \u001b[0;34m=\u001b[0m \u001b[0msrc\u001b[0m\u001b[0;34m.\u001b[0m\u001b[0mread\u001b[0m\u001b[0;34m(\u001b[0m\u001b[0;36m4\u001b[0m\u001b[0;34m)\u001b[0m  \u001b[0;31m# Band 4 (Red)\u001b[0m\u001b[0;34m\u001b[0m\u001b[0;34m\u001b[0m\u001b[0m\n\u001b[1;32m      5\u001b[0m     \u001b[0mband_nir\u001b[0m \u001b[0;34m=\u001b[0m \u001b[0msrc\u001b[0m\u001b[0;34m.\u001b[0m\u001b[0mread\u001b[0m\u001b[0;34m(\u001b[0m\u001b[0;36m5\u001b[0m\u001b[0;34m)\u001b[0m  \u001b[0;31m# Band 5 (NIR)\u001b[0m\u001b[0;34m\u001b[0m\u001b[0;34m\u001b[0m\u001b[0m\n",
            "\u001b[0;31mNameError\u001b[0m: name 'data_path' is not defined"
          ]
        }
      ]
    },
    {
      "cell_type": "code",
      "source": [
        "# Constants for Landsat 8\n",
        "ML = 0.0003342  # Band specific multiplicative rescaling factor\n",
        "AL = 0.1  # Band specific additive rescaling factor\n",
        "K1 = 774.89  # Calibration constant 1\n",
        "K2 = 1321.08  # Calibration constant 2\n",
        "\n",
        "# Convert DN to radiance\n",
        "radiance = ML * band_tir + AL\n",
        "\n",
        "# Convert radiance to brightness temperature\n",
        "brightness_temp = K2 / np.log((K1 / radiance) + 1) - 273.15\n",
        "\n",
        "# Calculate NDVI for emissivity calculation\n",
        "ndvi = (band_nir - band_red) / (band_nir + band_red)\n",
        "\n",
        "# Calculate emissivity\n",
        "emissivity = 0.004 * ndvi + 0.986\n",
        "\n",
        "# Calculate LST\n",
        "lst = brightness_temp / (1 + (10.8 * brightness_temp / 14388) * np.log(emissivity))\n",
        "\n",
        "plt.imshow(lst, cmap='hot')\n",
        "plt.colorbar(label='LST (°C)')\n",
        "plt.title('Land Surface Temperature')\n",
        "plt.show()\n"
      ],
      "metadata": {
        "id": "RgatefLM5-Ud"
      },
      "execution_count": null,
      "outputs": []
    },
    {
      "cell_type": "code",
      "source": [
        "# Example: Load and process LST for different years, then plot trends\n",
        "# Repeat the above steps for multiple years and store LST values\n",
        "\n",
        "years = ['2004', '2009', '2014', '2019', '2024']\n",
        "lst_values = []  # Store LST values for different years\n",
        "\n",
        "for year in years:\n",
        "    file_path = f'{data_path}/Landsat_{year}.tif'\n",
        "    with rasterio.open(file_path) as src:\n",
        "        band_tir = src.read(10)\n",
        "        radiance = ML * band_tir + AL\n",
        "        brightness_temp = K2 / np.log((K1 / radiance) + 1) - 273.15\n",
        "        lst = brightness_temp / (1 + (10.8 * brightness_temp / 14388) * np.log(emissivity))\n",
        "        lst_values.append(np.mean(lst))\n",
        "\n",
        "plt.plot(years, lst_values, marker='o')\n",
        "plt.xlabel('Year')\n",
        "plt.ylabel('Average LST (°C)')\n",
        "plt.title('LST Trends Over Years')\n",
        "plt.show()\n"
      ],
      "metadata": {
        "id": "3eavXCsX5_xk"
      },
      "execution_count": null,
      "outputs": []
    }
  ]
}