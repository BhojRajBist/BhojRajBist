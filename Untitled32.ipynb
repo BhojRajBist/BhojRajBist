{
  "nbformat": 4,
  "nbformat_minor": 0,
  "metadata": {
    "colab": {
      "provenance": [],
      "authorship_tag": "ABX9TyPzxwQu2oRvfiVvJHYIApIk",
      "include_colab_link": true
    },
    "kernelspec": {
      "name": "python3",
      "display_name": "Python 3"
    },
    "language_info": {
      "name": "python"
    }
  },
  "cells": [
    {
      "cell_type": "markdown",
      "metadata": {
        "id": "view-in-github",
        "colab_type": "text"
      },
      "source": [
        "<a href=\"https://colab.research.google.com/github/BhojRajBist/BhojRajBist/blob/main/Untitled32.ipynb\" target=\"_parent\"><img src=\"https://colab.research.google.com/assets/colab-badge.svg\" alt=\"Open In Colab\"/></a>"
      ]
    },
    {
      "cell_type": "code",
      "source": [
        "import hashlib"
      ],
      "metadata": {
        "id": "oPgZE5UBXJb2"
      },
      "execution_count": null,
      "outputs": []
    },
    {
      "cell_type": "code",
      "execution_count": null,
      "metadata": {
        "colab": {
          "base_uri": "https://localhost:8080/"
        },
        "id": "AFn0as93W0tk",
        "outputId": "95178fc4-8d45-45e2-976f-6b60905fbe09"
      },
      "outputs": [
        {
          "output_type": "stream",
          "name": "stdout",
          "text": [
            "Status: 200\n",
            "Response: {'code': 400, 'msg': 'Printer 11224028 non-existent '}\n"
          ]
        }
      ],
      "source": [
        "import requests\n",
        "\n",
        "def submit_print():\n",
        "    once = \"2599\"\n",
        "    time_val = \"1647052278\"\n",
        "\n",
        "    sign = md5_hash(build_query(printer_id, key, once, time_val))\n",
        "\n",
        "    payload = {\n",
        "        \"printer_id\": printer_id,\n",
        "        \"once\": once,\n",
        "        \"time\": time_val,\n",
        "        \"sign\": sign,\n",
        "        \"order_id\": \"TEST-001\",\n",
        "        \"name\": \"Test Print\",\n",
        "        \"file\": \"https://img.colorpark.cn/api/render/36531651306594235.png\",\n",
        "        \"template_id\": 1,\n",
        "        \"width\": 38,\n",
        "        \"height\": 38,\n",
        "        \"left\": 0,\n",
        "        \"top\": 0,\n",
        "        \"white_ink\": 1,\n",
        "        \"callback\": \"http://localhost:8000/api/callback\"\n",
        "    }\n",
        "\n",
        "    response = requests.post(\"http://cloud.refinecolor.com/api/Printer/mulPrint?lang=en-us\", data=payload)\n",
        "    print(\"Status:\", response.status_code)\n",
        "    print(\"Response:\", response.json())\n",
        "\n",
        "# Keep the sign builder from before\n",
        "def build_query(printer_id, key, once, time):\n",
        "    return f\"printer_id={printer_id}&key={key}&once={once}&time={time}\"\n",
        "\n",
        "def md5_hash(input_str):\n",
        "    return hashlib.md5(input_str.encode('utf-8')).hexdigest()\n",
        "\n",
        "if __name__ == \"__main__\":\n",
        "    submit_print()\n"
      ]
    },
    {
      "cell_type": "code",
      "source": [
        "import hashlib\n",
        "\n",
        "def main():\n",
        "\n",
        "    once = \"2599\"\n",
        "    time = \"1647052278\"\n",
        "\n",
        "    query = build_query(printer_id, key, once, time)\n",
        "    sign = md5_hash(query)\n",
        "    print(sign)\n",
        "\n",
        "def build_query(printer_id, key, once, time):\n",
        "    return f\"printer_id={printer_id}&key={key}&once={once}&time={time}\"\n",
        "\n",
        "def md5_hash(input_str):\n",
        "    return hashlib.md5(input_str.encode('utf-8')).hexdigest()\n",
        "\n",
        "if __name__ == \"__main__\":\n",
        "    main()"
      ],
      "metadata": {
        "colab": {
          "base_uri": "https://localhost:8080/"
        },
        "id": "lU8491_6YZQ2",
        "outputId": "660732b2-56c6-49fd-9aa3-a6b9b828f3d0"
      },
      "execution_count": 10,
      "outputs": [
        {
          "output_type": "stream",
          "name": "stdout",
          "text": [
            "49276a9b59ee7f15d11a2eba0936d80b\n"
          ]
        }
      ]
    },
    {
      "cell_type": "code",
      "source": [
        "import requests\n",
        "import hashlib\n",
        "import time\n",
        "import random\n",
        "\n",
        "def check_printer_status(printer_id, key):\n",
        "    once = str(random.randint(1000, 9999))\n",
        "    timestamp = str(int(time.time()))\n",
        "    query = f\"printer_id={printer_id}&key={key}&once={once}&time={timestamp}\"\n",
        "    sign = hashlib.md5(query.encode()).hexdigest()\n",
        "\n",
        "    payload = {\n",
        "        \"printer_id\": printer_id,\n",
        "        \"once\": once,\n",
        "        \"time\": timestamp,\n",
        "        \"sign\": sign\n",
        "    }\n",
        "\n",
        "    response = requests.post(\"http://cloud.refinecolor.com/api/Printer/getPrinterStatus?lang=en-us\", data=payload)\n",
        "    print(\"Status Code:\", response.status_code)\n",
        "    try:\n",
        "        print(\"Response JSON:\", response.json())\n",
        "    except Exception as e:\n",
        "        print(\"Failed to parse JSON:\", e)\n",
        "        print(\"Raw Response Text:\", response.text)\n",
        "\n",
        "# Call the function\n",
        "if __name__ == \"__main__\":\n",
        "    check_printer_status(\"11224028\", \"990e3a14cde45d6cf7f0bba966c67dab\")\n"
      ],
      "metadata": {
        "id": "ASBcZBdcYZ9N",
        "colab": {
          "base_uri": "https://localhost:8080/"
        },
        "outputId": "40b50ab3-bab5-4070-d891-47e4c433d9d4"
      },
      "execution_count": 18,
      "outputs": [
        {
          "output_type": "stream",
          "name": "stdout",
          "text": [
            "Status Code: 200\n",
            "Response JSON: {'code': 400, 'msg': 'Printer 11224028 non-existent '}\n"
          ]
        }
      ]
    },
    {
      "cell_type": "code",
      "source": [
        "# ✅ RefineColor Print Task Submission Demo (Colab Compatible)\n",
        "import hashlib\n",
        "import requests\n",
        "import time\n",
        "import random\n",
        "\n",
        "# === 🔧 Configuration (Replace these with real values) ===\n",
        "# printer_id = \"YOUR_PRINTER_ID\"  # e.g., \"11224028\"\n",
        "# api_key = \"YOUR_API_KEY\"        # e.g., \"990e3a14cde45d6cf7f0bba966c67dab\"\n",
        "\n",
        "file_url = \"https://img.colorpark.cn/api/render/36531651306594235.png\"\n",
        "callback_url = \"http://yourdomain.com/api/callback\"  # Use ngrok for testing if needed\n",
        "\n",
        "# === 🧠 Step 1: Generate Signature ===\n",
        "once = str(random.randint(1000, 9999))\n",
        "timestamp = str(int(time.time()))\n",
        "raw_string = f\"printer_id={printer_id}&key={api_key}&once={once}&time={timestamp}\"\n",
        "sign = hashlib.md5(raw_string.encode('utf-8')).hexdigest()\n",
        "\n",
        "# === 📦 Step 2: Create Payload ===\n",
        "payload = {\n",
        "    \"printer_id\": printer_id,\n",
        "    \"once\": once,\n",
        "    \"time\": timestamp,\n",
        "    \"sign\": sign,\n",
        "    \"order_id\": \"ORDER123456\",            # Your unique order ID\n",
        "    \"name\": \"Test Product\",               # Product name\n",
        "    \"file\": file_url,                     # Image to print (JPG/PNG URL)\n",
        "    \"template_id\": 1,\n",
        "    \"width\": 100,\n",
        "    \"height\": 100,\n",
        "    \"left\": 0,\n",
        "    \"top\": 0,\n",
        "    \"white_ink\": 1,\n",
        "    \"callback\": callback_url\n",
        "}\n",
        "\n",
        "# === 🚀 Step 3: Send Request ===\n",
        "url = \"http://cloud.refinecolor.com/api/Printer/mulPrint?lang=en-us\"\n",
        "response = requests.post(url, data=payload)\n",
        "\n",
        "# === 📄 Step 4: Show the Result ===\n",
        "print(\"Status Code:\", response.status_code)\n",
        "try:\n",
        "    print(\"Response JSON:\", response.json())\n",
        "except Exception as e:\n",
        "    print(\"Error parsing response:\", e)\n",
        "    print(\"Raw Response:\", response.text)\n"
      ],
      "metadata": {
        "colab": {
          "base_uri": "https://localhost:8080/"
        },
        "id": "Fju_u0fEZ_Hm",
        "outputId": "88aafca8-59e0-4d4f-ce56-6b01411c75f7"
      },
      "execution_count": 19,
      "outputs": [
        {
          "output_type": "stream",
          "name": "stdout",
          "text": [
            "Status Code: 200\n",
            "Response JSON: {'code': 400, 'msg': 'Printer 11224028 non-existent '}\n"
          ]
        }
      ]
    },
    {
      "cell_type": "code",
      "source": [],
      "metadata": {
        "id": "1_X0vD48cvRF"
      },
      "execution_count": null,
      "outputs": []
    }
  ]
}