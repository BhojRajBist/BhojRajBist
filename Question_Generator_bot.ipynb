{
  "nbformat": 4,
  "nbformat_minor": 0,
  "metadata": {
    "colab": {
      "provenance": [],
      "authorship_tag": "ABX9TyPMnEgBP9arQvoygb9SGPcQ",
      "include_colab_link": true
    },
    "kernelspec": {
      "name": "python3",
      "display_name": "Python 3"
    },
    "language_info": {
      "name": "python"
    }
  },
  "cells": [
    {
      "cell_type": "markdown",
      "metadata": {
        "id": "view-in-github",
        "colab_type": "text"
      },
      "source": [
        "<a href=\"https://colab.research.google.com/github/BhojRajBist/BhojRajBist/blob/main/Question_Generator_bot.ipynb\" target=\"_parent\"><img src=\"https://colab.research.google.com/assets/colab-badge.svg\" alt=\"Open In Colab\"/></a>"
      ]
    },
    {
      "cell_type": "markdown",
      "source": [
        "Fetch the question from the api"
      ],
      "metadata": {
        "id": "lFgvD5YWD1bF"
      }
    },
    {
      "cell_type": "code",
      "execution_count": null,
      "metadata": {
        "id": "loHxOtwaDrIS"
      },
      "outputs": [],
      "source": [
        "import requests\n",
        "import json\n",
        "\n",
        "\n",
        "\n",
        "def fetch_questions(url):\n",
        "    response = requests.get(url)\n",
        "\n",
        "    if response.status_code == 200:\n",
        "        data = response.json()\n",
        "        results = data.get(\"results\", [])\n",
        "\n",
        "        for question in results:\n",
        "            print(\"Question:\", question[\"question\"])\n",
        "            print(\"1.\", question[\"option1\"])\n",
        "            print(\"2.\", question[\"option2\"])\n",
        "            print(\"3.\", question[\"option3\"])\n",
        "            print(\"4.\", question[\"option4\"])\n",
        "            print(\"Correct Option:\", question[\"correctOpt\"])\n",
        "            print(\"Explanation:\", question[\"explanation\"])\n",
        "            print(\"-\" * 50)  # Separator for readability\n",
        "\n",
        "        # If there's a next page, fetch questions recursively\n",
        "        next_page = data.get(\"next\")\n",
        "        if next_page:\n",
        "            fetch_questions(next_page)\n",
        "    else:\n",
        "        print(\"Failed to retrieve questions. Status code:\", response.status_code)\n",
        "\n",
        "# API URL\n",
        "\n",
        "api_url = \" # API URL\"\n",
        "fetch_questions(api_url)"
      ]
    },
    {
      "cell_type": "code",
      "source": [
        "from PIL import Image, ImageDraw, ImageFont\n",
        "\n",
        "# Create a new image with white background\n",
        "img = Image.new('RGB', (600, 400), color='white')\n",
        "d = ImageDraw.Draw(img)\n",
        "\n",
        "# Load a font\n",
        "try:\n",
        "    font = ImageFont.truetype(\"arial.ttf\", 20)\n",
        "    small_font = ImageFont.truetype(\"arial.ttf\", 15)\n",
        "except:\n",
        "    font = ImageFont.load_default()\n",
        "    small_font = ImageFont.load_default()\n",
        "\n",
        "# Define colors\n",
        "black = (0, 0, 0)\n",
        "green = (0, 128, 0)\n",
        "light_green = (200, 255, 200)\n",
        "\n",
        "# Add header text\n",
        "header_text = \"NEC License Exam Preparation : For Geomatics Engineering\"\n",
        "d.text((150, 10), header_text, font=small_font, fill=black)\n",
        "\n",
        "# Add the question\n",
        "question = \"Q. Which of the following instruments CAN BE USED without a tripod?\"\n",
        "d.text((20, 50), question, font=font, fill=black)\n",
        "\n",
        "# Draw option boxes with green borders and light green background\n",
        "options = [\n",
        "    (\"A\", \"Prismatic Compass\"),\n",
        "    (\"B\", \"Sextant\"),\n",
        "    (\"C\", \"Theodolite\"),\n",
        "    (\"D\", \"Surveyor's Compass\")\n",
        "]\n",
        "\n",
        "# Draw each option with a box\n",
        "for i, (letter, option) in enumerate(options):\n",
        "    y_position = 100 + i * 40\n",
        "\n",
        "    d.rectangle([20, y_position, 580, y_position + 30], fill=light_green, outline=green, width=2)\n",
        "\n",
        "    d.text((30, y_position + 5), f\"{letter}    {option}\", font=font, fill=black)\n",
        "\n",
        "# Add footer text\n",
        "footer_text = \"LOGIN INTO www.examneer.com for unlimited practice questions.\\nEmail: info@examneer.com\"\n",
        "\n",
        "d.rectangle([(0, 350), (600, 400)], fill=green)\n",
        "d.text((20, 355), footer_text, font=small_font, fill=(255, 255, 255))\n",
        "\n",
        "# Add a date in the bottom right corner\n",
        "date_text = \"2024-09-17\"\n",
        "d.text((500, 380), date_text, font=small_font, fill=(255, 255, 255))\n",
        "\n",
        "\n",
        "d.text((20, 10), \"EXAMNEER\", font=small_font, fill=green)\n",
        "\n",
        "\n",
        "img.save('question_image.png')\n",
        "\n",
        "print(\"Image has been created and saved as 'question_image.png'\")"
      ],
      "metadata": {
        "colab": {
          "base_uri": "https://localhost:8080/"
        },
        "id": "106wh9U5EDMe",
        "outputId": "b65e66b8-ba0b-422a-cb05-07eb60e316d4"
      },
      "execution_count": 1,
      "outputs": [
        {
          "output_type": "stream",
          "name": "stdout",
          "text": [
            "Image has been created and saved as 'question_image.png'\n"
          ]
        }
      ]
    }
  ]
}