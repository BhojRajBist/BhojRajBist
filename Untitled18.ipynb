{
  "nbformat": 4,
  "nbformat_minor": 0,
  "metadata": {
    "colab": {
      "provenance": [],
      "authorship_tag": "ABX9TyMgZDWkFfE3Txi9rXy4Qrvx",
      "include_colab_link": true
    },
    "kernelspec": {
      "name": "python3",
      "display_name": "Python 3"
    },
    "language_info": {
      "name": "python"
    }
  },
  "cells": [
    {
      "cell_type": "markdown",
      "metadata": {
        "id": "view-in-github",
        "colab_type": "text"
      },
      "source": [
        "<a href=\"https://colab.research.google.com/github/BhojRajBist/BhojRajBist/blob/main/Untitled18.ipynb\" target=\"_parent\"><img src=\"https://colab.research.google.com/assets/colab-badge.svg\" alt=\"Open In Colab\"/></a>"
      ]
    },
    {
      "cell_type": "code",
      "execution_count": 1,
      "metadata": {
        "colab": {
          "base_uri": "https://localhost:8080/"
        },
        "id": "cwXG_qDsIXaf",
        "outputId": "6b35a7fc-6a2d-4c87-e852-813f15a0541b"
      },
      "outputs": [
        {
          "output_type": "stream",
          "name": "stdout",
          "text": [
            "Hello, World!\n",
            "This is a file\n"
          ]
        }
      ],
      "source": [
        "%%bash\n",
        "# Example Bash script in Colab\n",
        "\n",
        "echo \"Hello, World!\"\n",
        "mkdir my_folder\n",
        "cd my_folder\n",
        "touch my_file.txt\n",
        "echo \"This is a file\" > my_file.txt\n",
        "cat my_file.txt\n"
      ]
    },
    {
      "cell_type": "code",
      "source": [
        "!echo \"Hello, World!\"\n",
        "!mkdir test_folder\n",
        "!ls\n"
      ],
      "metadata": {
        "colab": {
          "base_uri": "https://localhost:8080/"
        },
        "id": "rOMPvt24IqYY",
        "outputId": "2ef71e6c-b6ff-4701-ff0a-1e8e978f1f6e"
      },
      "execution_count": 2,
      "outputs": [
        {
          "output_type": "stream",
          "name": "stdout",
          "text": [
            "Hello, World!\n",
            "my_folder  sample_data\ttest_folder\n"
          ]
        }
      ]
    }
  ]
}