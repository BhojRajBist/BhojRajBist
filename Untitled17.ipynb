{
  "cells": [
    {
      "cell_type": "markdown",
      "metadata": {
        "id": "view-in-github",
        "colab_type": "text"
      },
      "source": [
        "<a href=\"https://colab.research.google.com/github/BhojRajBist/BhojRajBist/blob/main/Untitled17.ipynb\" target=\"_parent\"><img src=\"https://colab.research.google.com/assets/colab-badge.svg\" alt=\"Open In Colab\"/></a>"
      ]
    },
    {
      "cell_type": "code",
      "execution_count": null,
      "metadata": {
        "colab": {
          "base_uri": "https://localhost:8080/"
        },
        "id": "jj9G7y8hyplC",
        "outputId": "beb7e3a5-7024-4424-d0ba-f4581e2f3766"
      },
      "outputs": [
        {
          "name": "stdout",
          "output_type": "stream",
          "text": [
            "Requirement already satisfied: cachetools in /usr/local/lib/python3.10/dist-packages (5.5.0)\n"
          ]
        }
      ],
      "source": [
        "pip install cachetools\n"
      ]
    },
    {
      "cell_type": "code",
      "execution_count": null,
      "metadata": {
        "colab": {
          "base_uri": "https://localhost:8080/"
        },
        "id": "yqNPM0Luyv9l",
        "outputId": "22c556de-d6e8-46fd-821e-cd28cd69475f"
      },
      "outputs": [
        {
          "name": "stdout",
          "output_type": "stream",
          "text": [
            "4\n",
            "9\n"
          ]
        }
      ],
      "source": [
        "from cachetools import TTLCache, cached\n",
        "\n",
        "# Create a cache with a maximum of 3 items and a TTL of 5 seconds\n",
        "cache = TTLCache(maxsize=3, ttl=5)\n",
        "\n",
        "@cached(cache)\n",
        "def get_data(x):\n",
        "    return x * x\n",
        "\n",
        "print(get_data(2))  # Calculates and caches the result\n",
        "print(get_data(3))  # Returns the cached result\n"
      ]
    },
    {
      "cell_type": "code",
      "execution_count": null,
      "metadata": {
        "colab": {
          "base_uri": "https://localhost:8080/"
        },
        "id": "E7GNfq4QzB0q",
        "outputId": "c7857beb-1857-438b-c985-d219d2b0a48c"
      },
      "outputs": [
        {
          "name": "stdout",
          "output_type": "stream",
          "text": [
            "4\n",
            "4\n"
          ]
        }
      ],
      "source": [
        "import time\n",
        "\n",
        "print(get_data(2))  # First call, calculates and caches the result (4)\n",
        "time.sleep(6)       # Wait for more than the TTL (5 seconds)\n",
        "print(get_data(2))  # Cache has expired, recalculates the result (4)\n"
      ]
    },
    {
      "cell_type": "code",
      "execution_count": null,
      "metadata": {
        "colab": {
          "base_uri": "https://localhost:8080/"
        },
        "id": "r1kqYSlw309B",
        "outputId": "d4615178-d214-4c64-da14-b94ff1b73f6c"
      },
      "outputs": [
        {
          "name": "stdout",
          "output_type": "stream",
          "text": [
            "6765\n",
            "0\n",
            "1\n",
            "1\n",
            "2\n",
            "3\n",
            "5\n",
            "8\n",
            "13\n",
            "21\n",
            "34\n",
            "55\n",
            "89\n",
            "144\n",
            "233\n",
            "377\n",
            "610\n",
            "987\n",
            "1597\n",
            "2584\n",
            "4181\n",
            "6765\n"
          ]
        }
      ],
      "source": [
        "from cachetools import cached, LRUCache, TTLCache\n",
        "\n",
        "# speed up calculating Fibonacci numbers with dynamic programming\n",
        "@cached(cache={})\n",
        "def fib(n):\n",
        "    return n if n < 2 else fib(n - 1) + fib(n - 2)\n",
        "\n",
        "\n",
        "\n",
        "print(fib(20))\n",
        "\n",
        "for i in range(21):\n",
        "    print(fib(i))"
      ]
    },
    {
      "cell_type": "code",
      "execution_count": null,
      "metadata": {
        "colab": {
          "background_save": true,
          "base_uri": "https://localhost:8080/"
        },
        "id": "xbs0zsLv4Q5X",
        "outputId": "dddaec6b-1fb8-467a-e98e-225c2ff3e86c"
      },
      "outputs": [
        {
          "name": "stdout",
          "output_type": "stream",
          "text": [
            "POIs found: [{'name': 'Restaurant A', 'lat': 27.7172, 'lon': 85.324}, {'name': 'Cafe C', 'lat': 27.7169, 'lon': 85.3237}]\n",
            "Cached POIs found: [{'name': 'Restaurant A', 'lat': 27.7172, 'lon': 85.324}, {'name': 'Cafe C', 'lat': 27.7169, 'lon': 85.3237}]\n"
          ]
        }
      ],
      "source": [
        "from cachetools import TTLCache, cached\n",
        "\n",
        "# Create a cache with a maximum of 5 items and a TTL of 10 minutes\n",
        "poi_cache = TTLCache(maxsize=5, ttl=600)\n",
        "\n",
        "# Example POI data (in reality, this would be fetched from a spatial database)\n",
        "POI_DATA = [\n",
        "    {\"name\": \"Restaurant A\", \"lat\": 27.7172, \"lon\": 85.3240},\n",
        "    {\"name\": \"Hospital B\", \"lat\": 27.7175, \"lon\": 85.3255},\n",
        "    {\"name\": \"Cafe C\", \"lat\": 27.7169, \"lon\": 85.3237},\n",
        "    # ... more POIs\n",
        "]\n",
        "\n",
        "# Haversine formula to calculate distance between two lat/lon points (in meters)\n",
        "def haversine(lat1, lon1, lat2, lon2):\n",
        "    from math import radians, cos, sin, sqrt, atan2\n",
        "    R = 6371000  # Radius of the Earth in meters\n",
        "    lat1, lon1, lat2, lon2 = map(radians, [lat1, lon1, lat2, lon2])\n",
        "    dlat = lat2 - lat1\n",
        "    dlon = lon2 - lon1\n",
        "    a = sin(dlat/2)**2 + cos(lat1) * cos(lat2) * sin(dlon/2)**2\n",
        "    c = 2 * atan2(sqrt(a), sqrt(1-a))\n",
        "    return R * c\n",
        "\n",
        "# Function to find POIs within a radius\n",
        "@cached(poi_cache)\n",
        "def find_pois_within_radius(lat, lon, radius):\n",
        "    result = []\n",
        "    for poi in POI_DATA:\n",
        "        distance = haversine(lat, lon, poi['lat'], poi['lon'])\n",
        "        if distance <= radius:\n",
        "            result.append(poi)\n",
        "    return result\n",
        "\n",
        "# Usage\n",
        "lat, lon = 27.7172, 85.3240\n",
        "radius = 500  # 500 meters\n",
        "\n",
        "# The first call will calculate and cache the results\n",
        "pois = find_pois_within_radius(lat, lon, radius)\n",
        "print(\"POIs found:\", pois)\n",
        "\n",
        "# Subsequent calls with the same parameters will use the cached result\n",
        "pois_cached = find_pois_within_radius(lat, lon, radius)\n",
        "print(\"Cached POIs found:\", pois_cached)\n"
      ]
    },
    {
      "cell_type": "code",
      "source": [
        "from cachetools import TTLCache, cached\n",
        "import time\n",
        "\n",
        "# Create a cache with a max size of 5 items and TTL (time to live) of 10 seconds\n",
        "cache = TTLCache(maxsize=5, ttl=10)\n",
        "\n",
        "# Sample function to simulate fetching city boundaries (expensive operation)\n",
        "@cached(cache)\n",
        "def get_city_boundary(city_name):\n",
        "    print(f\"Fetching boundary for {city_name}...\")\n",
        "    # Simulate a delay (e.g., API call)\n",
        "    time.sleep(2)\n",
        "    # Return a fake boundary (latitude and longitude pairs)\n",
        "    return {\n",
        "        \"city\": city_name,\n",
        "        \"boundary\": [\n",
        "            (27.7172, 85.3240),  # Kathmandu coordinates\n",
        "            (27.6937, 85.3444),  # Random coordinates around Kathmandu\n",
        "            (27.7086, 85.3271)\n",
        "        ]\n",
        "    }\n",
        "\n",
        "# Fetch city boundaries\n",
        "print(get_city_boundary(\"Kathmandu\"))  # Fetches from \"API\" (first call)\n",
        "print(get_city_boundary(\"Kathmandu\"))  # Uses cached result (second call)\n",
        "\n",
        "# Fetch for a different city\n",
        "print(get_city_boundary(\"Pokhara\"))  # Fetches from \"API\" (first call)\n",
        "print(get_city_boundary(\"Pokhara\"))  # Uses cached result (second call)\n",
        "\n",
        "# Wait for more than 10 seconds to expire the cache\n",
        "time.sleep(11)\n",
        "\n",
        "# Fetch again for Kathmandu, cache expired, so it fetches again\n",
        "print(get_city_boundary(\"Kathmandu\"))  # Fetches from \"API\" after cache expired\n"
      ],
      "metadata": {
        "colab": {
          "base_uri": "https://localhost:8080/"
        },
        "id": "DHeM7tBdEdKZ",
        "outputId": "378e7169-fd02-4765-918c-22b8d8d6a11f"
      },
      "execution_count": 1,
      "outputs": [
        {
          "output_type": "stream",
          "name": "stdout",
          "text": [
            "Fetching boundary for Kathmandu...\n",
            "{'city': 'Kathmandu', 'boundary': [(27.7172, 85.324), (27.6937, 85.3444), (27.7086, 85.3271)]}\n",
            "{'city': 'Kathmandu', 'boundary': [(27.7172, 85.324), (27.6937, 85.3444), (27.7086, 85.3271)]}\n",
            "Fetching boundary for Pokhara...\n",
            "{'city': 'Pokhara', 'boundary': [(27.7172, 85.324), (27.6937, 85.3444), (27.7086, 85.3271)]}\n",
            "{'city': 'Pokhara', 'boundary': [(27.7172, 85.324), (27.6937, 85.3444), (27.7086, 85.3271)]}\n",
            "Fetching boundary for Kathmandu...\n",
            "{'city': 'Kathmandu', 'boundary': [(27.7172, 85.324), (27.6937, 85.3444), (27.7086, 85.3271)]}\n"
          ]
        }
      ]
    }
  ],
  "metadata": {
    "colab": {
      "provenance": [],
      "authorship_tag": "ABX9TyNbvbPApL75NeaFJEriHO7q",
      "include_colab_link": true
    },
    "kernelspec": {
      "display_name": "Python 3",
      "name": "python3"
    },
    "language_info": {
      "name": "python"
    }
  },
  "nbformat": 4,
  "nbformat_minor": 0
}