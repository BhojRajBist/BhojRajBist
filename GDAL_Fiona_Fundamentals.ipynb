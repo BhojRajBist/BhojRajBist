{
  "nbformat": 4,
  "nbformat_minor": 0,
  "metadata": {
    "colab": {
      "provenance": [],
      "authorship_tag": "ABX9TyNuEmqaXSAtxT01tx1eVE3m",
      "include_colab_link": true
    },
    "kernelspec": {
      "name": "python3",
      "display_name": "Python 3"
    },
    "language_info": {
      "name": "python"
    }
  },
  "cells": [
    {
      "cell_type": "markdown",
      "metadata": {
        "id": "view-in-github",
        "colab_type": "text"
      },
      "source": [
        "<a href=\"https://colab.research.google.com/github/BhojRajBist/BhojRajBist/blob/main/GDAL_Fiona_Fundamentals.ipynb\" target=\"_parent\"><img src=\"https://colab.research.google.com/assets/colab-badge.svg\" alt=\"Open In Colab\"/></a>"
      ]
    },
    {
      "cell_type": "markdown",
      "source": [
        "\n",
        "\n",
        "```\n",
        "https://gdal.org/en/stable/\n",
        "```\n",
        "\n"
      ],
      "metadata": {
        "id": "t5YgeWJLN3N3"
      }
    },
    {
      "cell_type": "code",
      "execution_count": 1,
      "metadata": {
        "id": "U7iQC06nNfBq"
      },
      "outputs": [],
      "source": [
        "from osgeo import gdal, osr"
      ]
    },
    {
      "cell_type": "code",
      "source": [
        "import numpy as np"
      ],
      "metadata": {
        "id": "Lf1dfIN2NweM"
      },
      "execution_count": 3,
      "outputs": []
    },
    {
      "cell_type": "code",
      "source": [
        "driver = gdal.GetDriverByName('GTiff')\n",
        "out_ds = driver.Create('output.tif',\n",
        "                       xsize=500,\n",
        "                       ysize=500,\n",
        "                       bands=1,\n",
        "                       eType=gdal.GDT_Float32)\n",
        "\n",
        "# Set georeferencing\n",
        "geotransform = (10.0, 0.0001, 0.0, 50.0, 0.0, -0.0001)\n",
        "out_ds.SetGeoTransform(geotransform)\n",
        "\n",
        "# Set CRS\n",
        "srs = osr.SpatialReference()\n",
        "srs.ImportFromEPSG(4326)\n",
        "out_ds.SetProjection(srs.ExportToWkt())\n",
        "\n",
        "# Write data\n",
        "band = out_ds.GetRasterBand(1)\n",
        "band.WriteArray(np.random.rand(500,500))\n",
        "band.SetNoDataValue(-9999)\n",
        "out_ds.FlushCache()"
      ],
      "metadata": {
        "id": "ZUFcYcsaNpD3"
      },
      "execution_count": 4,
      "outputs": []
    },
    {
      "cell_type": "code",
      "source": [
        "\n",
        "\n",
        "import numpy as np\n",
        "from osgeo import gdal\n",
        "\n",
        "# Open the TIFF file\n",
        "dataset = gdal.Open('output.tif')\n",
        "\n",
        "if dataset is None:\n",
        "    print(\"Could not open the file.\")\n",
        "else:\n",
        "    # Get the raster band\n",
        "    band = dataset.GetRasterBand(1)\n",
        "\n",
        "    # Read the data as a NumPy array\n",
        "    data = band.ReadAsArray()\n",
        "\n",
        "    # Print some information about the data\n",
        "    print(\"Data type:\", data.dtype)\n",
        "    print(\"Data shape:\", data.shape)\n",
        "    print(\"No data value:\", band.GetNoDataValue())\n",
        "\n",
        "    # Example: Print a small portion of the data\n",
        "    print(\"\\nSample data:\")\n",
        "    print(data[:5, :5])  # Print the first 5x5 values\n",
        "\n",
        "\n",
        "    # Close the dataset\n",
        "    dataset = None\n"
      ],
      "metadata": {
        "colab": {
          "base_uri": "https://localhost:8080/"
        },
        "id": "rvzPYdusNub1",
        "outputId": "4f0d7499-0589-46fd-d3ad-2d712487f2f7"
      },
      "execution_count": 5,
      "outputs": [
        {
          "output_type": "stream",
          "name": "stdout",
          "text": [
            "Data type: float32\n",
            "Data shape: (500, 500)\n",
            "No data value: None\n",
            "\n",
            "Sample data:\n",
            "[[0. 0. 0. 0. 0.]\n",
            " [0. 0. 0. 0. 0.]\n",
            " [0. 0. 0. 0. 0.]\n",
            " [0. 0. 0. 0. 0.]\n",
            " [0. 0. 0. 0. 0.]]\n"
          ]
        }
      ]
    },
    {
      "cell_type": "code",
      "source": [
        "\n",
        "\n",
        "import matplotlib.pyplot as plt\n",
        "\n",
        "# Open the TIFF file\n",
        "dataset = gdal.Open('output.tif')\n",
        "\n",
        "if dataset is None:\n",
        "    print(\"Could not open the file.\")\n",
        "else:\n",
        "    # Get the raster band\n",
        "    band = dataset.GetRasterBand(1)\n",
        "\n",
        "    # Read the data as a NumPy array\n",
        "    data = band.ReadAsArray()\n",
        "\n",
        "    # Display the image using matplotlib\n",
        "    plt.imshow(data, cmap='gray')  # You can change the colormap as needed\n",
        "    plt.colorbar()  # Add a colorbar for reference\n",
        "    plt.title('TIFF Image')\n",
        "    plt.show()\n",
        "\n",
        "    # Close the dataset\n",
        "    dataset = None\n"
      ],
      "metadata": {
        "colab": {
          "base_uri": "https://localhost:8080/",
          "height": 452
        },
        "id": "-FfwQ-faPTS3",
        "outputId": "58f35ce2-cc88-4850-84ce-46fb33bb7f36"
      },
      "execution_count": 6,
      "outputs": [
        {
          "output_type": "display_data",
          "data": {
            "text/plain": [
              "<Figure size 640x480 with 2 Axes>"
            ],
            "image/png": "[encoded data removed]"
          },
          "metadata": {}
        }
      ]
    }
  ]
}