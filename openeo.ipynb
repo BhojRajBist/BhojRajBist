{
  "cells": [
    {
      "cell_type": "markdown",
      "metadata": {
        "id": "view-in-github",
        "colab_type": "text"
      },
      "source": [
        "<a href=\"https://colab.research.google.com/github/BhojRajBist/BhojRajBist/blob/main/openeo.ipynb\" target=\"_parent\"><img src=\"https://colab.research.google.com/assets/colab-badge.svg\" alt=\"Open In Colab\"/></a>"
      ]
    },
    {
      "cell_type": "code",
      "source": [
        "pip install openeo"
      ],
      "metadata": {
        "colab": {
          "base_uri": "https://localhost:8080/"
        },
        "id": "bHEoUgiXNoxo",
        "outputId": "ae77fd35-38e9-4b12-fbd5-162a407f87f3"
      },
      "execution_count": 4,
      "outputs": [
        {
          "output_type": "stream",
          "name": "stdout",
          "text": [
            "Collecting openeo\n",
            "  Downloading openeo-0.31.0-py3-none-any.whl.metadata (7.7 kB)\n",
            "Requirement already satisfied: requests>=2.26.0 in /usr/local/lib/python3.10/dist-packages (from openeo) (2.32.3)\n",
            "Requirement already satisfied: shapely>=1.6.4 in /usr/local/lib/python3.10/dist-packages (from openeo) (2.0.6)\n",
            "Requirement already satisfied: numpy>=1.17.0 in /usr/local/lib/python3.10/dist-packages (from openeo) (1.26.4)\n",
            "Requirement already satisfied: xarray>=0.12.3 in /usr/local/lib/python3.10/dist-packages (from openeo) (2024.6.0)\n",
            "Requirement already satisfied: pandas>0.20.0 in /usr/local/lib/python3.10/dist-packages (from openeo) (2.1.4)\n",
            "Collecting pystac>=1.5.0 (from openeo)\n",
            "  Downloading pystac-1.10.1-py3-none-any.whl.metadata (6.4 kB)\n",
            "Collecting deprecated>=1.2.12 (from openeo)\n",
            "  Downloading Deprecated-1.2.14-py2.py3-none-any.whl.metadata (5.4 kB)\n",
            "Requirement already satisfied: wrapt<2,>=1.10 in /usr/local/lib/python3.10/dist-packages (from deprecated>=1.2.12->openeo) (1.16.0)\n",
            "Requirement already satisfied: python-dateutil>=2.8.2 in /usr/local/lib/python3.10/dist-packages (from pandas>0.20.0->openeo) (2.8.2)\n",
            "Requirement already satisfied: pytz>=2020.1 in /usr/local/lib/python3.10/dist-packages (from pandas>0.20.0->openeo) (2024.1)\n",
            "Requirement already satisfied: tzdata>=2022.1 in /usr/local/lib/python3.10/dist-packages (from pandas>0.20.0->openeo) (2024.1)\n",
            "Requirement already satisfied: charset-normalizer<4,>=2 in /usr/local/lib/python3.10/dist-packages (from requests>=2.26.0->openeo) (3.3.2)\n",
            "Requirement already satisfied: idna<4,>=2.5 in /usr/local/lib/python3.10/dist-packages (from requests>=2.26.0->openeo) (3.8)\n",
            "Requirement already satisfied: urllib3<3,>=1.21.1 in /usr/local/lib/python3.10/dist-packages (from requests>=2.26.0->openeo) (2.0.7)\n",
            "Requirement already satisfied: certifi>=2017.4.17 in /usr/local/lib/python3.10/dist-packages (from requests>=2.26.0->openeo) (2024.7.4)\n",
            "Requirement already satisfied: packaging>=23.1 in /usr/local/lib/python3.10/dist-packages (from xarray>=0.12.3->openeo) (24.1)\n",
            "Requirement already satisfied: six>=1.5 in /usr/local/lib/python3.10/dist-packages (from python-dateutil>=2.8.2->pandas>0.20.0->openeo) (1.16.0)\n",
            "Downloading openeo-0.31.0-py3-none-any.whl (265 kB)\n",
            "\u001b[2K   \u001b[90m━━━━━━━━━━━━━━━━━━━━━━━━━━━━━━━━━━━━━━━━\u001b[0m \u001b[32m265.6/265.6 kB\u001b[0m \u001b[31m5.5 MB/s\u001b[0m eta \u001b[36m0:00:00\u001b[0m\n",
            "\u001b[?25hDownloading Deprecated-1.2.14-py2.py3-none-any.whl (9.6 kB)\n",
            "Downloading pystac-1.10.1-py3-none-any.whl (182 kB)\n",
            "\u001b[2K   \u001b[90m━━━━━━━━━━━━━━━━━━━━━━━━━━━━━━━━━━━━━━━━\u001b[0m \u001b[32m182.9/182.9 kB\u001b[0m \u001b[31m10.4 MB/s\u001b[0m eta \u001b[36m0:00:00\u001b[0m\n",
            "\u001b[?25hInstalling collected packages: deprecated, pystac, openeo\n",
            "Successfully installed deprecated-1.2.14 openeo-0.31.0 pystac-1.10.1\n"
          ]
        }
      ]
    },
    {
      "cell_type": "code",
      "source": [
        "import openeo\n",
        "\n",
        "# Connect to the openEO backend and authenticate\n",
        "eoconn = openeo.connect(\"openeo.dataspace.copernicus.eu\").authenticate_oidc()\n",
        "\n",
        "# Define the area of interest (AOI) and date range\n",
        "aoi = {\n",
        "    \"type\": \"Polygon\",\n",
        "    \"coordinates\": [\n",
        "        [\n",
        "            [5.179324150085449, 51.2498689148547],\n",
        "            [5.178744792938232, 51.24672597710759],\n",
        "            [5.185289382934569, 51.24504696935156],\n",
        "            [5.18676996231079, 51.245342479161295],\n",
        "            [5.187370777130127, 51.24918393390799],\n",
        "            [5.179324150085449, 51.2498689148547]\n",
        "        ]\n",
        "    ]\n",
        "}\n",
        "date = [\"2020-05-06\", \"2020-05-30\"]\n",
        "\n",
        "# Create a datacube using the BIOPAR process\n",
        "biopar = eoconn.datacube_from_process(\n",
        "    process_id=\"BIOPAR\",\n",
        "    namespace=\"https://openeo.dataspace.copernicus.eu/openeo/1.1/processes/u:3e24e251-2e9a-438f-90a9-d4500e576574/BIOPAR\",\n",
        "    date=date,\n",
        "    polygon=aoi,\n",
        "    biopar_type=\"FCOVER\"\n",
        ")\n",
        "\n",
        "# Execute the process as a batch job\n",
        "job = biopar.execute_batch(out_format=\"GTiff\")\n",
        "\n",
        "# Wait for the job to finish and get the results\n",
        "job_result = job.get_results()\n",
        "\n",
        "# Download all GeoTIFF files generated by the job\n",
        "files = job_result.download_files(target=\".\")\n",
        "\n",
        "# Optional: Print the paths of downloaded files\n",
        "print(\"Downloaded files:\", files)\n"
      ],
      "metadata": {
        "colab": {
          "base_uri": "https://localhost:8080/"
        },
        "id": "Dq67hynqHQBd",
        "outputId": "94a64df8-d6bf-4323-b612-437de62ba843"
      },
      "execution_count": 64,
      "outputs": [
        {
          "output_type": "stream",
          "name": "stdout",
          "text": [
            "Authenticated using refresh token.\n",
            "0:00:00 Job 'j-2408298cc6a74f01b3a96884fdfdc49e': send 'start'\n",
            "0:00:13 Job 'j-2408298cc6a74f01b3a96884fdfdc49e': created (progress 0%)\n",
            "0:00:27 Job 'j-2408298cc6a74f01b3a96884fdfdc49e': queued (progress 0%)\n",
            "0:00:33 Job 'j-2408298cc6a74f01b3a96884fdfdc49e': queued (progress 0%)\n",
            "0:00:41 Job 'j-2408298cc6a74f01b3a96884fdfdc49e': queued (progress 0%)\n",
            "0:00:51 Job 'j-2408298cc6a74f01b3a96884fdfdc49e': queued (progress 0%)\n",
            "0:01:04 Job 'j-2408298cc6a74f01b3a96884fdfdc49e': queued (progress 0%)\n",
            "0:01:19 Job 'j-2408298cc6a74f01b3a96884fdfdc49e': queued (progress 0%)\n",
            "0:01:45 Job 'j-2408298cc6a74f01b3a96884fdfdc49e': running (progress N/A)\n",
            "0:02:09 Job 'j-2408298cc6a74f01b3a96884fdfdc49e': running (progress N/A)\n",
            "0:02:39 Job 'j-2408298cc6a74f01b3a96884fdfdc49e': running (progress N/A)\n",
            "0:03:17 Job 'j-2408298cc6a74f01b3a96884fdfdc49e': finished (progress 100%)\n",
            "Downloaded files: [PosixPath('openEO_2020-05-07Z.tif'), PosixPath('openEO_2020-05-15Z.tif'), PosixPath('job-results.json')]\n"
          ]
        }
      ]
    },
    {
      "cell_type": "markdown",
      "source": [
        "The downloaded files can be viewed at\n",
        "https://openeo.dataspace.copernicus.eu/\n"
      ],
      "metadata": {
        "id": "5KCqeAdos9Vp"
      }
    },
    {
      "cell_type": "markdown",
      "source": [
        "**Below is the code to download the sentinel data **"
      ],
      "metadata": {
        "id": "OHced5tq_AlN"
      }
    },
    {
      "cell_type": "code",
      "source": [
        "import openeo\n",
        "\n",
        "# Connect to the openEO backend and authenticate\n",
        "eoconn = openeo.connect(\"openeo.dataspace.copernicus.eu\").authenticate_oidc()\n",
        "\n",
        "# Define the area of interest (AOI) and date range\n",
        "aoi = {\n",
        "    \"type\": \"Polygon\",\n",
        "    \"coordinates\": [\n",
        "  [\n",
        "            [\n",
        "              83.1522019179464,\n",
        "              28.779379369880957\n",
        "            ],\n",
        "            [\n",
        "              83.1522019179464,\n",
        "              27.692613977851323\n",
        "            ],\n",
        "            [\n",
        "              84.80878763943974,\n",
        "              27.692613977851323\n",
        "            ],\n",
        "            [\n",
        "              84.80878763943974,\n",
        "              28.779379369880957\n",
        "            ],\n",
        "            [\n",
        "              83.1522019179464,\n",
        "              28.779379369880957\n",
        "            ]\n",
        "          ]\n",
        "    ]\n",
        "}\n",
        "date = [\"2020-05-06\", \"2020-05-30\"]\n",
        "\n",
        "# Load the Sentinel-2 data cube\n",
        "s2_data = eoconn.load_collection(\n",
        "    \"SENTINEL2_L2A\",  # Sentinel-2 L2A product\n",
        "    spatial_extent=aoi,\n",
        "    temporal_extent=date,\n",
        "    bands=[\n",
        "        \"B01\", \"B02\", \"B03\", \"B04\", \"B05\", \"B06\", \"B07\",\n",
        "        \"B08\", \"B8A\", \"B09\", \"B11\", \"B12\"\n",
        "    ]\n",
        ")\n",
        "\n",
        "# Execute the process as a batch job\n",
        "job = s2_data.execute_batch(out_format=\"GTiff\")\n",
        "\n",
        "# Wait for the job to finish and get the results\n",
        "job_result = job.get_results()\n",
        "\n",
        "# Download all GeoTIFF files generated by the job\n",
        "files = job_result.download_files(target=\".\")\n",
        "\n",
        "#Print the paths of downloaded files\n",
        "\n",
        "print(\"Downloaded files:\", files)\n"
      ],
      "metadata": {
        "colab": {
          "base_uri": "https://localhost:8080/",
          "height": 1000
        },
        "id": "rhFmWN1y8e8d",
        "outputId": "ab8c08ab-5a4c-48ba-94a6-2af967c91067"
      },
      "execution_count": null,
      "outputs": [
        {
          "output_type": "display_data",
          "data": {
            "text/html": [
              "Visit <a href=\"https://identity.dataspace.copernicus.eu/auth/realms/CDSE/device?user_code=VQSQ-GHBW\" title=\"Authenticate at https://identity.dataspace.copernicus.eu/auth/realms/CDSE/device?user_code=VQSQ-GHBW\" target=\"_blank\" rel=\"noopener noreferrer\">https://identity.dataspace.copernicus.eu/auth/realms/CDSE/device?user_code=VQSQ-GHBW</a> <a href=\"#\" onclick=\"navigator.clipboard.writeText('https://identity.dataspace.copernicus.eu/auth/realms/CDSE/device?user_code=VQSQ-GHBW');return false;\" title=\"Copy authentication URL to clipboard\">&#128203;</a> to authenticate."
            ]
          },
          "metadata": {}
        },
        {
          "output_type": "display_data",
          "data": {
            "text/html": [
              "✅ Authorized successfully"
            ]
          },
          "metadata": {}
        },
        {
          "output_type": "stream",
          "name": "stdout",
          "text": [
            "Authenticated using device code flow.\n",
            "0:00:00 Job 'j-24082901d0ee433486cdb96ab10f2788': send 'start'\n",
            "0:00:28 Job 'j-24082901d0ee433486cdb96ab10f2788': created (progress 0%)\n",
            "0:00:33 Job 'j-24082901d0ee433486cdb96ab10f2788': created (progress 0%)\n",
            "0:00:40 Job 'j-24082901d0ee433486cdb96ab10f2788': created (progress 0%)\n",
            "0:00:48 Job 'j-24082901d0ee433486cdb96ab10f2788': created (progress 0%)\n",
            "0:01:05 Job 'j-24082901d0ee433486cdb96ab10f2788': created (progress 0%)\n",
            "0:01:17 Job 'j-24082901d0ee433486cdb96ab10f2788': created (progress 0%)\n",
            "0:01:33 Job 'j-24082901d0ee433486cdb96ab10f2788': running (progress N/A)\n",
            "0:01:52 Job 'j-24082901d0ee433486cdb96ab10f2788': running (progress N/A)\n",
            "0:02:26 Job 'j-24082901d0ee433486cdb96ab10f2788': running (progress N/A)\n",
            "0:02:56 Job 'j-24082901d0ee433486cdb96ab10f2788': running (progress N/A)\n",
            "0:03:33 Job 'j-24082901d0ee433486cdb96ab10f2788': running (progress N/A)\n",
            "0:04:20 Job 'j-24082901d0ee433486cdb96ab10f2788': running (progress N/A)\n",
            "0:05:19 Job 'j-24082901d0ee433486cdb96ab10f2788': running (progress N/A)\n",
            "0:06:19 Job 'j-24082901d0ee433486cdb96ab10f2788': running (progress N/A)\n",
            "0:07:20 Job 'j-24082901d0ee433486cdb96ab10f2788': running (progress N/A)\n",
            "0:08:20 Job 'j-24082901d0ee433486cdb96ab10f2788': running (progress N/A)\n",
            "0:09:20 Job 'j-24082901d0ee433486cdb96ab10f2788': running (progress N/A)\n",
            "0:10:21 Job 'j-24082901d0ee433486cdb96ab10f2788': running (progress N/A)\n",
            "0:11:21 Job 'j-24082901d0ee433486cdb96ab10f2788': running (progress N/A)\n",
            "0:12:21 Job 'j-24082901d0ee433486cdb96ab10f2788': running (progress N/A)\n",
            "0:13:21 Job 'j-24082901d0ee433486cdb96ab10f2788': running (progress N/A)\n",
            "0:14:22 Job 'j-24082901d0ee433486cdb96ab10f2788': running (progress N/A)\n",
            "0:15:22 Job 'j-24082901d0ee433486cdb96ab10f2788': running (progress N/A)\n",
            "0:16:23 Job 'j-24082901d0ee433486cdb96ab10f2788': running (progress N/A)\n",
            "0:17:23 Job 'j-24082901d0ee433486cdb96ab10f2788': running (progress N/A)\n",
            "0:18:23 Job 'j-24082901d0ee433486cdb96ab10f2788': running (progress N/A)\n",
            "0:19:24 Job 'j-24082901d0ee433486cdb96ab10f2788': running (progress N/A)\n",
            "0:20:26 Job 'j-24082901d0ee433486cdb96ab10f2788': running (progress N/A)\n",
            "0:21:27 Job 'j-24082901d0ee433486cdb96ab10f2788': running (progress N/A)\n",
            "0:22:27 Job 'j-24082901d0ee433486cdb96ab10f2788': running (progress N/A)\n",
            "0:23:27 Job 'j-24082901d0ee433486cdb96ab10f2788': running (progress N/A)\n",
            "0:24:27 Job 'j-24082901d0ee433486cdb96ab10f2788': running (progress N/A)\n",
            "0:25:28 Job 'j-24082901d0ee433486cdb96ab10f2788': running (progress N/A)\n",
            "0:26:28 Job 'j-24082901d0ee433486cdb96ab10f2788': running (progress N/A)\n",
            "0:27:28 Job 'j-24082901d0ee433486cdb96ab10f2788': running (progress N/A)\n",
            "0:28:29 Job 'j-24082901d0ee433486cdb96ab10f2788': running (progress N/A)\n",
            "0:29:29 Job 'j-24082901d0ee433486cdb96ab10f2788': running (progress N/A)\n",
            "0:30:30 Job 'j-24082901d0ee433486cdb96ab10f2788': running (progress N/A)\n",
            "0:31:30 Job 'j-24082901d0ee433486cdb96ab10f2788': running (progress N/A)\n",
            "0:32:30 Job 'j-24082901d0ee433486cdb96ab10f2788': running (progress N/A)\n",
            "0:33:39 Job 'j-24082901d0ee433486cdb96ab10f2788': running (progress N/A)\n",
            "0:34:39 Job 'j-24082901d0ee433486cdb96ab10f2788': running (progress N/A)\n",
            "0:35:39 Job 'j-24082901d0ee433486cdb96ab10f2788': running (progress N/A)\n",
            "0:36:40 Job 'j-24082901d0ee433486cdb96ab10f2788': running (progress N/A)\n",
            "0:37:40 Job 'j-24082901d0ee433486cdb96ab10f2788': running (progress N/A)\n",
            "0:38:40 Job 'j-24082901d0ee433486cdb96ab10f2788': running (progress N/A)\n",
            "0:39:40 Job 'j-24082901d0ee433486cdb96ab10f2788': running (progress N/A)\n",
            "0:40:41 Job 'j-24082901d0ee433486cdb96ab10f2788': running (progress N/A)\n",
            "0:41:41 Job 'j-24082901d0ee433486cdb96ab10f2788': running (progress N/A)\n",
            "0:42:41 Job 'j-24082901d0ee433486cdb96ab10f2788': running (progress N/A)\n",
            "0:43:42 Job 'j-24082901d0ee433486cdb96ab10f2788': running (progress N/A)\n",
            "0:44:52 Job 'j-24082901d0ee433486cdb96ab10f2788': running (progress N/A)\n",
            "0:45:52 Job 'j-24082901d0ee433486cdb96ab10f2788': running (progress N/A)\n",
            "0:46:52 Job 'j-24082901d0ee433486cdb96ab10f2788': running (progress N/A)\n",
            "0:47:53 Job 'j-24082901d0ee433486cdb96ab10f2788': running (progress N/A)\n",
            "0:48:53 Job 'j-24082901d0ee433486cdb96ab10f2788': running (progress N/A)\n",
            "0:49:53 Job 'j-24082901d0ee433486cdb96ab10f2788': running (progress N/A)\n",
            "0:50:54 Job 'j-24082901d0ee433486cdb96ab10f2788': running (progress N/A)\n",
            "0:51:54 Job 'j-24082901d0ee433486cdb96ab10f2788': running (progress N/A)\n",
            "0:52:55 Job 'j-24082901d0ee433486cdb96ab10f2788': running (progress N/A)\n",
            "0:53:55 Job 'j-24082901d0ee433486cdb96ab10f2788': running (progress N/A)\n",
            "0:54:55 Job 'j-24082901d0ee433486cdb96ab10f2788': running (progress N/A)\n",
            "0:55:56 Job 'j-24082901d0ee433486cdb96ab10f2788': running (progress N/A)\n",
            "0:56:58 Job 'j-24082901d0ee433486cdb96ab10f2788': running (progress N/A)\n",
            "0:57:59 Job 'j-24082901d0ee433486cdb96ab10f2788': running (progress N/A)\n",
            "0:58:59 Job 'j-24082901d0ee433486cdb96ab10f2788': running (progress N/A)\n",
            "0:59:59 Job 'j-24082901d0ee433486cdb96ab10f2788': running (progress N/A)\n",
            "1:01:00 Job 'j-24082901d0ee433486cdb96ab10f2788': running (progress N/A)\n",
            "1:02:00 Job 'j-24082901d0ee433486cdb96ab10f2788': running (progress N/A)\n",
            "1:03:00 Job 'j-24082901d0ee433486cdb96ab10f2788': running (progress N/A)\n",
            "1:04:01 Job 'j-24082901d0ee433486cdb96ab10f2788': running (progress N/A)\n"
          ]
        }
      ]
    }
  ],
  "metadata": {
    "colab": {
      "provenance": [],
      "authorship_tag": "ABX9TyN5hP3CkDz7KDjYZknZqz19",
      "include_colab_link": true
    },
    "kernelspec": {
      "display_name": "Python 3",
      "name": "python3"
    },
    "language_info": {
      "name": "python"
    }
  },
  "nbformat": 4,
  "nbformat_minor": 0
}