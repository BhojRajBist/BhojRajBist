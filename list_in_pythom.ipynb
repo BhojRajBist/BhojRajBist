{
  "nbformat": 4,
  "nbformat_minor": 0,
  "metadata": {
    "colab": {
      "provenance": [],
      "authorship_tag": "ABX9TyM/rnlIVOmTQ26QwWLS1bNE",
      "include_colab_link": true
    },
    "kernelspec": {
      "name": "python3",
      "display_name": "Python 3"
    },
    "language_info": {
      "name": "python"
    }
  },
  "cells": [
    {
      "cell_type": "markdown",
      "metadata": {
        "id": "view-in-github",
        "colab_type": "text"
      },
      "source": [
        "<a href=\"https://colab.research.google.com/github/BhojRajBist/BhojRajBist/blob/main/list_in_pythom.ipynb\" target=\"_parent\"><img src=\"https://colab.research.google.com/assets/colab-badge.svg\" alt=\"Open In Colab\"/></a>"
      ]
    },
    {
      "cell_type": "code",
      "execution_count": 2,
      "metadata": {
        "colab": {
          "base_uri": "https://localhost:8080/"
        },
        "id": "8gio7Jl498LA",
        "outputId": "9e19f9b5-89c8-4445-eabd-c88d678018cd"
      },
      "outputs": [
        {
          "output_type": "stream",
          "name": "stdout",
          "text": [
            "Original list: [10, 5, 20, 15, 30]\n"
          ]
        }
      ],
      "source": [
        "\n",
        "my_list = [10, 5, 20, 15, 30]\n",
        "print(\"Original list:\", my_list)\n",
        "\n"
      ]
    },
    {
      "cell_type": "code",
      "source": [
        "def find_max(arr):\n",
        "  \"\"\"Finds the maximum element in a list.\"\"\"\n",
        "  if not arr:\n",
        "    return None\n",
        "\n",
        "  max_element = arr[0]\n",
        "  for element in arr:\n",
        "    if element > max_element:\n",
        "      max_element = element\n",
        "  return max_element\n",
        "\n",
        "max_value = find_max(my_list)\n",
        "print(\"Maximum element in the list:\", max_value)\n"
      ],
      "metadata": {
        "colab": {
          "base_uri": "https://localhost:8080/"
        },
        "id": "67GIJjTF-RHd",
        "outputId": "08ef8667-2475-4ca2-b057-22ae0f57e86b"
      },
      "execution_count": 4,
      "outputs": [
        {
          "output_type": "stream",
          "name": "stdout",
          "text": [
            "Maximum element in the list: 30\n"
          ]
        }
      ]
    },
    {
      "cell_type": "code",
      "source": [
        "another_list = [55, 12, 89, 34, 77]\n",
        "print(\"\\nAnother list:\", another_list)\n",
        "max_value_another = find_max(another_list)\n",
        "print(\"Maximum element in the another list:\", max_value_another)"
      ],
      "metadata": {
        "colab": {
          "base_uri": "https://localhost:8080/"
        },
        "id": "SjSOiA8h-YYX",
        "outputId": "96c7d025-ed0f-425a-9cc7-1db6ee4f48c8"
      },
      "execution_count": 5,
      "outputs": [
        {
          "output_type": "stream",
          "name": "stdout",
          "text": [
            "\n",
            "Another list: [55, 12, 89, 34, 77]\n",
            "Maximum element in the another list: 89\n"
          ]
        }
      ]
    }
  ]
}