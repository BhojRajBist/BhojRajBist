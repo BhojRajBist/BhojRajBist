{
  "nbformat": 4,
  "nbformat_minor": 0,
  "metadata": {
    "colab": {
      "provenance": [],
      "authorship_tag": "ABX9TyPmykr0b2+9OR79Pb2NFQaY",
      "include_colab_link": true
    },
    "kernelspec": {
      "name": "python3",
      "display_name": "Python 3"
    },
    "language_info": {
      "name": "python"
    }
  },
  "cells": [
    {
      "cell_type": "markdown",
      "metadata": {
        "id": "view-in-github",
        "colab_type": "text"
      },
      "source": [
        "<a href=\"https://colab.research.google.com/github/BhojRajBist/BhojRajBist/blob/main/multiband_tiff_file.ipynb\" target=\"_parent\"><img src=\"https://colab.research.google.com/assets/colab-badge.svg\" alt=\"Open In Colab\"/></a>"
      ]
    },
    {
      "cell_type": "code",
      "execution_count": 1,
      "metadata": {
        "colab": {
          "base_uri": "https://localhost:8080/"
        },
        "id": "HCg_Wx10zMx-",
        "outputId": "ad7960b0-0d7d-4f31-c5fe-1b9e90f60956"
      },
      "outputs": [
        {
          "output_type": "stream",
          "name": "stdout",
          "text": [
            "Collecting rasterio\n",
            "  Downloading rasterio-1.3.11-cp310-cp310-manylinux_2_17_x86_64.manylinux2014_x86_64.whl.metadata (14 kB)\n",
            "Requirement already satisfied: pyproj in /usr/local/lib/python3.10/dist-packages (3.6.1)\n",
            "Requirement already satisfied: pandas in /usr/local/lib/python3.10/dist-packages (2.1.4)\n",
            "Requirement already satisfied: matplotlib in /usr/local/lib/python3.10/dist-packages (3.7.1)\n",
            "Requirement already satisfied: imageio in /usr/local/lib/python3.10/dist-packages (2.34.2)\n",
            "Requirement already satisfied: requests in /usr/local/lib/python3.10/dist-packages (2.32.3)\n",
            "Collecting affine (from rasterio)\n",
            "  Downloading affine-2.4.0-py3-none-any.whl.metadata (4.0 kB)\n",
            "Requirement already satisfied: attrs in /usr/local/lib/python3.10/dist-packages (from rasterio) (24.2.0)\n",
            "Requirement already satisfied: certifi in /usr/local/lib/python3.10/dist-packages (from rasterio) (2024.8.30)\n",
            "Requirement already satisfied: click>=4.0 in /usr/local/lib/python3.10/dist-packages (from rasterio) (8.1.7)\n",
            "Requirement already satisfied: cligj>=0.5 in /usr/local/lib/python3.10/dist-packages (from rasterio) (0.7.2)\n",
            "Requirement already satisfied: numpy in /usr/local/lib/python3.10/dist-packages (from rasterio) (1.26.4)\n",
            "Collecting snuggs>=1.4.1 (from rasterio)\n",
            "  Downloading snuggs-1.4.7-py3-none-any.whl.metadata (3.4 kB)\n",
            "Requirement already satisfied: click-plugins in /usr/local/lib/python3.10/dist-packages (from rasterio) (1.1.1)\n",
            "Requirement already satisfied: setuptools in /usr/local/lib/python3.10/dist-packages (from rasterio) (71.0.4)\n",
            "Requirement already satisfied: python-dateutil>=2.8.2 in /usr/local/lib/python3.10/dist-packages (from pandas) (2.8.2)\n",
            "Requirement already satisfied: pytz>=2020.1 in /usr/local/lib/python3.10/dist-packages (from pandas) (2024.2)\n",
            "Requirement already satisfied: tzdata>=2022.1 in /usr/local/lib/python3.10/dist-packages (from pandas) (2024.1)\n",
            "Requirement already satisfied: contourpy>=1.0.1 in /usr/local/lib/python3.10/dist-packages (from matplotlib) (1.3.0)\n",
            "Requirement already satisfied: cycler>=0.10 in /usr/local/lib/python3.10/dist-packages (from matplotlib) (0.12.1)\n",
            "Requirement already satisfied: fonttools>=4.22.0 in /usr/local/lib/python3.10/dist-packages (from matplotlib) (4.53.1)\n",
            "Requirement already satisfied: kiwisolver>=1.0.1 in /usr/local/lib/python3.10/dist-packages (from matplotlib) (1.4.7)\n",
            "Requirement already satisfied: packaging>=20.0 in /usr/local/lib/python3.10/dist-packages (from matplotlib) (24.1)\n",
            "Requirement already satisfied: pillow>=6.2.0 in /usr/local/lib/python3.10/dist-packages (from matplotlib) (9.4.0)\n",
            "Requirement already satisfied: pyparsing>=2.3.1 in /usr/local/lib/python3.10/dist-packages (from matplotlib) (3.1.4)\n",
            "Requirement already satisfied: charset-normalizer<4,>=2 in /usr/local/lib/python3.10/dist-packages (from requests) (3.3.2)\n",
            "Requirement already satisfied: idna<4,>=2.5 in /usr/local/lib/python3.10/dist-packages (from requests) (3.8)\n",
            "Requirement already satisfied: urllib3<3,>=1.21.1 in /usr/local/lib/python3.10/dist-packages (from requests) (2.0.7)\n",
            "Requirement already satisfied: six>=1.5 in /usr/local/lib/python3.10/dist-packages (from python-dateutil>=2.8.2->pandas) (1.16.0)\n",
            "Downloading rasterio-1.3.11-cp310-cp310-manylinux_2_17_x86_64.manylinux2014_x86_64.whl (21.7 MB)\n",
            "\u001b[2K   \u001b[90m━━━━━━━━━━━━━━━━━━━━━━━━━━━━━━━━━━━━━━━━\u001b[0m \u001b[32m21.7/21.7 MB\u001b[0m \u001b[31m34.2 MB/s\u001b[0m eta \u001b[36m0:00:00\u001b[0m\n",
            "\u001b[?25hDownloading snuggs-1.4.7-py3-none-any.whl (5.4 kB)\n",
            "Downloading affine-2.4.0-py3-none-any.whl (15 kB)\n",
            "Installing collected packages: snuggs, affine, rasterio\n",
            "Successfully installed affine-2.4.0 rasterio-1.3.11 snuggs-1.4.7\n"
          ]
        }
      ],
      "source": [
        "!pip install rasterio pyproj pandas matplotlib imageio requests\n"
      ]
    },
    {
      "cell_type": "code",
      "source": [
        "import os\n",
        "import rasterio\n",
        "import numpy as np\n",
        "import matplotlib.pyplot as plt\n",
        "import matplotlib.colors as mcolors\n",
        "from datetime import datetime, timedelta\n",
        "import imageio\n",
        "from IPython.display import HTML\n",
        "import requests"
      ],
      "metadata": {
        "id": "jVvCjH-l0oXP"
      },
      "execution_count": 2,
      "outputs": []
    },
    {
      "cell_type": "code",
      "source": [
        "# Set root_dir to today's date in \"YYYYMMDD\" format\n",
        "root_dir = datetime.today().strftime(\"%Y%m%d\")\n",
        "\n",
        "# Create the frames directory\n",
        "frames_dir = os.path.join(root_dir, \"FRAMES\")\n",
        "os.makedirs(frames_dir, exist_ok=True)"
      ],
      "metadata": {
        "id": "AfyJQcMk0Esf"
      },
      "execution_count": 3,
      "outputs": []
    },
    {
      "cell_type": "code",
      "source": [
        "\n",
        "# Define the base URI\n",
        "uri_base = f\"https://storage.googleapis.com/ncmrwf-nepal/Forecast/NCMRWF/{root_dir}/\"\n",
        "\n",
        "# Define the forecast origin date\n",
        "forecast_origin_date = datetime.strptime(root_dir, \"%Y%m%d\")\n",
        "\n",
        "# Function to pad numbers\n",
        "def pad2(num):\n",
        "    return str(num).zfill(2)\n",
        "\n",
        "def pad3(num):\n",
        "    return str(num).zfill(3)\n",
        "\n",
        "# Generate the list of URIs\n",
        "tiff_urls = []\n",
        "for i in range(1, 42):\n",
        "    if i <= 25:\n",
        "        time_step_hours = i * 3\n",
        "        file_suffix = 'R4KMC.tif'\n",
        "    else:\n",
        "        time_step_hours = i * 3 - 2\n",
        "        file_suffix = 'R12.5KMC.tif'\n",
        "\n",
        "    time_step_str = pad3(time_step_hours)\n",
        "    forecast_hour_index = pad2(i)\n",
        "    forecast_time = forecast_origin_date + timedelta(hours=time_step_hours)\n",
        "    forecast_time_str = forecast_time.strftime('%Y%m%d%H')\n",
        "\n",
        "    uri = f\"{uri_base}NCMRWF_Nepal_{forecast_time_str}F{forecast_hour_index}O{root_dir}00H{time_step_str}{file_suffix}\"\n",
        "    tiff_urls.append(uri)\n",
        "\n",
        "print(\"Generated TIFF URLs:\", tiff_urls)\n",
        "\n",
        "# Function to download and save TIFF files\n",
        "def download_tiff_files(urls, download_dir):\n",
        "    tiff_files = []\n",
        "    for url in urls:\n",
        "        filename = os.path.join(download_dir, os.path.basename(url))\n",
        "        response = requests.get(url, stream=True)\n",
        "        if response.status_code == 200:\n",
        "            with open(filename, 'wb') as f:\n",
        "                for chunk in response.iter_content(chunk_size=8192):\n",
        "                    f.write(chunk)\n",
        "            tiff_files.append(filename)\n",
        "        else:\n",
        "            print(f\"Failed to download {url}\")\n",
        "    return tiff_files\n",
        "\n",
        "# Download the TIFF files\n",
        "tiff_files = download_tiff_files(tiff_urls, root_dir)\n",
        "print(\"Downloaded TIFF files:\", tiff_files)"
      ],
      "metadata": {
        "colab": {
          "base_uri": "https://localhost:8080/"
        },
        "id": "ap7aIULp00ZH",
        "outputId": "65e8d204-0513-450a-9dad-d37f58a0813d"
      },
      "execution_count": 4,
      "outputs": [
        {
          "output_type": "stream",
          "name": "stdout",
          "text": [
            "Generated TIFF URLs: ['https://storage.googleapis.com/ncmrwf-nepal/Forecast/NCMRWF/20240917/NCMRWF_Nepal_2024091703F01O2024091700H003R4KMC.tif', 'https://storage.googleapis.com/ncmrwf-nepal/Forecast/NCMRWF/20240917/NCMRWF_Nepal_2024091706F02O2024091700H006R4KMC.tif', 'https://storage.googleapis.com/ncmrwf-nepal/Forecast/NCMRWF/20240917/NCMRWF_Nepal_2024091709F03O2024091700H009R4KMC.tif', 'https://storage.googleapis.com/ncmrwf-nepal/Forecast/NCMRWF/20240917/NCMRWF_Nepal_2024091712F04O2024091700H012R4KMC.tif', 'https://storage.googleapis.com/ncmrwf-nepal/Forecast/NCMRWF/20240917/NCMRWF_Nepal_2024091715F05O2024091700H015R4KMC.tif', 'https://storage.googleapis.com/ncmrwf-nepal/Forecast/NCMRWF/20240917/NCMRWF_Nepal_2024091718F06O2024091700H018R4KMC.tif', 'https://storage.googleapis.com/ncmrwf-nepal/Forecast/NCMRWF/20240917/NCMRWF_Nepal_2024091721F07O2024091700H021R4KMC.tif', 'https://storage.googleapis.com/ncmrwf-nepal/Forecast/NCMRWF/20240917/NCMRWF_Nepal_2024091800F08O2024091700H024R4KMC.tif', 'https://storage.googleapis.com/ncmrwf-nepal/Forecast/NCMRWF/20240917/NCMRWF_Nepal_2024091803F09O2024091700H027R4KMC.tif', 'https://storage.googleapis.com/ncmrwf-nepal/Forecast/NCMRWF/20240917/NCMRWF_Nepal_2024091806F10O2024091700H030R4KMC.tif', 'https://storage.googleapis.com/ncmrwf-nepal/Forecast/NCMRWF/20240917/NCMRWF_Nepal_2024091809F11O2024091700H033R4KMC.tif', 'https://storage.googleapis.com/ncmrwf-nepal/Forecast/NCMRWF/20240917/NCMRWF_Nepal_2024091812F12O2024091700H036R4KMC.tif', 'https://storage.googleapis.com/ncmrwf-nepal/Forecast/NCMRWF/20240917/NCMRWF_Nepal_2024091815F13O2024091700H039R4KMC.tif', 'https://storage.googleapis.com/ncmrwf-nepal/Forecast/NCMRWF/20240917/NCMRWF_Nepal_2024091818F14O2024091700H042R4KMC.tif', 'https://storage.googleapis.com/ncmrwf-nepal/Forecast/NCMRWF/20240917/NCMRWF_Nepal_2024091821F15O2024091700H045R4KMC.tif', 'https://storage.googleapis.com/ncmrwf-nepal/Forecast/NCMRWF/20240917/NCMRWF_Nepal_2024091900F16O2024091700H048R4KMC.tif', 'https://storage.googleapis.com/ncmrwf-nepal/Forecast/NCMRWF/20240917/NCMRWF_Nepal_2024091903F17O2024091700H051R4KMC.tif', 'https://storage.googleapis.com/ncmrwf-nepal/Forecast/NCMRWF/20240917/NCMRWF_Nepal_2024091906F18O2024091700H054R4KMC.tif', 'https://storage.googleapis.com/ncmrwf-nepal/Forecast/NCMRWF/20240917/NCMRWF_Nepal_2024091909F19O2024091700H057R4KMC.tif', 'https://storage.googleapis.com/ncmrwf-nepal/Forecast/NCMRWF/20240917/NCMRWF_Nepal_2024091912F20O2024091700H060R4KMC.tif', 'https://storage.googleapis.com/ncmrwf-nepal/Forecast/NCMRWF/20240917/NCMRWF_Nepal_2024091915F21O2024091700H063R4KMC.tif', 'https://storage.googleapis.com/ncmrwf-nepal/Forecast/NCMRWF/20240917/NCMRWF_Nepal_2024091918F22O2024091700H066R4KMC.tif', 'https://storage.googleapis.com/ncmrwf-nepal/Forecast/NCMRWF/20240917/NCMRWF_Nepal_2024091921F23O2024091700H069R4KMC.tif', 'https://storage.googleapis.com/ncmrwf-nepal/Forecast/NCMRWF/20240917/NCMRWF_Nepal_2024092000F24O2024091700H072R4KMC.tif', 'https://storage.googleapis.com/ncmrwf-nepal/Forecast/NCMRWF/20240917/NCMRWF_Nepal_2024092003F25O2024091700H075R4KMC.tif', 'https://storage.googleapis.com/ncmrwf-nepal/Forecast/NCMRWF/20240917/NCMRWF_Nepal_2024092004F26O2024091700H076R12.5KMC.tif', 'https://storage.googleapis.com/ncmrwf-nepal/Forecast/NCMRWF/20240917/NCMRWF_Nepal_2024092007F27O2024091700H079R12.5KMC.tif', 'https://storage.googleapis.com/ncmrwf-nepal/Forecast/NCMRWF/20240917/NCMRWF_Nepal_2024092010F28O2024091700H082R12.5KMC.tif', 'https://storage.googleapis.com/ncmrwf-nepal/Forecast/NCMRWF/20240917/NCMRWF_Nepal_2024092013F29O2024091700H085R12.5KMC.tif', 'https://storage.googleapis.com/ncmrwf-nepal/Forecast/NCMRWF/20240917/NCMRWF_Nepal_2024092016F30O2024091700H088R12.5KMC.tif', 'https://storage.googleapis.com/ncmrwf-nepal/Forecast/NCMRWF/20240917/NCMRWF_Nepal_2024092019F31O2024091700H091R12.5KMC.tif', 'https://storage.googleapis.com/ncmrwf-nepal/Forecast/NCMRWF/20240917/NCMRWF_Nepal_2024092022F32O2024091700H094R12.5KMC.tif', 'https://storage.googleapis.com/ncmrwf-nepal/Forecast/NCMRWF/20240917/NCMRWF_Nepal_2024092101F33O2024091700H097R12.5KMC.tif', 'https://storage.googleapis.com/ncmrwf-nepal/Forecast/NCMRWF/20240917/NCMRWF_Nepal_2024092104F34O2024091700H100R12.5KMC.tif', 'https://storage.googleapis.com/ncmrwf-nepal/Forecast/NCMRWF/20240917/NCMRWF_Nepal_2024092107F35O2024091700H103R12.5KMC.tif', 'https://storage.googleapis.com/ncmrwf-nepal/Forecast/NCMRWF/20240917/NCMRWF_Nepal_2024092110F36O2024091700H106R12.5KMC.tif', 'https://storage.googleapis.com/ncmrwf-nepal/Forecast/NCMRWF/20240917/NCMRWF_Nepal_2024092113F37O2024091700H109R12.5KMC.tif', 'https://storage.googleapis.com/ncmrwf-nepal/Forecast/NCMRWF/20240917/NCMRWF_Nepal_2024092116F38O2024091700H112R12.5KMC.tif', 'https://storage.googleapis.com/ncmrwf-nepal/Forecast/NCMRWF/20240917/NCMRWF_Nepal_2024092119F39O2024091700H115R12.5KMC.tif', 'https://storage.googleapis.com/ncmrwf-nepal/Forecast/NCMRWF/20240917/NCMRWF_Nepal_2024092122F40O2024091700H118R12.5KMC.tif', 'https://storage.googleapis.com/ncmrwf-nepal/Forecast/NCMRWF/20240917/NCMRWF_Nepal_2024092201F41O2024091700H121R12.5KMC.tif']\n",
            "Downloaded TIFF files: ['20240917/NCMRWF_Nepal_2024091703F01O2024091700H003R4KMC.tif', '20240917/NCMRWF_Nepal_2024091706F02O2024091700H006R4KMC.tif', '20240917/NCMRWF_Nepal_2024091709F03O2024091700H009R4KMC.tif', '20240917/NCMRWF_Nepal_2024091712F04O2024091700H012R4KMC.tif', '20240917/NCMRWF_Nepal_2024091715F05O2024091700H015R4KMC.tif', '20240917/NCMRWF_Nepal_2024091718F06O2024091700H018R4KMC.tif', '20240917/NCMRWF_Nepal_2024091721F07O2024091700H021R4KMC.tif', '20240917/NCMRWF_Nepal_2024091800F08O2024091700H024R4KMC.tif', '20240917/NCMRWF_Nepal_2024091803F09O2024091700H027R4KMC.tif', '20240917/NCMRWF_Nepal_2024091806F10O2024091700H030R4KMC.tif', '20240917/NCMRWF_Nepal_2024091809F11O2024091700H033R4KMC.tif', '20240917/NCMRWF_Nepal_2024091812F12O2024091700H036R4KMC.tif', '20240917/NCMRWF_Nepal_2024091815F13O2024091700H039R4KMC.tif', '20240917/NCMRWF_Nepal_2024091818F14O2024091700H042R4KMC.tif', '20240917/NCMRWF_Nepal_2024091821F15O2024091700H045R4KMC.tif', '20240917/NCMRWF_Nepal_2024091900F16O2024091700H048R4KMC.tif', '20240917/NCMRWF_Nepal_2024091903F17O2024091700H051R4KMC.tif', '20240917/NCMRWF_Nepal_2024091906F18O2024091700H054R4KMC.tif', '20240917/NCMRWF_Nepal_2024091909F19O2024091700H057R4KMC.tif', '20240917/NCMRWF_Nepal_2024091912F20O2024091700H060R4KMC.tif', '20240917/NCMRWF_Nepal_2024091915F21O2024091700H063R4KMC.tif', '20240917/NCMRWF_Nepal_2024091918F22O2024091700H066R4KMC.tif', '20240917/NCMRWF_Nepal_2024091921F23O2024091700H069R4KMC.tif', '20240917/NCMRWF_Nepal_2024092000F24O2024091700H072R4KMC.tif', '20240917/NCMRWF_Nepal_2024092003F25O2024091700H075R4KMC.tif', '20240917/NCMRWF_Nepal_2024092004F26O2024091700H076R12.5KMC.tif', '20240917/NCMRWF_Nepal_2024092007F27O2024091700H079R12.5KMC.tif', '20240917/NCMRWF_Nepal_2024092010F28O2024091700H082R12.5KMC.tif', '20240917/NCMRWF_Nepal_2024092013F29O2024091700H085R12.5KMC.tif', '20240917/NCMRWF_Nepal_2024092016F30O2024091700H088R12.5KMC.tif', '20240917/NCMRWF_Nepal_2024092019F31O2024091700H091R12.5KMC.tif', '20240917/NCMRWF_Nepal_2024092022F32O2024091700H094R12.5KMC.tif', '20240917/NCMRWF_Nepal_2024092101F33O2024091700H097R12.5KMC.tif', '20240917/NCMRWF_Nepal_2024092104F34O2024091700H100R12.5KMC.tif', '20240917/NCMRWF_Nepal_2024092107F35O2024091700H103R12.5KMC.tif', '20240917/NCMRWF_Nepal_2024092110F36O2024091700H106R12.5KMC.tif', '20240917/NCMRWF_Nepal_2024092113F37O2024091700H109R12.5KMC.tif', '20240917/NCMRWF_Nepal_2024092116F38O2024091700H112R12.5KMC.tif', '20240917/NCMRWF_Nepal_2024092119F39O2024091700H115R12.5KMC.tif', '20240917/NCMRWF_Nepal_2024092122F40O2024091700H118R12.5KMC.tif', '20240917/NCMRWF_Nepal_2024092201F41O2024091700H121R12.5KMC.tif']\n"
          ]
        }
      ]
    },
    {
      "cell_type": "code",
      "source": [],
      "metadata": {
        "id": "ZOtx0hGh1Rpu"
      },
      "execution_count": null,
      "outputs": []
    }
  ]
}