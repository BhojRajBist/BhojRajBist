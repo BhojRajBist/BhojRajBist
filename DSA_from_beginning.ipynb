{
  "nbformat": 4,
  "nbformat_minor": 0,
  "metadata": {
    "colab": {
      "provenance": [],
      "authorship_tag": "ABX9TyMCwsj7vSY+6WgC+k9llWbr",
      "include_colab_link": true
    },
    "kernelspec": {
      "name": "python3",
      "display_name": "Python 3"
    },
    "language_info": {
      "name": "python"
    }
  },
  "cells": [
    {
      "cell_type": "markdown",
      "metadata": {
        "id": "view-in-github",
        "colab_type": "text"
      },
      "source": [
        "<a href=\"https://colab.research.google.com/github/BhojRajBist/BhojRajBist/blob/main/DSA_from_beginning.ipynb\" target=\"_parent\"><img src=\"https://colab.research.google.com/assets/colab-badge.svg\" alt=\"Open In Colab\"/></a>"
      ]
    },
    {
      "cell_type": "code",
      "execution_count": null,
      "metadata": {
        "id": "O3ku4TEmg3Ci"
      },
      "outputs": [],
      "source": [
        "rainfall = [12.5, 15.8, 0, 20.3, 5.5]\n"
      ]
    },
    {
      "cell_type": "code",
      "source": [
        "import numpy as np\n",
        "\n",
        "rainfall_array = np.array(rainfall)\n"
      ],
      "metadata": {
        "id": "3tmbhdZBhARV"
      },
      "execution_count": null,
      "outputs": []
    },
    {
      "cell_type": "code",
      "source": [
        "# 1. Print the maximum rainfall\n",
        "max_rainfall = np.max(rainfall_array)\n",
        "print(\"Maximum rainfall:\", max_rainfall)\n",
        "\n",
        "# 2. Print average rainfall\n",
        "avg_rainfall = np.mean(rainfall_array)\n",
        "print(\"Average rainfall:\", avg_rainfall)\n",
        "\n",
        "# 3. Remove all days with zero rainfall (filtering)\n",
        "non_zero_rainfall = rainfall_array[rainfall_array != 0]\n",
        "print(\"Rainfall without zeros:\", non_zero_rainfall)"
      ],
      "metadata": {
        "colab": {
          "base_uri": "https://localhost:8080/"
        },
        "id": "3T1ZzvmRi3Jo",
        "outputId": "4cd6322b-e308-4663-ffda-7dea896478fe"
      },
      "execution_count": null,
      "outputs": [
        {
          "output_type": "stream",
          "name": "stdout",
          "text": [
            "Maximum rainfall: 20.3\n",
            "Average rainfall: 10.82\n",
            "Rainfall without zeros: [12.5 15.8 20.3  5.5]\n"
          ]
        }
      ]
    },
    {
      "cell_type": "code",
      "source": [
        "\n",
        "rainfall_array = rainfall_array * 10  # Multiply all elements by 10\n"
      ],
      "metadata": {
        "id": "2tHDC9pLhGfr"
      },
      "execution_count": null,
      "outputs": []
    },
    {
      "cell_type": "code",
      "source": [
        "greater_than_10 = rainfall_array > 10\n",
        "print(\"Rainfall > 10mm:\", rainfall_array[greater_than_10])"
      ],
      "metadata": {
        "colab": {
          "base_uri": "https://localhost:8080/"
        },
        "id": "JHzKCidVhNrz",
        "outputId": "2ddd46e9-7bba-4eb3-81ae-2875dcef8a6b"
      },
      "execution_count": null,
      "outputs": [
        {
          "output_type": "stream",
          "name": "stdout",
          "text": [
            "Rainfall > 10mm: [1250. 1580. 2030.  550.]\n"
          ]
        }
      ]
    },
    {
      "cell_type": "code",
      "source": [
        "non_zero_rainfall = rainfall_array[rainfall_array != 0]\n",
        "mean_non_zero = non_zero_rainfall.mean()\n",
        "rainfall_array[rainfall_array == 0] = mean_non_zero\n",
        "print(\"After replacing zeros with mean:\", rainfall_array)"
      ],
      "metadata": {
        "colab": {
          "base_uri": "https://localhost:8080/"
        },
        "id": "fP7jANZRiNIy",
        "outputId": "0125aa1a-40cb-42c1-d478-187a1513ce31"
      },
      "execution_count": null,
      "outputs": [
        {
          "output_type": "stream",
          "name": "stdout",
          "text": [
            "After replacing zeros with mean: [1250.  1580.  1352.5 2030.   550. ]\n"
          ]
        }
      ]
    },
    {
      "cell_type": "code",
      "source": [
        "scaled_rainfall = rainfall_array * 1.5\n",
        "print(\"Scaled rainfall:\", scaled_rainfall)"
      ],
      "metadata": {
        "colab": {
          "base_uri": "https://localhost:8080/"
        },
        "id": "NzIiA2DhiS7H",
        "outputId": "1fe7f5c4-75ae-483c-e31f-7e43f5f04e0f"
      },
      "execution_count": null,
      "outputs": [
        {
          "output_type": "stream",
          "name": "stdout",
          "text": [
            "Scaled rainfall: [1875.   2370.   2028.75 3045.    825.  ]\n"
          ]
        }
      ]
    },
    {
      "cell_type": "code",
      "source": [
        "import numpy as np\n",
        "\n",
        "# Create a 5x5 grid of random rainfall values between 0 and 100\n",
        "rainfall_grid = np.random.uniform(0, 100, (5, 5))\n",
        "print(\"Rainfall Grid:\\n\", rainfall_grid)\n",
        "\n",
        "# Find the maximum rainfall in the grid\n",
        "max_rainfall = np.max(rainfall_grid)\n",
        "print(\"Maximum rainfall in the grid:\", max_rainfall)\n"
      ],
      "metadata": {
        "colab": {
          "base_uri": "https://localhost:8080/"
        },
        "id": "wBA7HVvBiVto",
        "outputId": "087d0354-d8ce-4d80-9149-1284a16b9d36"
      },
      "execution_count": 3,
      "outputs": [
        {
          "output_type": "stream",
          "name": "stdout",
          "text": [
            "Rainfall Grid:\n",
            " [[58.29449382 90.95827726 75.26520392 97.66925672 29.12863191]\n",
            " [25.2380793  73.50668027 55.99160003 89.87856178 64.46573655]\n",
            " [40.06221167 82.43860689 85.48856496 53.16947425 56.99944145]\n",
            " [99.13875073 93.92178448 58.75791417 21.98477001 18.40560439]\n",
            " [22.80765866 74.35135193 17.1643021  76.5981886  30.31522841]]\n",
            "Maximum rainfall in the grid: 99.13875072766672\n"
          ]
        }
      ]
    },
    {
      "cell_type": "code",
      "source": [
        "\n",
        "\n",
        "import numpy as np\n",
        "# Sum of all rainfall in the grid\n",
        "total_rainfall = np.sum(rainfall_grid)\n",
        "print(\"Total rainfall in the grid:\", total_rainfall)\n",
        "\n",
        "# Calculate the average rainfall per column\n",
        "avg_rainfall_per_column = np.mean(rainfall_grid, axis=0)\n",
        "print(\"Average rainfall per column:\", avg_rainfall_per_column)\n",
        "\n",
        "# Select rows where the first column has rainfall greater than 50\n",
        "high_rainfall_rows = rainfall_grid[rainfall_grid[:, 0] > 50]\n",
        "print(\"Rows with first column rainfall > 50:\\n\", high_rainfall_rows)\n",
        "\n",
        "# Replace values less than 20 with 0\n",
        "rainfall_grid[rainfall_grid < 20] = 0\n",
        "print(\"Grid after replacing < 20 with 0:\\n\", rainfall_grid)\n",
        "\n",
        "# Reshape the grid into a 1D array\n",
        "flattened_grid = rainfall_grid.flatten()\n",
        "print(\"Flattened grid:\", flattened_grid)\n",
        "\n",
        "# Sort the flattened array in ascending order\n",
        "sorted_rainfall = np.sort(flattened_grid)\n",
        "print(\"Sorted flattened rainfall:\", sorted_rainfall)\n",
        "\n",
        "# Find the indices of the sorted values\n",
        "sorted_indices = np.argsort(flattened_grid)\n",
        "print(\"Indices of sorted flattened rainfall:\", sorted_indices)"
      ],
      "metadata": {
        "id": "p7WbkjJRjOT-",
        "outputId": "c0fed455-45f3-4f5d-ee33-fc81ad2c5731",
        "colab": {
          "base_uri": "https://localhost:8080/"
        }
      },
      "execution_count": 4,
      "outputs": [
        {
          "output_type": "stream",
          "name": "stdout",
          "text": [
            "Total rainfall in the grid: 1492.0003742482804\n",
            "Average rainfall per column: [49.10823884 83.03534017 58.53351704 67.86005027 39.86292854]\n",
            "Rows with first column rainfall > 50:\n",
            " [[58.29449382 90.95827726 75.26520392 97.66925672 29.12863191]\n",
            " [99.13875073 93.92178448 58.75791417 21.98477001 18.40560439]]\n",
            "Grid after replacing < 20 with 0:\n",
            " [[58.29449382 90.95827726 75.26520392 97.66925672 29.12863191]\n",
            " [25.2380793  73.50668027 55.99160003 89.87856178 64.46573655]\n",
            " [40.06221167 82.43860689 85.48856496 53.16947425 56.99944145]\n",
            " [99.13875073 93.92178448 58.75791417 21.98477001  0.        ]\n",
            " [22.80765866 74.35135193  0.         76.5981886  30.31522841]]\n",
            "Flattened grid: [58.29449382 90.95827726 75.26520392 97.66925672 29.12863191 25.2380793\n",
            " 73.50668027 55.99160003 89.87856178 64.46573655 40.06221167 82.43860689\n",
            " 85.48856496 53.16947425 56.99944145 99.13875073 93.92178448 58.75791417\n",
            " 21.98477001  0.         22.80765866 74.35135193  0.         76.5981886\n",
            " 30.31522841]\n",
            "Sorted flattened rainfall: [ 0.          0.         21.98477001 22.80765866 25.2380793  29.12863191\n",
            " 30.31522841 40.06221167 53.16947425 55.99160003 56.99944145 58.29449382\n",
            " 58.75791417 64.46573655 73.50668027 74.35135193 75.26520392 76.5981886\n",
            " 82.43860689 85.48856496 89.87856178 90.95827726 93.92178448 97.66925672\n",
            " 99.13875073]\n",
            "Indices of sorted flattened rainfall: [22 19 18 20  5  4 24 10 13  7 14  0 17  9  6 21  2 23 11 12  8  1 16  3\n",
            " 15]\n"
          ]
        }
      ]
    }
  ]
}