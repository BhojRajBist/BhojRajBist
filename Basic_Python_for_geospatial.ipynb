{
  "nbformat": 4,
  "nbformat_minor": 0,
  "metadata": {
    "colab": {
      "provenance": [],
      "authorship_tag": "ABX9TyNr1T9aQfasqnc0nqexvnM+",
      "include_colab_link": true
    },
    "kernelspec": {
      "name": "python3",
      "display_name": "Python 3"
    },
    "language_info": {
      "name": "python"
    }
  },
  "cells": [
    {
      "cell_type": "markdown",
      "metadata": {
        "id": "view-in-github",
        "colab_type": "text"
      },
      "source": [
        "<a href=\"https://colab.research.google.com/github/BhojRajBist/BhojRajBist/blob/main/Basic_Python_for_geospatial.ipynb\" target=\"_parent\"><img src=\"https://colab.research.google.com/assets/colab-badge.svg\" alt=\"Open In Colab\"/></a>"
      ]
    },
    {
      "cell_type": "markdown",
      "source": [
        "Compute the great-circle distance between two geographic coordinates using pyproj.\n"
      ],
      "metadata": {
        "id": "UTX3eJfIVWef"
      }
    },
    {
      "cell_type": "code",
      "execution_count": 1,
      "metadata": {
        "id": "uIuIl_4gUwxN"
      },
      "outputs": [],
      "source": [
        "from pyproj import Geod"
      ]
    },
    {
      "cell_type": "code",
      "source": [
        "geod = Geod(ellps=\"WGS84\")"
      ],
      "metadata": {
        "id": "zN-1_YpEVh8U"
      },
      "execution_count": 2,
      "outputs": []
    },
    {
      "cell_type": "code",
      "source": [
        "lon1, lat1 = 85.3240, 27.7172  # Kathmandu\n",
        "lon2, lat2 = 83.9856, 28.2096  # Pokhara"
      ],
      "metadata": {
        "id": "pGu-NlwCVpcz"
      },
      "execution_count": 3,
      "outputs": []
    },
    {
      "cell_type": "code",
      "source": [
        "azimuth1, azimuth2, distance = geod.inv(lon1, lat1, lon2, lat2)\n",
        "print(f\"Distance: {distance/1000:.2f} km\")"
      ],
      "metadata": {
        "colab": {
          "base_uri": "https://localhost:8080/"
        },
        "id": "x113Ala5Vp6m",
        "outputId": "5875ca99-c614-4991-fd55-2dab4dace50b"
      },
      "execution_count": 4,
      "outputs": [
        {
          "output_type": "stream",
          "name": "stdout",
          "text": [
            "Distance: 142.55 km\n"
          ]
        }
      ]
    },
    {
      "cell_type": "markdown",
      "source": [
        " Voronoi Polygons from Points (Thiessen Polygons)"
      ],
      "metadata": {
        "id": "-vtglz9cVv8A"
      }
    },
    {
      "cell_type": "code",
      "source": [
        "import numpy as np\n",
        "import geopandas as gpd\n",
        "from shapely.geometry import Point, Polygon\n",
        "from scipy.spatial import Voronoi, voronoi_plot_2d\n",
        "import matplotlib.pyplot as plt\n"
      ],
      "metadata": {
        "id": "kVpqH8pbVtVl"
      },
      "execution_count": 6,
      "outputs": []
    },
    {
      "cell_type": "code",
      "source": [
        "points = np.array([[85.3, 27.7], [83.9, 28.2], [86.2, 26.8], [84.2, 27.3]])\n",
        "vor = Voronoi(points)\n",
        "\n",
        "fig = voronoi_plot_2d(vor)\n",
        "plt.show()\n"
      ],
      "metadata": {
        "colab": {
          "base_uri": "https://localhost:8080/",
          "height": 430
        },
        "id": "WcZbf8NrV5sN",
        "outputId": "a530bfc8-e125-4fc7-cd6c-61d7e347ee9c"
      },
      "execution_count": 7,
      "outputs": [
        {
          "output_type": "display_data",
          "data": {
            "text/plain": [
              "<Figure size 640x480 with 1 Axes>"
            ],
            "image/png": "[encoded data removed]"
          },
          "metadata": {}
        }
      ]
    },
    {
      "cell_type": "code",
      "source": [
        "from shapely.geometry import Point, Polygon\n",
        "\n",
        "# Define a rectangle using corner points\n",
        "rectangle = Polygon([(0, 0), (0, 10), (10, 10), (10, 0)])\n",
        "\n",
        "# Test point\n",
        "point = Point(5, 5)\n",
        "\n",
        "# Check\n",
        "print(\"Point is inside rectangle:\", rectangle.contains(point))\n"
      ],
      "metadata": {
        "id": "N8ABQkFCWgvA",
        "outputId": "de772967-c57a-4a9a-a67b-3c67c1faffea",
        "colab": {
          "base_uri": "https://localhost:8080/"
        }
      },
      "execution_count": 8,
      "outputs": [
        {
          "output_type": "stream",
          "name": "stdout",
          "text": [
            "Point is inside rectangle: True\n"
          ]
        }
      ]
    },
    {
      "cell_type": "code",
      "source": [],
      "metadata": {
        "id": "QcgYQ-wWWhTn"
      },
      "execution_count": null,
      "outputs": []
    }
  ]
}