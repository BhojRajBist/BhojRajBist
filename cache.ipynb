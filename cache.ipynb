{
  "nbformat": 4,
  "nbformat_minor": 0,
  "metadata": {
    "colab": {
      "provenance": [],
      "authorship_tag": "ABX9TyP8S65U7fEgIO/FNNlm2f+N",
      "include_colab_link": true
    },
    "kernelspec": {
      "name": "python3",
      "display_name": "Python 3"
    },
    "language_info": {
      "name": "python"
    }
  },
  "cells": [
    {
      "cell_type": "markdown",
      "metadata": {
        "id": "view-in-github",
        "colab_type": "text"
      },
      "source": [
        "<a href=\"https://colab.research.google.com/github/BhojRajBist/BhojRajBist/blob/main/cache.ipynb\" target=\"_parent\"><img src=\"https://colab.research.google.com/assets/colab-badge.svg\" alt=\"Open In Colab\"/></a>"
      ]
    },
    {
      "cell_type": "code",
      "execution_count": 15,
      "metadata": {
        "colab": {
          "base_uri": "https://localhost:8080/"
        },
        "id": "jj9G7y8hyplC",
        "outputId": "4427fee1-44f8-44cc-e920-e68ae2b9f1cd"
      },
      "outputs": [
        {
          "output_type": "stream",
          "name": "stdout",
          "text": [
            "Requirement already satisfied: cachetools in /usr/local/lib/python3.10/dist-packages (5.5.0)\n"
          ]
        }
      ],
      "source": [
        "pip install cachetools\n"
      ]
    },
    {
      "cell_type": "code",
      "source": [
        "from cachetools import TTLCache, cached\n",
        "\n",
        "# Create a cache with a maximum of 3 items and a TTL of 5 seconds\n",
        "cache = TTLCache(maxsize=3, ttl=5)\n",
        "\n",
        "@cached(cache)\n",
        "def get_data(x):\n",
        "    return x * x\n",
        "\n",
        "print(get_data(2))  # Calculates and caches the result\n",
        "print(get_data(3))  # Returns the cached result\n"
      ],
      "metadata": {
        "colab": {
          "base_uri": "https://localhost:8080/"
        },
        "id": "yqNPM0Luyv9l",
        "outputId": "22c556de-d6e8-46fd-821e-cd28cd69475f"
      },
      "execution_count": 7,
      "outputs": [
        {
          "output_type": "stream",
          "name": "stdout",
          "text": [
            "4\n",
            "9\n"
          ]
        }
      ]
    },
    {
      "cell_type": "code",
      "source": [
        "import time\n",
        "\n",
        "print(get_data(2))  # First call, calculates and caches the result (4)\n",
        "time.sleep(6)       # Wait for more than the TTL (5 seconds)\n",
        "print(get_data(2))  # Cache has expired, recalculates the result (4)\n"
      ],
      "metadata": {
        "colab": {
          "base_uri": "https://localhost:8080/"
        },
        "id": "E7GNfq4QzB0q",
        "outputId": "c7857beb-1857-438b-c985-d219d2b0a48c"
      },
      "execution_count": 8,
      "outputs": [
        {
          "output_type": "stream",
          "name": "stdout",
          "text": [
            "4\n",
            "4\n"
          ]
        }
      ]
    },
    {
      "cell_type": "code",
      "source": [
        "from cachetools import cached, LRUCache, TTLCache\n",
        "\n",
        "# speed up calculating Fibonacci numbers with dynamic programming\n",
        "@cached(cache={})\n",
        "def fib(n):\n",
        "    return n if n < 2 else fib(n - 1) + fib(n - 2)\n",
        "\n",
        "\n",
        "\n",
        "print(fib(20))\n",
        "\n",
        "for i in range(21):\n",
        "    print(fib(i))"
      ],
      "metadata": {
        "colab": {
          "base_uri": "https://localhost:8080/"
        },
        "id": "r1kqYSlw309B",
        "outputId": "d4615178-d214-4c64-da14-b94ff1b73f6c"
      },
      "execution_count": 12,
      "outputs": [
        {
          "output_type": "stream",
          "name": "stdout",
          "text": [
            "6765\n",
            "0\n",
            "1\n",
            "1\n",
            "2\n",
            "3\n",
            "5\n",
            "8\n",
            "13\n",
            "21\n",
            "34\n",
            "55\n",
            "89\n",
            "144\n",
            "233\n",
            "377\n",
            "610\n",
            "987\n",
            "1597\n",
            "2584\n",
            "4181\n",
            "6765\n"
          ]
        }
      ]
    },
    {
      "cell_type": "code",
      "source": [
        "from cachetools import TTLCache, cached\n",
        "\n",
        "# Create a cache with a maximum of 5 items and a TTL of 10 minutes\n",
        "poi_cache = TTLCache(maxsize=5, ttl=600)\n",
        "\n",
        "# Example POI data (in reality, this would be fetched from a spatial database)\n",
        "POI_DATA = [\n",
        "    {\"name\": \"Restaurant A\", \"lat\": 27.7172, \"lon\": 85.3240},\n",
        "    {\"name\": \"Hospital B\", \"lat\": 27.7175, \"lon\": 85.3255},\n",
        "    {\"name\": \"Cafe C\", \"lat\": 27.7169, \"lon\": 85.3237},\n",
        "    # ... more POIs\n",
        "]\n",
        "\n",
        "# Haversine formula to calculate distance between two lat/lon points (in meters)\n",
        "def haversine(lat1, lon1, lat2, lon2):\n",
        "    from math import radians, cos, sin, sqrt, atan2\n",
        "    R = 6371000  # Radius of the Earth in meters\n",
        "    lat1, lon1, lat2, lon2 = map(radians, [lat1, lon1, lat2, lon2])\n",
        "    dlat = lat2 - lat1\n",
        "    dlon = lon2 - lon1\n",
        "    a = sin(dlat/2)**2 + cos(lat1) * cos(lat2) * sin(dlon/2)**2\n",
        "    c = 2 * atan2(sqrt(a), sqrt(1-a))\n",
        "    return R * c\n",
        "\n",
        "# Function to find POIs within a radius\n",
        "@cached(poi_cache)\n",
        "def find_pois_within_radius(lat, lon, radius):\n",
        "    result = []\n",
        "    for poi in POI_DATA:\n",
        "        distance = haversine(lat, lon, poi['lat'], poi['lon'])\n",
        "        if distance <= radius:\n",
        "            result.append(poi)\n",
        "    return result\n",
        "\n",
        "# Usage\n",
        "lat, lon = 27.7172, 85.3240\n",
        "radius = 5\n",
        "\n",
        "# The first call will calculate and cache the results\n",
        "pois = find_pois_within_radius(lat, lon, radius)\n",
        "print(\"POIs found:\", pois)\n",
        "\n",
        "# Subsequent calls with the same parameters will use the cached result\n",
        "pois_cached = find_pois_within_radius(lat, lon, radius)\n",
        "print(\"Cached POIs found:\", pois_cached)\n"
      ],
      "metadata": {
        "colab": {
          "base_uri": "https://localhost:8080/"
        },
        "id": "xbs0zsLv4Q5X",
        "outputId": "2af37c1f-f2c5-4dc4-e71f-8bf1c1747d14"
      },
      "execution_count": 18,
      "outputs": [
        {
          "output_type": "stream",
          "name": "stdout",
          "text": [
            "POIs found: [{'name': 'Restaurant A', 'lat': 27.7172, 'lon': 85.324}]\n",
            "Cached POIs found: [{'name': 'Restaurant A', 'lat': 27.7172, 'lon': 85.324}]\n"
          ]
        }
      ]
    }
  ]
}