{
  "nbformat": 4,
  "nbformat_minor": 0,
  "metadata": {
    "colab": {
      "provenance": [],
      "authorship_tag": "ABX9TyMSfuWMVsRkYqo+DZ1wQue8",
      "include_colab_link": true
    },
    "kernelspec": {
      "name": "python3",
      "display_name": "Python 3"
    },
    "language_info": {
      "name": "python"
    }
  },
  "cells": [
    {
      "cell_type": "markdown",
      "metadata": {
        "id": "view-in-github",
        "colab_type": "text"
      },
      "source": [
        "<a href=\"https://colab.research.google.com/github/BhojRajBist/BhojRajBist/blob/main/DSA.ipynb\" target=\"_parent\"><img src=\"https://colab.research.google.com/assets/colab-badge.svg\" alt=\"Open In Colab\"/></a>"
      ]
    },
    {
      "cell_type": "code",
      "execution_count": 1,
      "metadata": {
        "colab": {
          "base_uri": "https://localhost:8080/"
        },
        "id": "9YRiCVw6wHoh",
        "outputId": "195cda0e-ee62-4845-9aa4-a4b01cf33e15"
      },
      "outputs": [
        {
          "output_type": "stream",
          "name": "stdout",
          "text": [
            "Lowest value: 4\n"
          ]
        }
      ],
      "source": [
        "my_array = [7, 12, 9, 4, 11]\n",
        "minVal = my_array[0]\n",
        "\n",
        "for i in my_array:\n",
        "    if i < minVal:\n",
        "        minVal = i\n",
        "\n",
        "print('Lowest value:',minVal)"
      ]
    },
    {
      "cell_type": "code",
      "source": [
        "# fibonacci with loop\n",
        "\n",
        "prev2 = 0\n",
        "prev1 = 1\n",
        "\n",
        "print(prev2)\n",
        "print(prev1)\n",
        "for fibo in range(18):\n",
        "    newFibo = prev1 + prev2\n",
        "    print(newFibo)\n",
        "    prev2 = prev1\n",
        "    prev1 = newFibo"
      ],
      "metadata": {
        "colab": {
          "base_uri": "https://localhost:8080/"
        },
        "id": "jVIkMC1-xo5o",
        "outputId": "d31e9431-fb64-4c50-c9ba-cde1a6891d4f"
      },
      "execution_count": 3,
      "outputs": [
        {
          "output_type": "stream",
          "name": "stdout",
          "text": [
            "0\n",
            "1\n",
            "1\n",
            "2\n",
            "3\n",
            "5\n",
            "8\n",
            "13\n",
            "21\n",
            "34\n",
            "55\n",
            "89\n",
            "144\n",
            "233\n",
            "377\n",
            "610\n",
            "987\n",
            "1597\n",
            "2584\n",
            "4181\n"
          ]
        }
      ]
    }
  ]
}