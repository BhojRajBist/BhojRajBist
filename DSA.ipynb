{
  "cells": [
    {
      "cell_type": "markdown",
      "metadata": {
        "id": "view-in-github",
        "colab_type": "text"
      },
      "source": [
        "<a href=\"https://colab.research.google.com/github/BhojRajBist/BhojRajBist/blob/main/DSA.ipynb\" target=\"_parent\"><img src=\"https://colab.research.google.com/assets/colab-badge.svg\" alt=\"Open In Colab\"/></a>"
      ]
    },
    {
      "cell_type": "code",
      "execution_count": null,
      "metadata": {
        "colab": {
          "base_uri": "https://localhost:8080/"
        },
        "id": "9YRiCVw6wHoh",
        "outputId": "195cda0e-ee62-4845-9aa4-a4b01cf33e15"
      },
      "outputs": [
        {
          "name": "stdout",
          "output_type": "stream",
          "text": [
            "Lowest value: 4\n"
          ]
        }
      ],
      "source": [
        "my_array = [7, 12, 9, 4, 11]\n",
        "minVal = my_array[0]\n",
        "\n",
        "for i in my_array:\n",
        "    if i < minVal:\n",
        "        minVal = i\n",
        "\n",
        "print('Lowest value:',minVal)"
      ]
    },
    {
      "cell_type": "code",
      "execution_count": null,
      "metadata": {
        "colab": {
          "base_uri": "https://localhost:8080/"
        },
        "id": "jVIkMC1-xo5o",
        "outputId": "d31e9431-fb64-4c50-c9ba-cde1a6891d4f"
      },
      "outputs": [
        {
          "name": "stdout",
          "output_type": "stream",
          "text": [
            "0\n",
            "1\n",
            "1\n",
            "2\n",
            "3\n",
            "5\n",
            "8\n",
            "13\n",
            "21\n",
            "34\n",
            "55\n",
            "89\n",
            "144\n",
            "233\n",
            "377\n",
            "610\n",
            "987\n",
            "1597\n",
            "2584\n",
            "4181\n"
          ]
        }
      ],
      "source": [
        "# fibonacci with loop\n",
        "\n",
        "prev2 = 0\n",
        "prev1 = 1\n",
        "\n",
        "print(prev2)\n",
        "print(prev1)\n",
        "for fibo in range(18):\n",
        "    newFibo = prev1 + prev2\n",
        "    print(newFibo)\n",
        "    prev2 = prev1\n",
        "    prev1 = newFibo"
      ]
    },
    {
      "cell_type": "code",
      "execution_count": null,
      "metadata": {
        "id": "ybTg_ImsyT6e"
      },
      "outputs": [],
      "source": [
        "# Fibonacci with recursion"
      ]
    },
    {
      "cell_type": "code",
      "execution_count": null,
      "metadata": {
        "colab": {
          "background_save": true
        },
        "id": "dlI1tuoZyXE5",
        "outputId": "1a0c2239-8a7e-46a5-90d2-b919edb1881e"
      },
      "outputs": [
        {
          "name": "stdout",
          "output_type": "stream",
          "text": [
            "0\n",
            "1\n",
            "1\n",
            "2\n",
            "3\n",
            "5\n",
            "8\n",
            "13\n",
            "21\n",
            "34\n",
            "55\n",
            "89\n",
            "144\n",
            "233\n",
            "377\n",
            "610\n",
            "987\n",
            "1597\n",
            "2584\n",
            "4181\n"
          ]
        }
      ],
      "source": []
    },
    {
      "cell_type": "markdown",
      "source": [
        "**Bubble Sort**\n",
        "\n",
        "    1) Go through the array, one value at a time.\n",
        "    2) For each value, compare the value with the next value.\n",
        "    3) If the value is higher than the next one, swap the values so that the highest value comes last.\n",
        "    4) Go through the array as many times as there are values in the array.\n"
      ],
      "metadata": {
        "id": "MJhJrnU04gvD"
      }
    },
    {
      "cell_type": "code",
      "source": [
        "my_array = [64, 34, 25, 12, 22, 11, 90, 5]\n",
        "\n",
        "n = len(my_array)\n",
        "for i in range(n-1):\n",
        "    for j in range(n-i-1):\n",
        "        if my_array[j] > my_array[j+1]:\n",
        "            my_array[j], my_array[j+1] = my_array[j+1], my_array[j]\n",
        "\n",
        "print(\"Sorted array:\", my_array)"
      ],
      "metadata": {
        "colab": {
          "base_uri": "https://localhost:8080/"
        },
        "id": "LDIaBq_F4kbC",
        "outputId": "506ee913-0776-4214-a092-ffc1bc6473f4"
      },
      "execution_count": null,
      "outputs": [
        {
          "output_type": "stream",
          "name": "stdout",
          "text": [
            "Sorted array: [5, 11, 12, 22, 25, 34, 64, 90]\n"
          ]
        }
      ]
    },
    {
      "cell_type": "markdown",
      "source": [
        "**Improved Bubble Sort**"
      ],
      "metadata": {
        "id": "d3anyz0K5lbf"
      }
    },
    {
      "cell_type": "code",
      "source": [
        "my_array = [7, 3, 9, 12, 11]\n",
        "\n",
        "n = len(my_array)\n",
        "for i in range(n-1):\n",
        "    swapped = False\n",
        "    for j in range(n-i-1):\n",
        "        if my_array[j] > my_array[j+1]:\n",
        "            my_array[j], my_array[j+1] = my_array[j+1], my_array[j]\n",
        "            swapped = True\n",
        "    if not swapped:\n",
        "        break\n",
        "\n",
        "print(\"Sorted array:\", my_array)"
      ],
      "metadata": {
        "colab": {
          "base_uri": "https://localhost:8080/"
        },
        "id": "k2RKIuw-5TQ3",
        "outputId": "6a0e6e4a-9173-4ed6-a8df-7f627fb130ab"
      },
      "execution_count": null,
      "outputs": [
        {
          "output_type": "stream",
          "name": "stdout",
          "text": [
            "Sorted array: [3, 7, 9, 11, 12]\n"
          ]
        }
      ]
    },
    {
      "cell_type": "markdown",
      "source": [
        "**Selection Sort**\n",
        "\n",
        "The Selection Sort algorithm finds the lowest value in an array and moves it to the front of the array.\n",
        "\n",
        "\n",
        "\n",
        "1) An array with values to sort.\n",
        "\n",
        "2) An inner loop that goes through the array, finds the lowest value, and moves it to the front of the array. This loop must loop through one less value each time it runs.\n",
        "\n",
        "3)An outer loop that controls how many times the inner loop must run. For an array with n values, this outer loop must run n−1 times."
      ],
      "metadata": {
        "id": "J3sdm0xc7G9j"
      }
    },
    {
      "cell_type": "code",
      "source": [
        "my_array = [64, 34, 25, 5, 22, 11, 90, 12]\n",
        "\n",
        "n = len(my_array)\n",
        "\n",
        "for i in range(n-1):\n",
        "  min_index = i\n",
        "  for j in range(i+1, n):\n",
        "    if my_array[j] < my_array[min_index]:\n",
        "      min_index = j\n",
        "    min_value = my_array.pop(min_index)\n",
        "    my_array.insert(i, min_value)\n",
        "\n",
        "print(\"Sorted array:\", my_array)\n"
      ],
      "metadata": {
        "colab": {
          "base_uri": "https://localhost:8080/"
        },
        "id": "SJJlzdjA6vnU",
        "outputId": "ca834690-2d5f-4c8e-875c-3827300391b3"
      },
      "execution_count": null,
      "outputs": [
        {
          "output_type": "stream",
          "name": "stdout",
          "text": [
            "Sorted array: [12, 64, 34, 11, 5, 22, 25, 90]\n"
          ]
        }
      ]
    },
    {
      "cell_type": "markdown",
      "source": [
        "**implementation of the improved Selection Sort, using swapping**"
      ],
      "metadata": {
        "id": "j1kTndZX-YBx"
      }
    },
    {
      "cell_type": "code",
      "source": [
        "my_array = [64, 34, 25, 12, 22, 11, 90, 5]\n",
        "\n",
        "n = len(my_array)\n",
        "for i in range(n):\n",
        "    min_index = i\n",
        "    for j in range(i+1, n):\n",
        "        if my_array[j] < my_array[min_index]:\n",
        "            min_index = j\n",
        "    my_array[i], my_array[min_index] = my_array[min_index], my_array[i]\n",
        "\n",
        "print(\"Sorted array:\", my_array)"
      ],
      "metadata": {
        "colab": {
          "base_uri": "https://localhost:8080/"
        },
        "id": "K9n0FC5s-arJ",
        "outputId": "cd6700f8-0249-451b-b822-3acc4dd58a8f"
      },
      "execution_count": null,
      "outputs": [
        {
          "output_type": "stream",
          "name": "stdout",
          "text": [
            "Sorted array: [5, 11, 12, 22, 25, 34, 64, 90]\n"
          ]
        }
      ]
    },
    {
      "cell_type": "markdown",
      "source": [
        "**Selection Sort**\n",
        "\n",
        "The Selection Sort algorithm finds the lowest value in an array and moves it to the front of the array.\n",
        "\n",
        "\n",
        "\n",
        "\n",
        "How it works:\n",
        "\n",
        "    1) Go through the array to find the lowest value.\n",
        "    2) Move the lowest value to the front of the unsorted part of the array.\n",
        "    3) Go through the array again as many times as there are values in the array.\n",
        "\n",
        "\n",
        "To implement use\n",
        "\n",
        "  An array with values to sort.\n",
        "  An inner loop that goes through the array, finds the lowest value, and moves it to the front of the array. This loop must loop through one less value each time it runs.\n",
        "  An outer loop that controls how many times the inner loop must run. For an array with n\n",
        "  values, this outer loop must run n−1 times.\n"
      ],
      "metadata": {
        "id": "LlbPXz9W2ddN"
      }
    },
    {
      "cell_type": "code",
      "source": [
        "my_array = [64, 34, 25, 5, 22, 11, 90, 12]\n",
        "\n",
        "n = len(my_array)\n",
        "for i in range(n-1):\n",
        "    min_index = i\n",
        "    for j in range(i+1, n):\n",
        "        if my_array[j] < my_array[min_index]:\n",
        "            min_index = j\n",
        "    min_value = my_array.pop(min_index)\n",
        "    my_array.insert(i, min_value)\n",
        "\n",
        "print(\"Sorted array:\", my_array)"
      ],
      "metadata": {
        "colab": {
          "base_uri": "https://localhost:8080/"
        },
        "id": "AuKWV9fD3W35",
        "outputId": "e42c474b-582a-4e25-9777-c54570ffe8c7"
      },
      "execution_count": 1,
      "outputs": [
        {
          "output_type": "stream",
          "name": "stdout",
          "text": [
            "Sorted array: [5, 11, 12, 22, 25, 34, 64, 90]\n"
          ]
        }
      ]
    },
    {
      "cell_type": "markdown",
      "source": [
        "Selection Sort Shifting Problem\n",
        "\n",
        "The Selection Sort algorithm can be improved a little bit more.\n",
        "\n",
        "In the code above, the lowest value element is removed, and then inserted in front of the array.\n",
        "\n",
        "Each time the next lowest value array element is removed, all following elements must be shifted one place down to make up for the removal.\n",
        "\n",
        "Solution: Swap Values!"
      ],
      "metadata": {
        "id": "SsHv-xOX9dNO"
      }
    },
    {
      "cell_type": "code",
      "source": [
        "my_array = [64, 34, 25, 12, 22, 11, 90, 5]\n",
        "\n",
        "n = len(my_array)\n",
        "for i in range(n):\n",
        "    min_index = i\n",
        "    for j in range(i+1, n):\n",
        "        if my_array[j] < my_array[min_index]:\n",
        "            min_index = j\n",
        "    my_array[i], my_array[min_index] = my_array[min_index], my_array[i]\n",
        "\n",
        "print(\"Sorted array:\", my_array)"
      ],
      "metadata": {
        "colab": {
          "base_uri": "https://localhost:8080/"
        },
        "id": "Jr3Fe8TV9ctB",
        "outputId": "c9dc22fd-924e-4654-8a1d-7249c14324c5"
      },
      "execution_count": 2,
      "outputs": [
        {
          "output_type": "stream",
          "name": "stdout",
          "text": [
            "Sorted array: [5, 11, 12, 22, 25, 34, 64, 90]\n"
          ]
        }
      ]
    }
  ],
  "metadata": {
    "colab": {
      "provenance": [],
      "authorship_tag": "ABX9TyMEJ9ugYBOjwMAOBLlnDVP1",
      "include_colab_link": true
    },
    "kernelspec": {
      "display_name": "Python 3",
      "name": "python3"
    },
    "language_info": {
      "name": "python"
    }
  },
  "nbformat": 4,
  "nbformat_minor": 0
}