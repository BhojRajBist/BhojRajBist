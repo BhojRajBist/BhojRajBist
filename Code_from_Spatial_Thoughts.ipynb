{
  "nbformat": 4,
  "nbformat_minor": 0,
  "metadata": {
    "colab": {
      "provenance": [],
      "authorship_tag": "ABX9TyMQMu2ON4v8+SuuzzDEjwKn",
      "include_colab_link": true
    },
    "kernelspec": {
      "name": "python3",
      "display_name": "Python 3"
    },
    "language_info": {
      "name": "python"
    }
  },
  "cells": [
    {
      "cell_type": "markdown",
      "metadata": {
        "id": "view-in-github",
        "colab_type": "text"
      },
      "source": [
        "<a href=\"https://colab.research.google.com/github/BhojRajBist/BhojRajBist/blob/main/Code_from_Spatial_Thoughts.ipynb\" target=\"_parent\"><img src=\"https://colab.research.google.com/assets/colab-badge.svg\" alt=\"Open In Colab\"/></a>"
      ]
    },
    {
      "cell_type": "code",
      "execution_count": 1,
      "metadata": {
        "colab": {
          "base_uri": "https://localhost:8080/"
        },
        "id": "b_97zn1tzjkD",
        "outputId": "12e3147c-fa2b-432a-fd4f-63f9c52076bd"
      },
      "outputs": [
        {
          "output_type": "stream",
          "name": "stdout",
          "text": [
            "(37.7739, -121.5687)\n"
          ]
        }
      ],
      "source": [
        "latitude = 37.7739\n",
        "longitude = -121.5687\n",
        "coordinates = (latitude, longitude)\n",
        "print(coordinates)"
      ]
    },
    {
      "cell_type": "code",
      "source": [
        "y = coordinates[0]\n",
        "x = coordinates[1]\n",
        "print(x, y)\n",
        "\n"
      ],
      "metadata": {
        "colab": {
          "base_uri": "https://localhost:8080/"
        },
        "id": "GIJYi6wczsif",
        "outputId": "c0185fb1-51e2-4b8b-9922-a45d8d80394d"
      },
      "execution_count": 2,
      "outputs": [
        {
          "output_type": "stream",
          "name": "stdout",
          "text": [
            "-121.5687 37.7739\n"
          ]
        }
      ]
    },
    {
      "cell_type": "code",
      "source": [
        "cities = ['San Francisco', 'Los Angeles', 'New York', 'Atlanta']\n",
        "print(cities)"
      ],
      "metadata": {
        "colab": {
          "base_uri": "https://localhost:8080/"
        },
        "id": "r2ZMcqHizvd4",
        "outputId": "16d00c48-5b71-44e7-bad9-a673682b7ea3"
      },
      "execution_count": 3,
      "outputs": [
        {
          "output_type": "stream",
          "name": "stdout",
          "text": [
            "['San Francisco', 'Los Angeles', 'New York', 'Atlanta']\n"
          ]
        }
      ]
    },
    {
      "cell_type": "code",
      "source": [
        "print(cities[0])"
      ],
      "metadata": {
        "colab": {
          "base_uri": "https://localhost:8080/"
        },
        "id": "lNz2vvjKzyPo",
        "outputId": "62efb5bb-f2d0-49ab-d90e-26a665ab03ce"
      },
      "execution_count": 4,
      "outputs": [
        {
          "output_type": "stream",
          "name": "stdout",
          "text": [
            "San Francisco\n"
          ]
        }
      ]
    },
    {
      "cell_type": "code",
      "source": [
        "print(len(cities))"
      ],
      "metadata": {
        "colab": {
          "base_uri": "https://localhost:8080/"
        },
        "id": "LHJGOV7Xz0Oa",
        "outputId": "0015915f-01aa-4eb7-994a-94839f79c6cb"
      },
      "execution_count": 5,
      "outputs": [
        {
          "output_type": "stream",
          "name": "stdout",
          "text": [
            "4\n"
          ]
        }
      ]
    },
    {
      "cell_type": "code",
      "source": [
        "cities.append('Boston')\n",
        "print(cities)"
      ],
      "metadata": {
        "colab": {
          "base_uri": "https://localhost:8080/"
        },
        "id": "3IfbsRkTz2ZG",
        "outputId": "c93c4ced-8c64-4e3a-8805-5081af4daf19"
      },
      "execution_count": 6,
      "outputs": [
        {
          "output_type": "stream",
          "name": "stdout",
          "text": [
            "['San Francisco', 'Los Angeles', 'New York', 'Atlanta', 'Boston']\n"
          ]
        }
      ]
    },
    {
      "cell_type": "code",
      "source": [
        "print(len(cities))"
      ],
      "metadata": {
        "colab": {
          "base_uri": "https://localhost:8080/"
        },
        "id": "JxDa1P00z4al",
        "outputId": "b485a79d-83df-4fc5-d795-64ff1ee559cc"
      },
      "execution_count": 7,
      "outputs": [
        {
          "output_type": "stream",
          "name": "stdout",
          "text": [
            "5\n"
          ]
        }
      ]
    },
    {
      "cell_type": "code",
      "source": [
        "cities.sort()\n",
        "print(cities)"
      ],
      "metadata": {
        "colab": {
          "base_uri": "https://localhost:8080/"
        },
        "id": "xUgf11frz6oE",
        "outputId": "75f97bc6-b074-4686-99d9-4dcd511d3a86"
      },
      "execution_count": 8,
      "outputs": [
        {
          "output_type": "stream",
          "name": "stdout",
          "text": [
            "['Atlanta', 'Boston', 'Los Angeles', 'New York', 'San Francisco']\n"
          ]
        }
      ]
    },
    {
      "cell_type": "code",
      "source": [
        "cities.sort(reverse=True)\n",
        "print(cities)\n",
        "\n"
      ],
      "metadata": {
        "id": "XEvfvdx4z8iw",
        "outputId": "5c4bc43b-a1dd-4a88-893a-6f343a6733dc",
        "colab": {
          "base_uri": "https://localhost:8080/"
        }
      },
      "execution_count": 9,
      "outputs": [
        {
          "output_type": "stream",
          "name": "stdout",
          "text": [
            "['San Francisco', 'New York', 'Los Angeles', 'Boston', 'Atlanta']\n"
          ]
        }
      ]
    }
  ]
}