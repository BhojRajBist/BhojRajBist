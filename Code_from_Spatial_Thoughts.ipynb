{
  "nbformat": 4,
  "nbformat_minor": 0,
  "metadata": {
    "colab": {
      "provenance": [],
      "authorship_tag": "ABX9TyPjusJxzt5UUi1oZTcXNvYv",
      "include_colab_link": true
    },
    "kernelspec": {
      "name": "python3",
      "display_name": "Python 3"
    },
    "language_info": {
      "name": "python"
    }
  },
  "cells": [
    {
      "cell_type": "markdown",
      "metadata": {
        "id": "view-in-github",
        "colab_type": "text"
      },
      "source": [
        "<a href=\"https://colab.research.google.com/github/BhojRajBist/BhojRajBist/blob/main/Code_from_Spatial_Thoughts.ipynb\" target=\"_parent\"><img src=\"https://colab.research.google.com/assets/colab-badge.svg\" alt=\"Open In Colab\"/></a>"
      ]
    },
    {
      "cell_type": "code",
      "execution_count": 1,
      "metadata": {
        "colab": {
          "base_uri": "https://localhost:8080/"
        },
        "id": "b_97zn1tzjkD",
        "outputId": "12e3147c-fa2b-432a-fd4f-63f9c52076bd"
      },
      "outputs": [
        {
          "output_type": "stream",
          "name": "stdout",
          "text": [
            "(37.7739, -121.5687)\n"
          ]
        }
      ],
      "source": [
        "latitude = 37.7739\n",
        "longitude = -121.5687\n",
        "coordinates = (latitude, longitude)\n",
        "print(coordinates)"
      ]
    },
    {
      "cell_type": "code",
      "source": [
        "y = coordinates[0]\n",
        "x = coordinates[1]\n",
        "print(x, y)\n",
        "\n"
      ],
      "metadata": {
        "colab": {
          "base_uri": "https://localhost:8080/"
        },
        "id": "GIJYi6wczsif",
        "outputId": "c0185fb1-51e2-4b8b-9922-a45d8d80394d"
      },
      "execution_count": 2,
      "outputs": [
        {
          "output_type": "stream",
          "name": "stdout",
          "text": [
            "-121.5687 37.7739\n"
          ]
        }
      ]
    },
    {
      "cell_type": "code",
      "source": [
        "cities = ['San Francisco', 'Los Angeles', 'New York', 'Atlanta']\n",
        "print(cities)"
      ],
      "metadata": {
        "colab": {
          "base_uri": "https://localhost:8080/"
        },
        "id": "r2ZMcqHizvd4",
        "outputId": "16d00c48-5b71-44e7-bad9-a673682b7ea3"
      },
      "execution_count": 3,
      "outputs": [
        {
          "output_type": "stream",
          "name": "stdout",
          "text": [
            "['San Francisco', 'Los Angeles', 'New York', 'Atlanta']\n"
          ]
        }
      ]
    },
    {
      "cell_type": "code",
      "source": [
        "print(cities[0])"
      ],
      "metadata": {
        "colab": {
          "base_uri": "https://localhost:8080/"
        },
        "id": "lNz2vvjKzyPo",
        "outputId": "62efb5bb-f2d0-49ab-d90e-26a665ab03ce"
      },
      "execution_count": 4,
      "outputs": [
        {
          "output_type": "stream",
          "name": "stdout",
          "text": [
            "San Francisco\n"
          ]
        }
      ]
    },
    {
      "cell_type": "code",
      "source": [
        "print(len(cities))"
      ],
      "metadata": {
        "colab": {
          "base_uri": "https://localhost:8080/"
        },
        "id": "LHJGOV7Xz0Oa",
        "outputId": "0015915f-01aa-4eb7-994a-94839f79c6cb"
      },
      "execution_count": 5,
      "outputs": [
        {
          "output_type": "stream",
          "name": "stdout",
          "text": [
            "4\n"
          ]
        }
      ]
    },
    {
      "cell_type": "code",
      "source": [
        "cities.append('Boston')\n",
        "print(cities)"
      ],
      "metadata": {
        "colab": {
          "base_uri": "https://localhost:8080/"
        },
        "id": "3IfbsRkTz2ZG",
        "outputId": "c93c4ced-8c64-4e3a-8805-5081af4daf19"
      },
      "execution_count": 6,
      "outputs": [
        {
          "output_type": "stream",
          "name": "stdout",
          "text": [
            "['San Francisco', 'Los Angeles', 'New York', 'Atlanta', 'Boston']\n"
          ]
        }
      ]
    },
    {
      "cell_type": "code",
      "source": [
        "print(len(cities))"
      ],
      "metadata": {
        "colab": {
          "base_uri": "https://localhost:8080/"
        },
        "id": "JxDa1P00z4al",
        "outputId": "b485a79d-83df-4fc5-d795-64ff1ee559cc"
      },
      "execution_count": 7,
      "outputs": [
        {
          "output_type": "stream",
          "name": "stdout",
          "text": [
            "5\n"
          ]
        }
      ]
    },
    {
      "cell_type": "code",
      "source": [
        "cities.sort()\n",
        "print(cities)"
      ],
      "metadata": {
        "colab": {
          "base_uri": "https://localhost:8080/"
        },
        "id": "xUgf11frz6oE",
        "outputId": "75f97bc6-b074-4686-99d9-4dcd511d3a86"
      },
      "execution_count": 8,
      "outputs": [
        {
          "output_type": "stream",
          "name": "stdout",
          "text": [
            "['Atlanta', 'Boston', 'Los Angeles', 'New York', 'San Francisco']\n"
          ]
        }
      ]
    },
    {
      "cell_type": "code",
      "source": [
        "cities.sort(reverse=True)\n",
        "print(cities)\n",
        "\n"
      ],
      "metadata": {
        "colab": {
          "base_uri": "https://localhost:8080/"
        },
        "id": "XEvfvdx4z8iw",
        "outputId": "5c4bc43b-a1dd-4a88-893a-6f343a6733dc"
      },
      "execution_count": 9,
      "outputs": [
        {
          "output_type": "stream",
          "name": "stdout",
          "text": [
            "['San Francisco', 'New York', 'Los Angeles', 'Boston', 'Atlanta']\n"
          ]
        }
      ]
    },
    {
      "cell_type": "markdown",
      "source": [
        "String Operations\n"
      ],
      "metadata": {
        "id": "fidGy5Ik0HKP"
      }
    },
    {
      "cell_type": "code",
      "source": [
        "city = 'San Francisco'\n",
        "print(len(city))"
      ],
      "metadata": {
        "colab": {
          "base_uri": "https://localhost:8080/"
        },
        "id": "mszt_hS90KkS",
        "outputId": "4c1ec9d4-d83c-4ec2-9a39-72e05a45c29c"
      },
      "execution_count": 10,
      "outputs": [
        {
          "output_type": "stream",
          "name": "stdout",
          "text": [
            "13\n"
          ]
        }
      ]
    },
    {
      "cell_type": "code",
      "source": [
        "print(city.split())"
      ],
      "metadata": {
        "colab": {
          "base_uri": "https://localhost:8080/"
        },
        "id": "sA6yu1AO0OD2",
        "outputId": "b618819c-a961-478b-a92c-04b8be945b5f"
      },
      "execution_count": 11,
      "outputs": [
        {
          "output_type": "stream",
          "name": "stdout",
          "text": [
            "['San', 'Francisco']\n"
          ]
        }
      ]
    },
    {
      "cell_type": "code",
      "source": [
        "print(city.upper())"
      ],
      "metadata": {
        "colab": {
          "base_uri": "https://localhost:8080/"
        },
        "id": "1vkmJf4Z0ScO",
        "outputId": "3de9844d-f850-4c37-9835-39e5a6991e5e"
      },
      "execution_count": 13,
      "outputs": [
        {
          "output_type": "stream",
          "name": "stdout",
          "text": [
            "SAN FRANCISCO\n"
          ]
        }
      ]
    },
    {
      "cell_type": "code",
      "source": [
        "print(city[4:])"
      ],
      "metadata": {
        "colab": {
          "base_uri": "https://localhost:8080/"
        },
        "id": "9MuCICvj0ZQ1",
        "outputId": "08c3d046-0835-43b1-c29a-28acba0953d5"
      },
      "execution_count": 14,
      "outputs": [
        {
          "output_type": "stream",
          "name": "stdout",
          "text": [
            "Francisco\n"
          ]
        }
      ]
    },
    {
      "cell_type": "code",
      "source": [
        "mystring = 'It's a beautiful day!'"
      ],
      "metadata": {
        "colab": {
          "base_uri": "https://localhost:8080/",
          "height": 108
        },
        "id": "WtATiYDy0gsL",
        "outputId": "ba83c834-d2e9-4d43-c09c-cf7bc54c4016"
      },
      "execution_count": 17,
      "outputs": [
        {
          "output_type": "error",
          "ename": "SyntaxError",
          "evalue": "unterminated string literal (detected at line 1) (<ipython-input-17-b34a772c8762>, line 1)",
          "traceback": [
            "\u001b[0;36m  File \u001b[0;32m\"<ipython-input-17-b34a772c8762>\"\u001b[0;36m, line \u001b[0;32m1\u001b[0m\n\u001b[0;31m    mystring = 'It's a beautiful day!'\u001b[0m\n\u001b[0m                                     ^\u001b[0m\n\u001b[0;31mSyntaxError\u001b[0m\u001b[0;31m:\u001b[0m unterminated string literal (detected at line 1)\n"
          ]
        }
      ]
    },
    {
      "cell_type": "code",
      "source": [
        "my_string = 'It\\'s a beautiful day!'"
      ],
      "metadata": {
        "id": "DVVGATgu0u-A"
      },
      "execution_count": 18,
      "outputs": []
    },
    {
      "cell_type": "code",
      "source": [
        "print(my_string)"
      ],
      "metadata": {
        "colab": {
          "base_uri": "https://localhost:8080/"
        },
        "id": "dbqMkTor0zoy",
        "outputId": "5a57cb92-d174-4ebe-9dc8-d75ed6594f86"
      },
      "execution_count": 19,
      "outputs": [
        {
          "output_type": "stream",
          "name": "stdout",
          "text": [
            "It's a beautiful day!\n"
          ]
        }
      ]
    },
    {
      "cell_type": "code",
      "source": [
        "latitude = '''37° 46' 26.2992\" N'''\n",
        "longitude = '''122° 25' 52.6692\" W'''\n",
        "print(latitude, longitude)"
      ],
      "metadata": {
        "colab": {
          "base_uri": "https://localhost:8080/"
        },
        "id": "46PeBtSj07l3",
        "outputId": "dbc0b2b6-11ba-4dff-ad7e-0bfbee50c2f5"
      },
      "execution_count": 20,
      "outputs": [
        {
          "output_type": "stream",
          "name": "stdout",
          "text": [
            "37° 46' 26.2992\" N 122° 25' 52.6692\" W\n"
          ]
        }
      ]
    },
    {
      "cell_type": "code",
      "source": [
        "path = 'C:\\Users\\ujaval'\n",
        "print(path)"
      ],
      "metadata": {
        "colab": {
          "base_uri": "https://localhost:8080/",
          "height": 126
        },
        "id": "LVFd9D7V1Fzn",
        "outputId": "e55b10a5-06a4-4b21-fac6-421673117ffe"
      },
      "execution_count": 21,
      "outputs": [
        {
          "output_type": "error",
          "ename": "SyntaxError",
          "evalue": "(unicode error) 'unicodeescape' codec can't decode bytes in position 2-3: truncated \\UXXXXXXXX escape (<ipython-input-21-5806f4a7533e>, line 1)",
          "traceback": [
            "\u001b[0;36m  File \u001b[0;32m\"<ipython-input-21-5806f4a7533e>\"\u001b[0;36m, line \u001b[0;32m1\u001b[0m\n\u001b[0;31m    path = 'C:\\Users\\ujaval'\u001b[0m\n\u001b[0m                            ^\u001b[0m\n\u001b[0;31mSyntaxError\u001b[0m\u001b[0;31m:\u001b[0m (unicode error) 'unicodeescape' codec can't decode bytes in position 2-3: truncated \\UXXXXXXXX escape\n"
          ]
        }
      ]
    },
    {
      "cell_type": "code",
      "source": [
        "path = r'C:\\Users\\ujaval'\n",
        "print(path)"
      ],
      "metadata": {
        "colab": {
          "base_uri": "https://localhost:8080/"
        },
        "id": "vmu3AGdO1JvZ",
        "outputId": "d3d6782a-bdcf-4c86-b6ed-b3f607d97fe5"
      },
      "execution_count": 23,
      "outputs": [
        {
          "output_type": "stream",
          "name": "stdout",
          "text": [
            "C:\\Users\\ujaval\n"
          ]
        }
      ]
    },
    {
      "cell_type": "code",
      "source": [
        "city = 'San Francisco'\n",
        "population = 881549\n",
        "output = 'Population of {} is {}.'.format(city, population)\n",
        "print(output)"
      ],
      "metadata": {
        "colab": {
          "base_uri": "https://localhost:8080/"
        },
        "id": "jpwIN3fm1Ube",
        "outputId": "3642a7d5-139b-46c8-dbae-b9e980b12589"
      },
      "execution_count": 24,
      "outputs": [
        {
          "output_type": "stream",
          "name": "stdout",
          "text": [
            "Population of San Francisco is 881549.\n"
          ]
        }
      ]
    },
    {
      "cell_type": "code",
      "source": [
        "latitude = 37.7749\n",
        "longitude = -122.4194\n",
        "\n",
        "coordinates = '{:.2f},{:.2f}'.format(latitude, longitude)\n",
        "print(coordinates)\n",
        "\n"
      ],
      "metadata": {
        "colab": {
          "base_uri": "https://localhost:8080/"
        },
        "id": "hRDx65G_1YNk",
        "outputId": "8e2ecbed-11de-4f0a-dd3c-f0c07a7995d3"
      },
      "execution_count": 25,
      "outputs": [
        {
          "output_type": "stream",
          "name": "stdout",
          "text": [
            "37.77,-122.42\n"
          ]
        }
      ]
    }
  ]
}